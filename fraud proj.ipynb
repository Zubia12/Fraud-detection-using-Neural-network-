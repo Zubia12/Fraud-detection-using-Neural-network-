{
  "cells": [
    {
      "cell_type": "code",
      "execution_count": 2,
      "metadata": {
        "id": "dtxK3b4txnfE"
      },
      "outputs": [],
      "source": [
        "import pandas as pd  # Importing pandas for data manipulation and analysis\n",
        "import numpy as np  # Importing NumPy for numerical operations\n",
        "import keras  # Importing Keras for deep learning tasks\n",
        "from matplotlib import pyplot as plt  # Importing Matplotlib for data visualization\n",
        "\n",
        "np.random.seed(2)  # Setting a random seed for reproducibility\n"
      ]
    },
    {
      "cell_type": "code",
      "execution_count": 3,
      "metadata": {
        "colab": {
          "base_uri": "https://localhost:8080/"
        },
        "id": "n77bkLKMxqJJ",
        "outputId": "d5e24422-984d-43f6-c870-53647d1058c2"
      },
      "outputs": [
        {
          "name": "stdout",
          "output_type": "stream",
          "text": [
            "Warning: Looks like you're using an outdated `kagglehub` version (installed: 0.3.10), please consider upgrading to the latest version (0.3.12).\n",
            "Path to dataset files: C:\\Users\\mohsi\\.cache\\kagglehub\\datasets\\mlg-ulb\\creditcardfraud\\versions\\3\n"
          ]
        }
      ],
      "source": [
        "\n",
        "import kagglehub  # Importing kagglehub to download datasets from Kaggle\n",
        "\n",
        "# Download the latest version of the \"Credit Card Fraud\" dataset from Kaggle\n",
        "path = kagglehub.dataset_download(\"mlg-ulb/creditcardfraud\")\n",
        "\n",
        "# Print the local path where the dataset files are stored\n",
        "print(\"Path to dataset files:\", path)\n"
      ]
    },
    {
      "cell_type": "code",
      "execution_count": 4,
      "metadata": {
        "colab": {
          "base_uri": "https://localhost:8080/",
          "height": 235
        },
        "id": "MQ9Q7bIHHWM-",
        "outputId": "a848b605-b71d-4f8b-a810-5a7441536840"
      },
      "outputs": [
        {
          "name": "stdout",
          "output_type": "stream",
          "text": [
            "   Time        V1        V2        V3        V4        V5        V6        V7  \\\n",
            "0   0.0 -1.359807 -0.072781  2.536347  1.378155 -0.338321  0.462388  0.239599   \n",
            "1   0.0  1.191857  0.266151  0.166480  0.448154  0.060018 -0.082361 -0.078803   \n",
            "2   1.0 -1.358354 -1.340163  1.773209  0.379780 -0.503198  1.800499  0.791461   \n",
            "3   1.0 -0.966272 -0.185226  1.792993 -0.863291 -0.010309  1.247203  0.237609   \n",
            "4   2.0 -1.158233  0.877737  1.548718  0.403034 -0.407193  0.095921  0.592941   \n",
            "\n",
            "         V8        V9  ...       V21       V22       V23       V24       V25  \\\n",
            "0  0.098698  0.363787  ... -0.018307  0.277838 -0.110474  0.066928  0.128539   \n",
            "1  0.085102 -0.255425  ... -0.225775 -0.638672  0.101288 -0.339846  0.167170   \n",
            "2  0.247676 -1.514654  ...  0.247998  0.771679  0.909412 -0.689281 -0.327642   \n",
            "3  0.377436 -1.387024  ... -0.108300  0.005274 -0.190321 -1.175575  0.647376   \n",
            "4 -0.270533  0.817739  ... -0.009431  0.798278 -0.137458  0.141267 -0.206010   \n",
            "\n",
            "        V26       V27       V28  Amount  Class  \n",
            "0 -0.189115  0.133558 -0.021053  149.62      0  \n",
            "1  0.125895 -0.008983  0.014724    2.69      0  \n",
            "2 -0.139097 -0.055353 -0.059752  378.66      0  \n",
            "3 -0.221929  0.062723  0.061458  123.50      0  \n",
            "4  0.502292  0.219422  0.215153   69.99      0  \n",
            "\n",
            "[5 rows x 31 columns]\n"
          ]
        }
      ],
      "source": [
        "import pandas as pd  # Importing pandas for data manipulation\n",
        "import os  # Importing os to handle file paths\n",
        "\n",
        "# Define the file path where the dataset is stored\n",
        "file_path = r\"C:\\Users\\mohsi\\.cache\\kagglehub\\datasets\\mlg-ulb\\creditcardfraud\\versions\\3\\creditcard.csv\"\n",
        "\n",
        "# Check if the file exists before loading\n",
        "if os.path.exists(file_path):\n",
        "    # Load the dataset into a Pandas DataFrame\n",
        "    df = pd.read_csv(file_path)\n",
        "    \n",
        "    # Display the first 5 rows of the dataset\n",
        "    print(df.head())\n",
        "else:\n",
        "    print(f\"Error: File not found at {file_path}\")\n"
      ]
    },
    {
      "cell_type": "code",
      "execution_count": 5,
      "metadata": {
        "id": "5tAO_F7uIwgL"
      },
      "outputs": [
        {
          "name": "stdout",
          "output_type": "stream",
          "text": [
            "   Time        V1        V2        V3        V4        V5        V6        V7  \\\n",
            "0   0.0 -1.359807 -0.072781  2.536347  1.378155 -0.338321  0.462388  0.239599   \n",
            "1   0.0  1.191857  0.266151  0.166480  0.448154  0.060018 -0.082361 -0.078803   \n",
            "2   1.0 -1.358354 -1.340163  1.773209  0.379780 -0.503198  1.800499  0.791461   \n",
            "3   1.0 -0.966272 -0.185226  1.792993 -0.863291 -0.010309  1.247203  0.237609   \n",
            "4   2.0 -1.158233  0.877737  1.548718  0.403034 -0.407193  0.095921  0.592941   \n",
            "\n",
            "         V8        V9  ...       V21       V22       V23       V24       V25  \\\n",
            "0  0.098698  0.363787  ... -0.018307  0.277838 -0.110474  0.066928  0.128539   \n",
            "1  0.085102 -0.255425  ... -0.225775 -0.638672  0.101288 -0.339846  0.167170   \n",
            "2  0.247676 -1.514654  ...  0.247998  0.771679  0.909412 -0.689281 -0.327642   \n",
            "3  0.377436 -1.387024  ... -0.108300  0.005274 -0.190321 -1.175575  0.647376   \n",
            "4 -0.270533  0.817739  ... -0.009431  0.798278 -0.137458  0.141267 -0.206010   \n",
            "\n",
            "        V26       V27       V28  Amount  Class  \n",
            "0 -0.189115  0.133558 -0.021053  149.62      0  \n",
            "1  0.125895 -0.008983  0.014724    2.69      0  \n",
            "2 -0.139097 -0.055353 -0.059752  378.66      0  \n",
            "3 -0.221929  0.062723  0.061458  123.50      0  \n",
            "4  0.502292  0.219422  0.215153   69.99      0  \n",
            "\n",
            "[5 rows x 31 columns]\n"
          ]
        }
      ],
      "source": [
        "import pandas as pd  # Importing pandas for data handling\n",
        "import os  # Importing os to check file existence\n",
        "\n",
        "# Define the correct file path\n",
        "file_path = r\"C:\\Users\\mohsi\\.cache\\kagglehub\\datasets\\mlg-ulb\\creditcardfraud\\versions\\3\\creditcard.csv\"\n",
        "\n",
        "# Check if the file exists before loading\n",
        "if os.path.exists(file_path):\n",
        "    # Load the Credit Card Fraud dataset into a DataFrame\n",
        "    data = pd.read_csv(file_path)\n",
        "    \n",
        "    # Display the first 5 rows of the dataset\n",
        "    print(data.head())\n",
        "else:\n",
        "    print(f\"Error: File not found at {file_path}\")\n"
      ]
    },
    {
      "cell_type": "markdown",
      "metadata": {
        "id": "_x4MhtIsxnfN"
      },
      "source": [
        "## Data exploration"
      ]
    },
    {
      "cell_type": "code",
      "execution_count": 6,
      "metadata": {
        "colab": {
          "base_uri": "https://localhost:8080/",
          "height": 235
        },
        "id": "zSjepNHfxnfQ",
        "outputId": "0d36a433-52f9-4d52-bba1-ddfcfd45c55e"
      },
      "outputs": [
        {
          "data": {
            "text/html": [
              "<div>\n",
              "<style scoped>\n",
              "    .dataframe tbody tr th:only-of-type {\n",
              "        vertical-align: middle;\n",
              "    }\n",
              "\n",
              "    .dataframe tbody tr th {\n",
              "        vertical-align: top;\n",
              "    }\n",
              "\n",
              "    .dataframe thead th {\n",
              "        text-align: right;\n",
              "    }\n",
              "</style>\n",
              "<table border=\"1\" class=\"dataframe\">\n",
              "  <thead>\n",
              "    <tr style=\"text-align: right;\">\n",
              "      <th></th>\n",
              "      <th>Time</th>\n",
              "      <th>V1</th>\n",
              "      <th>V2</th>\n",
              "      <th>V3</th>\n",
              "      <th>V4</th>\n",
              "      <th>V5</th>\n",
              "      <th>V6</th>\n",
              "      <th>V7</th>\n",
              "      <th>V8</th>\n",
              "      <th>V9</th>\n",
              "      <th>...</th>\n",
              "      <th>V21</th>\n",
              "      <th>V22</th>\n",
              "      <th>V23</th>\n",
              "      <th>V24</th>\n",
              "      <th>V25</th>\n",
              "      <th>V26</th>\n",
              "      <th>V27</th>\n",
              "      <th>V28</th>\n",
              "      <th>Amount</th>\n",
              "      <th>Class</th>\n",
              "    </tr>\n",
              "  </thead>\n",
              "  <tbody>\n",
              "    <tr>\n",
              "      <th>0</th>\n",
              "      <td>0.0</td>\n",
              "      <td>-1.359807</td>\n",
              "      <td>-0.072781</td>\n",
              "      <td>2.536347</td>\n",
              "      <td>1.378155</td>\n",
              "      <td>-0.338321</td>\n",
              "      <td>0.462388</td>\n",
              "      <td>0.239599</td>\n",
              "      <td>0.098698</td>\n",
              "      <td>0.363787</td>\n",
              "      <td>...</td>\n",
              "      <td>-0.018307</td>\n",
              "      <td>0.277838</td>\n",
              "      <td>-0.110474</td>\n",
              "      <td>0.066928</td>\n",
              "      <td>0.128539</td>\n",
              "      <td>-0.189115</td>\n",
              "      <td>0.133558</td>\n",
              "      <td>-0.021053</td>\n",
              "      <td>149.62</td>\n",
              "      <td>0</td>\n",
              "    </tr>\n",
              "    <tr>\n",
              "      <th>1</th>\n",
              "      <td>0.0</td>\n",
              "      <td>1.191857</td>\n",
              "      <td>0.266151</td>\n",
              "      <td>0.166480</td>\n",
              "      <td>0.448154</td>\n",
              "      <td>0.060018</td>\n",
              "      <td>-0.082361</td>\n",
              "      <td>-0.078803</td>\n",
              "      <td>0.085102</td>\n",
              "      <td>-0.255425</td>\n",
              "      <td>...</td>\n",
              "      <td>-0.225775</td>\n",
              "      <td>-0.638672</td>\n",
              "      <td>0.101288</td>\n",
              "      <td>-0.339846</td>\n",
              "      <td>0.167170</td>\n",
              "      <td>0.125895</td>\n",
              "      <td>-0.008983</td>\n",
              "      <td>0.014724</td>\n",
              "      <td>2.69</td>\n",
              "      <td>0</td>\n",
              "    </tr>\n",
              "    <tr>\n",
              "      <th>2</th>\n",
              "      <td>1.0</td>\n",
              "      <td>-1.358354</td>\n",
              "      <td>-1.340163</td>\n",
              "      <td>1.773209</td>\n",
              "      <td>0.379780</td>\n",
              "      <td>-0.503198</td>\n",
              "      <td>1.800499</td>\n",
              "      <td>0.791461</td>\n",
              "      <td>0.247676</td>\n",
              "      <td>-1.514654</td>\n",
              "      <td>...</td>\n",
              "      <td>0.247998</td>\n",
              "      <td>0.771679</td>\n",
              "      <td>0.909412</td>\n",
              "      <td>-0.689281</td>\n",
              "      <td>-0.327642</td>\n",
              "      <td>-0.139097</td>\n",
              "      <td>-0.055353</td>\n",
              "      <td>-0.059752</td>\n",
              "      <td>378.66</td>\n",
              "      <td>0</td>\n",
              "    </tr>\n",
              "    <tr>\n",
              "      <th>3</th>\n",
              "      <td>1.0</td>\n",
              "      <td>-0.966272</td>\n",
              "      <td>-0.185226</td>\n",
              "      <td>1.792993</td>\n",
              "      <td>-0.863291</td>\n",
              "      <td>-0.010309</td>\n",
              "      <td>1.247203</td>\n",
              "      <td>0.237609</td>\n",
              "      <td>0.377436</td>\n",
              "      <td>-1.387024</td>\n",
              "      <td>...</td>\n",
              "      <td>-0.108300</td>\n",
              "      <td>0.005274</td>\n",
              "      <td>-0.190321</td>\n",
              "      <td>-1.175575</td>\n",
              "      <td>0.647376</td>\n",
              "      <td>-0.221929</td>\n",
              "      <td>0.062723</td>\n",
              "      <td>0.061458</td>\n",
              "      <td>123.50</td>\n",
              "      <td>0</td>\n",
              "    </tr>\n",
              "    <tr>\n",
              "      <th>4</th>\n",
              "      <td>2.0</td>\n",
              "      <td>-1.158233</td>\n",
              "      <td>0.877737</td>\n",
              "      <td>1.548718</td>\n",
              "      <td>0.403034</td>\n",
              "      <td>-0.407193</td>\n",
              "      <td>0.095921</td>\n",
              "      <td>0.592941</td>\n",
              "      <td>-0.270533</td>\n",
              "      <td>0.817739</td>\n",
              "      <td>...</td>\n",
              "      <td>-0.009431</td>\n",
              "      <td>0.798278</td>\n",
              "      <td>-0.137458</td>\n",
              "      <td>0.141267</td>\n",
              "      <td>-0.206010</td>\n",
              "      <td>0.502292</td>\n",
              "      <td>0.219422</td>\n",
              "      <td>0.215153</td>\n",
              "      <td>69.99</td>\n",
              "      <td>0</td>\n",
              "    </tr>\n",
              "  </tbody>\n",
              "</table>\n",
              "<p>5 rows × 31 columns</p>\n",
              "</div>"
            ],
            "text/plain": [
              "   Time        V1        V2        V3        V4        V5        V6        V7  \\\n",
              "0   0.0 -1.359807 -0.072781  2.536347  1.378155 -0.338321  0.462388  0.239599   \n",
              "1   0.0  1.191857  0.266151  0.166480  0.448154  0.060018 -0.082361 -0.078803   \n",
              "2   1.0 -1.358354 -1.340163  1.773209  0.379780 -0.503198  1.800499  0.791461   \n",
              "3   1.0 -0.966272 -0.185226  1.792993 -0.863291 -0.010309  1.247203  0.237609   \n",
              "4   2.0 -1.158233  0.877737  1.548718  0.403034 -0.407193  0.095921  0.592941   \n",
              "\n",
              "         V8        V9  ...       V21       V22       V23       V24       V25  \\\n",
              "0  0.098698  0.363787  ... -0.018307  0.277838 -0.110474  0.066928  0.128539   \n",
              "1  0.085102 -0.255425  ... -0.225775 -0.638672  0.101288 -0.339846  0.167170   \n",
              "2  0.247676 -1.514654  ...  0.247998  0.771679  0.909412 -0.689281 -0.327642   \n",
              "3  0.377436 -1.387024  ... -0.108300  0.005274 -0.190321 -1.175575  0.647376   \n",
              "4 -0.270533  0.817739  ... -0.009431  0.798278 -0.137458  0.141267 -0.206010   \n",
              "\n",
              "        V26       V27       V28  Amount  Class  \n",
              "0 -0.189115  0.133558 -0.021053  149.62      0  \n",
              "1  0.125895 -0.008983  0.014724    2.69      0  \n",
              "2 -0.139097 -0.055353 -0.059752  378.66      0  \n",
              "3 -0.221929  0.062723  0.061458  123.50      0  \n",
              "4  0.502292  0.219422  0.215153   69.99      0  \n",
              "\n",
              "[5 rows x 31 columns]"
            ]
          },
          "execution_count": 6,
          "metadata": {},
          "output_type": "execute_result"
        }
      ],
      "source": [
        "# Display the first 5 rows of the dataset\n",
        "data.head()\n"
      ]
    },
    {
      "cell_type": "code",
      "execution_count": 7,
      "metadata": {
        "colab": {
          "base_uri": "https://localhost:8080/"
        },
        "id": "APBuId0oxnfS",
        "outputId": "190e09a2-ef2c-4d74-db6c-02d3b9b71bb7"
      },
      "outputs": [
        {
          "data": {
            "text/plain": [
              "284807"
            ]
          },
          "execution_count": 7,
          "metadata": {},
          "output_type": "execute_result"
        }
      ],
      "source": [
        "# Get the total number of rows in the dataset\n",
        "len(data)\n"
      ]
    },
    {
      "cell_type": "code",
      "execution_count": 8,
      "metadata": {
        "colab": {
          "base_uri": "https://localhost:8080/",
          "height": 349
        },
        "id": "MODzLl-WxnfT",
        "outputId": "a57cb9b5-6bf9-4565-e5cb-de48d0fa30cb"
      },
      "outputs": [
        {
          "data": {
            "text/html": [
              "<div>\n",
              "<style scoped>\n",
              "    .dataframe tbody tr th:only-of-type {\n",
              "        vertical-align: middle;\n",
              "    }\n",
              "\n",
              "    .dataframe tbody tr th {\n",
              "        vertical-align: top;\n",
              "    }\n",
              "\n",
              "    .dataframe thead th {\n",
              "        text-align: right;\n",
              "    }\n",
              "</style>\n",
              "<table border=\"1\" class=\"dataframe\">\n",
              "  <thead>\n",
              "    <tr style=\"text-align: right;\">\n",
              "      <th></th>\n",
              "      <th>Time</th>\n",
              "      <th>V1</th>\n",
              "      <th>V2</th>\n",
              "      <th>V3</th>\n",
              "      <th>V4</th>\n",
              "      <th>V5</th>\n",
              "      <th>V6</th>\n",
              "      <th>V7</th>\n",
              "      <th>V8</th>\n",
              "      <th>V9</th>\n",
              "      <th>...</th>\n",
              "      <th>V21</th>\n",
              "      <th>V22</th>\n",
              "      <th>V23</th>\n",
              "      <th>V24</th>\n",
              "      <th>V25</th>\n",
              "      <th>V26</th>\n",
              "      <th>V27</th>\n",
              "      <th>V28</th>\n",
              "      <th>Amount</th>\n",
              "      <th>Class</th>\n",
              "    </tr>\n",
              "  </thead>\n",
              "  <tbody>\n",
              "    <tr>\n",
              "      <th>count</th>\n",
              "      <td>284807.000000</td>\n",
              "      <td>2.848070e+05</td>\n",
              "      <td>2.848070e+05</td>\n",
              "      <td>2.848070e+05</td>\n",
              "      <td>2.848070e+05</td>\n",
              "      <td>2.848070e+05</td>\n",
              "      <td>2.848070e+05</td>\n",
              "      <td>2.848070e+05</td>\n",
              "      <td>2.848070e+05</td>\n",
              "      <td>2.848070e+05</td>\n",
              "      <td>...</td>\n",
              "      <td>2.848070e+05</td>\n",
              "      <td>2.848070e+05</td>\n",
              "      <td>2.848070e+05</td>\n",
              "      <td>2.848070e+05</td>\n",
              "      <td>2.848070e+05</td>\n",
              "      <td>2.848070e+05</td>\n",
              "      <td>2.848070e+05</td>\n",
              "      <td>2.848070e+05</td>\n",
              "      <td>284807.000000</td>\n",
              "      <td>284807.000000</td>\n",
              "    </tr>\n",
              "    <tr>\n",
              "      <th>mean</th>\n",
              "      <td>94813.859575</td>\n",
              "      <td>1.168375e-15</td>\n",
              "      <td>3.416908e-16</td>\n",
              "      <td>-1.379537e-15</td>\n",
              "      <td>2.074095e-15</td>\n",
              "      <td>9.604066e-16</td>\n",
              "      <td>1.487313e-15</td>\n",
              "      <td>-5.556467e-16</td>\n",
              "      <td>1.213481e-16</td>\n",
              "      <td>-2.406331e-15</td>\n",
              "      <td>...</td>\n",
              "      <td>1.654067e-16</td>\n",
              "      <td>-3.568593e-16</td>\n",
              "      <td>2.578648e-16</td>\n",
              "      <td>4.473266e-15</td>\n",
              "      <td>5.340915e-16</td>\n",
              "      <td>1.683437e-15</td>\n",
              "      <td>-3.660091e-16</td>\n",
              "      <td>-1.227390e-16</td>\n",
              "      <td>88.349619</td>\n",
              "      <td>0.001727</td>\n",
              "    </tr>\n",
              "    <tr>\n",
              "      <th>std</th>\n",
              "      <td>47488.145955</td>\n",
              "      <td>1.958696e+00</td>\n",
              "      <td>1.651309e+00</td>\n",
              "      <td>1.516255e+00</td>\n",
              "      <td>1.415869e+00</td>\n",
              "      <td>1.380247e+00</td>\n",
              "      <td>1.332271e+00</td>\n",
              "      <td>1.237094e+00</td>\n",
              "      <td>1.194353e+00</td>\n",
              "      <td>1.098632e+00</td>\n",
              "      <td>...</td>\n",
              "      <td>7.345240e-01</td>\n",
              "      <td>7.257016e-01</td>\n",
              "      <td>6.244603e-01</td>\n",
              "      <td>6.056471e-01</td>\n",
              "      <td>5.212781e-01</td>\n",
              "      <td>4.822270e-01</td>\n",
              "      <td>4.036325e-01</td>\n",
              "      <td>3.300833e-01</td>\n",
              "      <td>250.120109</td>\n",
              "      <td>0.041527</td>\n",
              "    </tr>\n",
              "    <tr>\n",
              "      <th>min</th>\n",
              "      <td>0.000000</td>\n",
              "      <td>-5.640751e+01</td>\n",
              "      <td>-7.271573e+01</td>\n",
              "      <td>-4.832559e+01</td>\n",
              "      <td>-5.683171e+00</td>\n",
              "      <td>-1.137433e+02</td>\n",
              "      <td>-2.616051e+01</td>\n",
              "      <td>-4.355724e+01</td>\n",
              "      <td>-7.321672e+01</td>\n",
              "      <td>-1.343407e+01</td>\n",
              "      <td>...</td>\n",
              "      <td>-3.483038e+01</td>\n",
              "      <td>-1.093314e+01</td>\n",
              "      <td>-4.480774e+01</td>\n",
              "      <td>-2.836627e+00</td>\n",
              "      <td>-1.029540e+01</td>\n",
              "      <td>-2.604551e+00</td>\n",
              "      <td>-2.256568e+01</td>\n",
              "      <td>-1.543008e+01</td>\n",
              "      <td>0.000000</td>\n",
              "      <td>0.000000</td>\n",
              "    </tr>\n",
              "    <tr>\n",
              "      <th>25%</th>\n",
              "      <td>54201.500000</td>\n",
              "      <td>-9.203734e-01</td>\n",
              "      <td>-5.985499e-01</td>\n",
              "      <td>-8.903648e-01</td>\n",
              "      <td>-8.486401e-01</td>\n",
              "      <td>-6.915971e-01</td>\n",
              "      <td>-7.682956e-01</td>\n",
              "      <td>-5.540759e-01</td>\n",
              "      <td>-2.086297e-01</td>\n",
              "      <td>-6.430976e-01</td>\n",
              "      <td>...</td>\n",
              "      <td>-2.283949e-01</td>\n",
              "      <td>-5.423504e-01</td>\n",
              "      <td>-1.618463e-01</td>\n",
              "      <td>-3.545861e-01</td>\n",
              "      <td>-3.171451e-01</td>\n",
              "      <td>-3.269839e-01</td>\n",
              "      <td>-7.083953e-02</td>\n",
              "      <td>-5.295979e-02</td>\n",
              "      <td>5.600000</td>\n",
              "      <td>0.000000</td>\n",
              "    </tr>\n",
              "    <tr>\n",
              "      <th>50%</th>\n",
              "      <td>84692.000000</td>\n",
              "      <td>1.810880e-02</td>\n",
              "      <td>6.548556e-02</td>\n",
              "      <td>1.798463e-01</td>\n",
              "      <td>-1.984653e-02</td>\n",
              "      <td>-5.433583e-02</td>\n",
              "      <td>-2.741871e-01</td>\n",
              "      <td>4.010308e-02</td>\n",
              "      <td>2.235804e-02</td>\n",
              "      <td>-5.142873e-02</td>\n",
              "      <td>...</td>\n",
              "      <td>-2.945017e-02</td>\n",
              "      <td>6.781943e-03</td>\n",
              "      <td>-1.119293e-02</td>\n",
              "      <td>4.097606e-02</td>\n",
              "      <td>1.659350e-02</td>\n",
              "      <td>-5.213911e-02</td>\n",
              "      <td>1.342146e-03</td>\n",
              "      <td>1.124383e-02</td>\n",
              "      <td>22.000000</td>\n",
              "      <td>0.000000</td>\n",
              "    </tr>\n",
              "    <tr>\n",
              "      <th>75%</th>\n",
              "      <td>139320.500000</td>\n",
              "      <td>1.315642e+00</td>\n",
              "      <td>8.037239e-01</td>\n",
              "      <td>1.027196e+00</td>\n",
              "      <td>7.433413e-01</td>\n",
              "      <td>6.119264e-01</td>\n",
              "      <td>3.985649e-01</td>\n",
              "      <td>5.704361e-01</td>\n",
              "      <td>3.273459e-01</td>\n",
              "      <td>5.971390e-01</td>\n",
              "      <td>...</td>\n",
              "      <td>1.863772e-01</td>\n",
              "      <td>5.285536e-01</td>\n",
              "      <td>1.476421e-01</td>\n",
              "      <td>4.395266e-01</td>\n",
              "      <td>3.507156e-01</td>\n",
              "      <td>2.409522e-01</td>\n",
              "      <td>9.104512e-02</td>\n",
              "      <td>7.827995e-02</td>\n",
              "      <td>77.165000</td>\n",
              "      <td>0.000000</td>\n",
              "    </tr>\n",
              "    <tr>\n",
              "      <th>max</th>\n",
              "      <td>172792.000000</td>\n",
              "      <td>2.454930e+00</td>\n",
              "      <td>2.205773e+01</td>\n",
              "      <td>9.382558e+00</td>\n",
              "      <td>1.687534e+01</td>\n",
              "      <td>3.480167e+01</td>\n",
              "      <td>7.330163e+01</td>\n",
              "      <td>1.205895e+02</td>\n",
              "      <td>2.000721e+01</td>\n",
              "      <td>1.559499e+01</td>\n",
              "      <td>...</td>\n",
              "      <td>2.720284e+01</td>\n",
              "      <td>1.050309e+01</td>\n",
              "      <td>2.252841e+01</td>\n",
              "      <td>4.584549e+00</td>\n",
              "      <td>7.519589e+00</td>\n",
              "      <td>3.517346e+00</td>\n",
              "      <td>3.161220e+01</td>\n",
              "      <td>3.384781e+01</td>\n",
              "      <td>25691.160000</td>\n",
              "      <td>1.000000</td>\n",
              "    </tr>\n",
              "  </tbody>\n",
              "</table>\n",
              "<p>8 rows × 31 columns</p>\n",
              "</div>"
            ],
            "text/plain": [
              "                Time            V1            V2            V3            V4  \\\n",
              "count  284807.000000  2.848070e+05  2.848070e+05  2.848070e+05  2.848070e+05   \n",
              "mean    94813.859575  1.168375e-15  3.416908e-16 -1.379537e-15  2.074095e-15   \n",
              "std     47488.145955  1.958696e+00  1.651309e+00  1.516255e+00  1.415869e+00   \n",
              "min         0.000000 -5.640751e+01 -7.271573e+01 -4.832559e+01 -5.683171e+00   \n",
              "25%     54201.500000 -9.203734e-01 -5.985499e-01 -8.903648e-01 -8.486401e-01   \n",
              "50%     84692.000000  1.810880e-02  6.548556e-02  1.798463e-01 -1.984653e-02   \n",
              "75%    139320.500000  1.315642e+00  8.037239e-01  1.027196e+00  7.433413e-01   \n",
              "max    172792.000000  2.454930e+00  2.205773e+01  9.382558e+00  1.687534e+01   \n",
              "\n",
              "                 V5            V6            V7            V8            V9  \\\n",
              "count  2.848070e+05  2.848070e+05  2.848070e+05  2.848070e+05  2.848070e+05   \n",
              "mean   9.604066e-16  1.487313e-15 -5.556467e-16  1.213481e-16 -2.406331e-15   \n",
              "std    1.380247e+00  1.332271e+00  1.237094e+00  1.194353e+00  1.098632e+00   \n",
              "min   -1.137433e+02 -2.616051e+01 -4.355724e+01 -7.321672e+01 -1.343407e+01   \n",
              "25%   -6.915971e-01 -7.682956e-01 -5.540759e-01 -2.086297e-01 -6.430976e-01   \n",
              "50%   -5.433583e-02 -2.741871e-01  4.010308e-02  2.235804e-02 -5.142873e-02   \n",
              "75%    6.119264e-01  3.985649e-01  5.704361e-01  3.273459e-01  5.971390e-01   \n",
              "max    3.480167e+01  7.330163e+01  1.205895e+02  2.000721e+01  1.559499e+01   \n",
              "\n",
              "       ...           V21           V22           V23           V24  \\\n",
              "count  ...  2.848070e+05  2.848070e+05  2.848070e+05  2.848070e+05   \n",
              "mean   ...  1.654067e-16 -3.568593e-16  2.578648e-16  4.473266e-15   \n",
              "std    ...  7.345240e-01  7.257016e-01  6.244603e-01  6.056471e-01   \n",
              "min    ... -3.483038e+01 -1.093314e+01 -4.480774e+01 -2.836627e+00   \n",
              "25%    ... -2.283949e-01 -5.423504e-01 -1.618463e-01 -3.545861e-01   \n",
              "50%    ... -2.945017e-02  6.781943e-03 -1.119293e-02  4.097606e-02   \n",
              "75%    ...  1.863772e-01  5.285536e-01  1.476421e-01  4.395266e-01   \n",
              "max    ...  2.720284e+01  1.050309e+01  2.252841e+01  4.584549e+00   \n",
              "\n",
              "                V25           V26           V27           V28         Amount  \\\n",
              "count  2.848070e+05  2.848070e+05  2.848070e+05  2.848070e+05  284807.000000   \n",
              "mean   5.340915e-16  1.683437e-15 -3.660091e-16 -1.227390e-16      88.349619   \n",
              "std    5.212781e-01  4.822270e-01  4.036325e-01  3.300833e-01     250.120109   \n",
              "min   -1.029540e+01 -2.604551e+00 -2.256568e+01 -1.543008e+01       0.000000   \n",
              "25%   -3.171451e-01 -3.269839e-01 -7.083953e-02 -5.295979e-02       5.600000   \n",
              "50%    1.659350e-02 -5.213911e-02  1.342146e-03  1.124383e-02      22.000000   \n",
              "75%    3.507156e-01  2.409522e-01  9.104512e-02  7.827995e-02      77.165000   \n",
              "max    7.519589e+00  3.517346e+00  3.161220e+01  3.384781e+01   25691.160000   \n",
              "\n",
              "               Class  \n",
              "count  284807.000000  \n",
              "mean        0.001727  \n",
              "std         0.041527  \n",
              "min         0.000000  \n",
              "25%         0.000000  \n",
              "50%         0.000000  \n",
              "75%         0.000000  \n",
              "max         1.000000  \n",
              "\n",
              "[8 rows x 31 columns]"
            ]
          },
          "execution_count": 8,
          "metadata": {},
          "output_type": "execute_result"
        }
      ],
      "source": [
        "data.describe()"
      ]
    },
    {
      "cell_type": "code",
      "execution_count": 9,
      "metadata": {
        "colab": {
          "base_uri": "https://localhost:8080/",
          "height": 1000
        },
        "id": "iJFf2CYrxnfV",
        "outputId": "60631cf3-43be-4fae-b3e4-5165816fca12"
      },
      "outputs": [
        {
          "data": {
            "image/png": "[encoded data removed]",
            "text/plain": [
              "<Figure size 1500x2000 with 31 Axes>"
            ]
          },
          "metadata": {},
          "output_type": "display_data"
        }
      ],
      "source": [
        "## Plot Histograms for all numerical columns\n",
        "\n",
        "fig = plt.figure(figsize=(15, 20))  # Set figure size\n",
        "plt.suptitle('Histograms of Numerical Columns', fontsize=20)  # Set a title for all histograms\n",
        "\n",
        "# Loop through all columns in the dataset\n",
        "for i in range(data.shape[1]):\n",
        "    plt.subplot(8, 4, i + 1)  # Create subplots (8 rows, 4 columns) for multiple histograms\n",
        "    f = plt.gca()  # Get the current axis\n",
        "    f.set_title(data.columns.values[i])  # Set title as column name\n",
        "\n",
        "    vals = np.size(data.iloc[:, i].unique())  # Get the number of unique values in the column\n",
        "    if vals >= 100:\n",
        "        vals = 100  # Limit the number of bins to a maximum of 100 for better visualization\n",
        "\n",
        "    plt.hist(data.iloc[:, i], bins=vals, color='#3F5D7D')  # Plot histogram with specified color\n",
        "\n",
        "plt.tight_layout(rect=[0, 0.03, 1, 0.95])  # Adjust layout to fit all subplots neatly\n"
      ]
    },
    {
      "cell_type": "markdown",
      "metadata": {
        "id": "sBVkDUiwxnfX"
      },
      "source": [
        "- we can observe a large prevalence of Class 0 (non fraudulent)."
      ]
    },
    {
      "cell_type": "code",
      "execution_count": 10,
      "metadata": {
        "colab": {
          "base_uri": "https://localhost:8080/"
        },
        "id": "1NzZowddxnfY",
        "outputId": "43e8e27a-fffa-4d89-eca2-feefd3a91d10"
      },
      "outputs": [
        {
          "name": "stdout",
          "output_type": "stream",
          "text": [
            "Number of fraudulent transactions = 492 or 172 per 100,000 transactions in the dataset\n"
          ]
        }
      ],
      "source": [
        "# Print the number of fraudulent transactions in the dataset\n",
        "print('Number of fraudulent transactions = %d or %d per 100,000 transactions in the dataset'\n",
        "      % (len(data[data.Class == 1]), len(data[data.Class == 1]) / len(data) * 100000))\n"
      ]
    },
    {
      "cell_type": "code",
      "execution_count": 11,
      "metadata": {
        "colab": {
          "base_uri": "https://localhost:8080/",
          "height": 910
        },
        "id": "cOI4oUyaxnfa",
        "outputId": "e7757128-789e-4670-f551-7e318f47cbbd"
      },
      "outputs": [
        {
          "data": {
            "image/png": "[encoded data removed]",
            "text/plain": [
              "<Figure size 2000x1000 with 1 Axes>"
            ]
          },
          "metadata": {},
          "output_type": "display_data"
        }
      ],
      "source": [
        "## Linear Correlation with Response Variable\n",
        "# (Note: Models like RandomForest are not linear, so correlation might not be the best indicator for them)\n",
        "\n",
        "# Drop the 'Class' column to only keep numerical features for correlation analysis\n",
        "data2 = data.drop(columns=['Class'])\n",
        "\n",
        "# Compute correlation of each feature with the target variable ('Class') and plot as a bar chart\n",
        "data2.corrwith(data.Class).plot.bar(\n",
        "        figsize=(20, 10),  # Set figure size\n",
        "        title=\"Correlation with Class (Fraudulent or Not)\",  # Title of the plot\n",
        "        fontsize=15,  # Set font size for readability\n",
        "        rot=45,  # Rotate x-axis labels for better visibility\n",
        "        grid=True  # Add grid lines for better readability\n",
        ")\n",
        "\n",
        "# Show the plot\n",
        "plt.show()\n"
      ]
    },
    {
      "cell_type": "markdown",
      "metadata": {
        "id": "toN9dnnOxnfb"
      },
      "source": [
        "## Pre-processing"
      ]
    },
    {
      "cell_type": "code",
      "execution_count": 12,
      "metadata": {
        "id": "iqYKyX1Xxnfc"
      },
      "outputs": [],
      "source": [
        "from sklearn.preprocessing import StandardScaler  # Import StandardScaler for feature scaling\n",
        "\n",
        "# Normalize the 'Amount' column using StandardScaler to bring values into a standard range\n",
        "data['normalizedAmount'] = StandardScaler().fit_transform(data['Amount'].values.reshape(-1, 1))\n",
        "\n",
        "# Drop the original 'Amount' column since we now have a normalized version\n",
        "data = data.drop(['Amount'], axis=1)\n"
      ]
    },
    {
      "cell_type": "code",
      "execution_count": 13,
      "metadata": {},
      "outputs": [],
      "source": [
        "# Save the modified dataset to a CSV file\n",
        "data.to_csv('normalized_dataset.csv', index=False)\n"
      ]
    },
    {
      "cell_type": "code",
      "execution_count": 14,
      "metadata": {
        "colab": {
          "base_uri": "https://localhost:8080/",
          "height": 235
        },
        "id": "Kkv00NU3xnfc",
        "outputId": "700783cd-815d-474c-d14c-4ab7380f5a4d"
      },
      "outputs": [
        {
          "data": {
            "text/html": [
              "<div>\n",
              "<style scoped>\n",
              "    .dataframe tbody tr th:only-of-type {\n",
              "        vertical-align: middle;\n",
              "    }\n",
              "\n",
              "    .dataframe tbody tr th {\n",
              "        vertical-align: top;\n",
              "    }\n",
              "\n",
              "    .dataframe thead th {\n",
              "        text-align: right;\n",
              "    }\n",
              "</style>\n",
              "<table border=\"1\" class=\"dataframe\">\n",
              "  <thead>\n",
              "    <tr style=\"text-align: right;\">\n",
              "      <th></th>\n",
              "      <th>Time</th>\n",
              "      <th>V1</th>\n",
              "      <th>V2</th>\n",
              "      <th>V3</th>\n",
              "      <th>V4</th>\n",
              "      <th>V5</th>\n",
              "      <th>V6</th>\n",
              "      <th>V7</th>\n",
              "      <th>V8</th>\n",
              "      <th>V9</th>\n",
              "      <th>...</th>\n",
              "      <th>V21</th>\n",
              "      <th>V22</th>\n",
              "      <th>V23</th>\n",
              "      <th>V24</th>\n",
              "      <th>V25</th>\n",
              "      <th>V26</th>\n",
              "      <th>V27</th>\n",
              "      <th>V28</th>\n",
              "      <th>Class</th>\n",
              "      <th>normalizedAmount</th>\n",
              "    </tr>\n",
              "  </thead>\n",
              "  <tbody>\n",
              "    <tr>\n",
              "      <th>0</th>\n",
              "      <td>0.0</td>\n",
              "      <td>-1.359807</td>\n",
              "      <td>-0.072781</td>\n",
              "      <td>2.536347</td>\n",
              "      <td>1.378155</td>\n",
              "      <td>-0.338321</td>\n",
              "      <td>0.462388</td>\n",
              "      <td>0.239599</td>\n",
              "      <td>0.098698</td>\n",
              "      <td>0.363787</td>\n",
              "      <td>...</td>\n",
              "      <td>-0.018307</td>\n",
              "      <td>0.277838</td>\n",
              "      <td>-0.110474</td>\n",
              "      <td>0.066928</td>\n",
              "      <td>0.128539</td>\n",
              "      <td>-0.189115</td>\n",
              "      <td>0.133558</td>\n",
              "      <td>-0.021053</td>\n",
              "      <td>0</td>\n",
              "      <td>0.244964</td>\n",
              "    </tr>\n",
              "    <tr>\n",
              "      <th>1</th>\n",
              "      <td>0.0</td>\n",
              "      <td>1.191857</td>\n",
              "      <td>0.266151</td>\n",
              "      <td>0.166480</td>\n",
              "      <td>0.448154</td>\n",
              "      <td>0.060018</td>\n",
              "      <td>-0.082361</td>\n",
              "      <td>-0.078803</td>\n",
              "      <td>0.085102</td>\n",
              "      <td>-0.255425</td>\n",
              "      <td>...</td>\n",
              "      <td>-0.225775</td>\n",
              "      <td>-0.638672</td>\n",
              "      <td>0.101288</td>\n",
              "      <td>-0.339846</td>\n",
              "      <td>0.167170</td>\n",
              "      <td>0.125895</td>\n",
              "      <td>-0.008983</td>\n",
              "      <td>0.014724</td>\n",
              "      <td>0</td>\n",
              "      <td>-0.342475</td>\n",
              "    </tr>\n",
              "    <tr>\n",
              "      <th>2</th>\n",
              "      <td>1.0</td>\n",
              "      <td>-1.358354</td>\n",
              "      <td>-1.340163</td>\n",
              "      <td>1.773209</td>\n",
              "      <td>0.379780</td>\n",
              "      <td>-0.503198</td>\n",
              "      <td>1.800499</td>\n",
              "      <td>0.791461</td>\n",
              "      <td>0.247676</td>\n",
              "      <td>-1.514654</td>\n",
              "      <td>...</td>\n",
              "      <td>0.247998</td>\n",
              "      <td>0.771679</td>\n",
              "      <td>0.909412</td>\n",
              "      <td>-0.689281</td>\n",
              "      <td>-0.327642</td>\n",
              "      <td>-0.139097</td>\n",
              "      <td>-0.055353</td>\n",
              "      <td>-0.059752</td>\n",
              "      <td>0</td>\n",
              "      <td>1.160686</td>\n",
              "    </tr>\n",
              "    <tr>\n",
              "      <th>3</th>\n",
              "      <td>1.0</td>\n",
              "      <td>-0.966272</td>\n",
              "      <td>-0.185226</td>\n",
              "      <td>1.792993</td>\n",
              "      <td>-0.863291</td>\n",
              "      <td>-0.010309</td>\n",
              "      <td>1.247203</td>\n",
              "      <td>0.237609</td>\n",
              "      <td>0.377436</td>\n",
              "      <td>-1.387024</td>\n",
              "      <td>...</td>\n",
              "      <td>-0.108300</td>\n",
              "      <td>0.005274</td>\n",
              "      <td>-0.190321</td>\n",
              "      <td>-1.175575</td>\n",
              "      <td>0.647376</td>\n",
              "      <td>-0.221929</td>\n",
              "      <td>0.062723</td>\n",
              "      <td>0.061458</td>\n",
              "      <td>0</td>\n",
              "      <td>0.140534</td>\n",
              "    </tr>\n",
              "    <tr>\n",
              "      <th>4</th>\n",
              "      <td>2.0</td>\n",
              "      <td>-1.158233</td>\n",
              "      <td>0.877737</td>\n",
              "      <td>1.548718</td>\n",
              "      <td>0.403034</td>\n",
              "      <td>-0.407193</td>\n",
              "      <td>0.095921</td>\n",
              "      <td>0.592941</td>\n",
              "      <td>-0.270533</td>\n",
              "      <td>0.817739</td>\n",
              "      <td>...</td>\n",
              "      <td>-0.009431</td>\n",
              "      <td>0.798278</td>\n",
              "      <td>-0.137458</td>\n",
              "      <td>0.141267</td>\n",
              "      <td>-0.206010</td>\n",
              "      <td>0.502292</td>\n",
              "      <td>0.219422</td>\n",
              "      <td>0.215153</td>\n",
              "      <td>0</td>\n",
              "      <td>-0.073403</td>\n",
              "    </tr>\n",
              "  </tbody>\n",
              "</table>\n",
              "<p>5 rows × 31 columns</p>\n",
              "</div>"
            ],
            "text/plain": [
              "   Time        V1        V2        V3        V4        V5        V6        V7  \\\n",
              "0   0.0 -1.359807 -0.072781  2.536347  1.378155 -0.338321  0.462388  0.239599   \n",
              "1   0.0  1.191857  0.266151  0.166480  0.448154  0.060018 -0.082361 -0.078803   \n",
              "2   1.0 -1.358354 -1.340163  1.773209  0.379780 -0.503198  1.800499  0.791461   \n",
              "3   1.0 -0.966272 -0.185226  1.792993 -0.863291 -0.010309  1.247203  0.237609   \n",
              "4   2.0 -1.158233  0.877737  1.548718  0.403034 -0.407193  0.095921  0.592941   \n",
              "\n",
              "         V8        V9  ...       V21       V22       V23       V24       V25  \\\n",
              "0  0.098698  0.363787  ... -0.018307  0.277838 -0.110474  0.066928  0.128539   \n",
              "1  0.085102 -0.255425  ... -0.225775 -0.638672  0.101288 -0.339846  0.167170   \n",
              "2  0.247676 -1.514654  ...  0.247998  0.771679  0.909412 -0.689281 -0.327642   \n",
              "3  0.377436 -1.387024  ... -0.108300  0.005274 -0.190321 -1.175575  0.647376   \n",
              "4 -0.270533  0.817739  ... -0.009431  0.798278 -0.137458  0.141267 -0.206010   \n",
              "\n",
              "        V26       V27       V28  Class  normalizedAmount  \n",
              "0 -0.189115  0.133558 -0.021053      0          0.244964  \n",
              "1  0.125895 -0.008983  0.014724      0         -0.342475  \n",
              "2 -0.139097 -0.055353 -0.059752      0          1.160686  \n",
              "3 -0.221929  0.062723  0.061458      0          0.140534  \n",
              "4  0.502292  0.219422  0.215153      0         -0.073403  \n",
              "\n",
              "[5 rows x 31 columns]"
            ]
          },
          "execution_count": 14,
          "metadata": {},
          "output_type": "execute_result"
        }
      ],
      "source": [
        "data.head()"
      ]
    },
    {
      "cell_type": "code",
      "execution_count": 15,
      "metadata": {
        "colab": {
          "base_uri": "https://localhost:8080/",
          "height": 235
        },
        "id": "dRq30simxnfd",
        "outputId": "361893e1-dd85-4409-a9e5-a6246930b38b"
      },
      "outputs": [
        {
          "data": {
            "text/html": [
              "<div>\n",
              "<style scoped>\n",
              "    .dataframe tbody tr th:only-of-type {\n",
              "        vertical-align: middle;\n",
              "    }\n",
              "\n",
              "    .dataframe tbody tr th {\n",
              "        vertical-align: top;\n",
              "    }\n",
              "\n",
              "    .dataframe thead th {\n",
              "        text-align: right;\n",
              "    }\n",
              "</style>\n",
              "<table border=\"1\" class=\"dataframe\">\n",
              "  <thead>\n",
              "    <tr style=\"text-align: right;\">\n",
              "      <th></th>\n",
              "      <th>V1</th>\n",
              "      <th>V2</th>\n",
              "      <th>V3</th>\n",
              "      <th>V4</th>\n",
              "      <th>V5</th>\n",
              "      <th>V6</th>\n",
              "      <th>V7</th>\n",
              "      <th>V8</th>\n",
              "      <th>V9</th>\n",
              "      <th>V10</th>\n",
              "      <th>...</th>\n",
              "      <th>V21</th>\n",
              "      <th>V22</th>\n",
              "      <th>V23</th>\n",
              "      <th>V24</th>\n",
              "      <th>V25</th>\n",
              "      <th>V26</th>\n",
              "      <th>V27</th>\n",
              "      <th>V28</th>\n",
              "      <th>Class</th>\n",
              "      <th>normalizedAmount</th>\n",
              "    </tr>\n",
              "  </thead>\n",
              "  <tbody>\n",
              "    <tr>\n",
              "      <th>0</th>\n",
              "      <td>-1.359807</td>\n",
              "      <td>-0.072781</td>\n",
              "      <td>2.536347</td>\n",
              "      <td>1.378155</td>\n",
              "      <td>-0.338321</td>\n",
              "      <td>0.462388</td>\n",
              "      <td>0.239599</td>\n",
              "      <td>0.098698</td>\n",
              "      <td>0.363787</td>\n",
              "      <td>0.090794</td>\n",
              "      <td>...</td>\n",
              "      <td>-0.018307</td>\n",
              "      <td>0.277838</td>\n",
              "      <td>-0.110474</td>\n",
              "      <td>0.066928</td>\n",
              "      <td>0.128539</td>\n",
              "      <td>-0.189115</td>\n",
              "      <td>0.133558</td>\n",
              "      <td>-0.021053</td>\n",
              "      <td>0</td>\n",
              "      <td>0.244964</td>\n",
              "    </tr>\n",
              "    <tr>\n",
              "      <th>1</th>\n",
              "      <td>1.191857</td>\n",
              "      <td>0.266151</td>\n",
              "      <td>0.166480</td>\n",
              "      <td>0.448154</td>\n",
              "      <td>0.060018</td>\n",
              "      <td>-0.082361</td>\n",
              "      <td>-0.078803</td>\n",
              "      <td>0.085102</td>\n",
              "      <td>-0.255425</td>\n",
              "      <td>-0.166974</td>\n",
              "      <td>...</td>\n",
              "      <td>-0.225775</td>\n",
              "      <td>-0.638672</td>\n",
              "      <td>0.101288</td>\n",
              "      <td>-0.339846</td>\n",
              "      <td>0.167170</td>\n",
              "      <td>0.125895</td>\n",
              "      <td>-0.008983</td>\n",
              "      <td>0.014724</td>\n",
              "      <td>0</td>\n",
              "      <td>-0.342475</td>\n",
              "    </tr>\n",
              "    <tr>\n",
              "      <th>2</th>\n",
              "      <td>-1.358354</td>\n",
              "      <td>-1.340163</td>\n",
              "      <td>1.773209</td>\n",
              "      <td>0.379780</td>\n",
              "      <td>-0.503198</td>\n",
              "      <td>1.800499</td>\n",
              "      <td>0.791461</td>\n",
              "      <td>0.247676</td>\n",
              "      <td>-1.514654</td>\n",
              "      <td>0.207643</td>\n",
              "      <td>...</td>\n",
              "      <td>0.247998</td>\n",
              "      <td>0.771679</td>\n",
              "      <td>0.909412</td>\n",
              "      <td>-0.689281</td>\n",
              "      <td>-0.327642</td>\n",
              "      <td>-0.139097</td>\n",
              "      <td>-0.055353</td>\n",
              "      <td>-0.059752</td>\n",
              "      <td>0</td>\n",
              "      <td>1.160686</td>\n",
              "    </tr>\n",
              "    <tr>\n",
              "      <th>3</th>\n",
              "      <td>-0.966272</td>\n",
              "      <td>-0.185226</td>\n",
              "      <td>1.792993</td>\n",
              "      <td>-0.863291</td>\n",
              "      <td>-0.010309</td>\n",
              "      <td>1.247203</td>\n",
              "      <td>0.237609</td>\n",
              "      <td>0.377436</td>\n",
              "      <td>-1.387024</td>\n",
              "      <td>-0.054952</td>\n",
              "      <td>...</td>\n",
              "      <td>-0.108300</td>\n",
              "      <td>0.005274</td>\n",
              "      <td>-0.190321</td>\n",
              "      <td>-1.175575</td>\n",
              "      <td>0.647376</td>\n",
              "      <td>-0.221929</td>\n",
              "      <td>0.062723</td>\n",
              "      <td>0.061458</td>\n",
              "      <td>0</td>\n",
              "      <td>0.140534</td>\n",
              "    </tr>\n",
              "    <tr>\n",
              "      <th>4</th>\n",
              "      <td>-1.158233</td>\n",
              "      <td>0.877737</td>\n",
              "      <td>1.548718</td>\n",
              "      <td>0.403034</td>\n",
              "      <td>-0.407193</td>\n",
              "      <td>0.095921</td>\n",
              "      <td>0.592941</td>\n",
              "      <td>-0.270533</td>\n",
              "      <td>0.817739</td>\n",
              "      <td>0.753074</td>\n",
              "      <td>...</td>\n",
              "      <td>-0.009431</td>\n",
              "      <td>0.798278</td>\n",
              "      <td>-0.137458</td>\n",
              "      <td>0.141267</td>\n",
              "      <td>-0.206010</td>\n",
              "      <td>0.502292</td>\n",
              "      <td>0.219422</td>\n",
              "      <td>0.215153</td>\n",
              "      <td>0</td>\n",
              "      <td>-0.073403</td>\n",
              "    </tr>\n",
              "  </tbody>\n",
              "</table>\n",
              "<p>5 rows × 30 columns</p>\n",
              "</div>"
            ],
            "text/plain": [
              "         V1        V2        V3        V4        V5        V6        V7  \\\n",
              "0 -1.359807 -0.072781  2.536347  1.378155 -0.338321  0.462388  0.239599   \n",
              "1  1.191857  0.266151  0.166480  0.448154  0.060018 -0.082361 -0.078803   \n",
              "2 -1.358354 -1.340163  1.773209  0.379780 -0.503198  1.800499  0.791461   \n",
              "3 -0.966272 -0.185226  1.792993 -0.863291 -0.010309  1.247203  0.237609   \n",
              "4 -1.158233  0.877737  1.548718  0.403034 -0.407193  0.095921  0.592941   \n",
              "\n",
              "         V8        V9       V10  ...       V21       V22       V23       V24  \\\n",
              "0  0.098698  0.363787  0.090794  ... -0.018307  0.277838 -0.110474  0.066928   \n",
              "1  0.085102 -0.255425 -0.166974  ... -0.225775 -0.638672  0.101288 -0.339846   \n",
              "2  0.247676 -1.514654  0.207643  ...  0.247998  0.771679  0.909412 -0.689281   \n",
              "3  0.377436 -1.387024 -0.054952  ... -0.108300  0.005274 -0.190321 -1.175575   \n",
              "4 -0.270533  0.817739  0.753074  ... -0.009431  0.798278 -0.137458  0.141267   \n",
              "\n",
              "        V25       V26       V27       V28  Class  normalizedAmount  \n",
              "0  0.128539 -0.189115  0.133558 -0.021053      0          0.244964  \n",
              "1  0.167170  0.125895 -0.008983  0.014724      0         -0.342475  \n",
              "2 -0.327642 -0.139097 -0.055353 -0.059752      0          1.160686  \n",
              "3  0.647376 -0.221929  0.062723  0.061458      0          0.140534  \n",
              "4 -0.206010  0.502292  0.219422  0.215153      0         -0.073403  \n",
              "\n",
              "[5 rows x 30 columns]"
            ]
          },
          "execution_count": 15,
          "metadata": {},
          "output_type": "execute_result"
        }
      ],
      "source": [
        "# Drop the 'Time' column since it's not needed for the analysis\n",
        "data = data.drop(['Time'], axis=1)\n",
        "\n",
        "# Display the first 5 rows of the modified dataset\n",
        "data.head()\n"
      ]
    },
    {
      "cell_type": "code",
      "execution_count": 16,
      "metadata": {
        "id": "vy30tPbvxnfd"
      },
      "outputs": [],
      "source": [
        "# Define feature matrix (X) by selecting all columns except 'Class'\n",
        "X = data.iloc[:, data.columns != 'Class']\n",
        "\n",
        "# Define target variable (y) by selecting only the 'Class' column (fraud or not)\n",
        "y = data.iloc[:, data.columns == 'Class']\n"
      ]
    },
    {
      "cell_type": "code",
      "execution_count": 17,
      "metadata": {
        "colab": {
          "base_uri": "https://localhost:8080/",
          "height": 206
        },
        "id": "zHkeIvLYxnfe",
        "outputId": "94ac7a58-695d-437f-c3e7-88c8bc29aedc"
      },
      "outputs": [
        {
          "data": {
            "text/html": [
              "<div>\n",
              "<style scoped>\n",
              "    .dataframe tbody tr th:only-of-type {\n",
              "        vertical-align: middle;\n",
              "    }\n",
              "\n",
              "    .dataframe tbody tr th {\n",
              "        vertical-align: top;\n",
              "    }\n",
              "\n",
              "    .dataframe thead th {\n",
              "        text-align: right;\n",
              "    }\n",
              "</style>\n",
              "<table border=\"1\" class=\"dataframe\">\n",
              "  <thead>\n",
              "    <tr style=\"text-align: right;\">\n",
              "      <th></th>\n",
              "      <th>Class</th>\n",
              "    </tr>\n",
              "  </thead>\n",
              "  <tbody>\n",
              "    <tr>\n",
              "      <th>0</th>\n",
              "      <td>0</td>\n",
              "    </tr>\n",
              "    <tr>\n",
              "      <th>1</th>\n",
              "      <td>0</td>\n",
              "    </tr>\n",
              "    <tr>\n",
              "      <th>2</th>\n",
              "      <td>0</td>\n",
              "    </tr>\n",
              "    <tr>\n",
              "      <th>3</th>\n",
              "      <td>0</td>\n",
              "    </tr>\n",
              "    <tr>\n",
              "      <th>4</th>\n",
              "      <td>0</td>\n",
              "    </tr>\n",
              "  </tbody>\n",
              "</table>\n",
              "</div>"
            ],
            "text/plain": [
              "   Class\n",
              "0      0\n",
              "1      0\n",
              "2      0\n",
              "3      0\n",
              "4      0"
            ]
          },
          "execution_count": 17,
          "metadata": {},
          "output_type": "execute_result"
        }
      ],
      "source": [
        "y.head()"
      ]
    },
    {
      "cell_type": "code",
      "execution_count": 18,
      "metadata": {
        "id": "V6df27Nzxnfe"
      },
      "outputs": [],
      "source": [
        "from sklearn.model_selection import train_test_split  # Import train_test_split for splitting data\n",
        "\n",
        "# Split the dataset into training (70%) and testing (30%) sets\n",
        "X_train, X_test, y_train, y_test = train_test_split(X, y, test_size=0.3, random_state=0)\n"
      ]
    },
    {
      "cell_type": "code",
      "execution_count": 19,
      "metadata": {
        "colab": {
          "base_uri": "https://localhost:8080/"
        },
        "id": "Jav6D0Ghxnff",
        "outputId": "56de1d8f-c4a2-4267-a81e-4ac86b5288dc"
      },
      "outputs": [
        {
          "data": {
            "text/plain": [
              "(199364, 29)"
            ]
          },
          "execution_count": 19,
          "metadata": {},
          "output_type": "execute_result"
        }
      ],
      "source": [
        "X_train.shape"
      ]
    },
    {
      "cell_type": "code",
      "execution_count": 20,
      "metadata": {
        "colab": {
          "base_uri": "https://localhost:8080/"
        },
        "id": "uOZGde3Bxnff",
        "outputId": "121f44b5-56ce-4ff8-c318-ec2b5ad2ed46"
      },
      "outputs": [
        {
          "data": {
            "text/plain": [
              "(85443, 29)"
            ]
          },
          "execution_count": 20,
          "metadata": {},
          "output_type": "execute_result"
        }
      ],
      "source": [
        "X_test.shape"
      ]
    },
    {
      "cell_type": "markdown",
      "metadata": {
        "id": "f3Kw46gbxnff"
      },
      "source": [
        "## Random Forest for compaartive purpose in the end of results"
      ]
    },
    {
      "cell_type": "code",
      "execution_count": 21,
      "metadata": {
        "id": "JFPIGZVrxnfg"
      },
      "outputs": [],
      "source": [
        "from sklearn.ensemble import RandomForestClassifier  # Import RandomForestClassifier for fraud detection\n"
      ]
    },
    {
      "cell_type": "code",
      "execution_count": 22,
      "metadata": {
        "id": "AdwZY__dxnfg"
      },
      "outputs": [],
      "source": [
        "# Initialize a RandomForestClassifier with 100 decision trees (estimators)\n",
        "\n",
        "random_forest = RandomForestClassifier(n_estimators=100)"
      ]
    },
    {
      "cell_type": "code",
      "execution_count": 23,
      "metadata": {
        "colab": {
          "base_uri": "https://localhost:8080/",
          "height": 80
        },
        "id": "Sto7eoE8xnfg",
        "outputId": "5b9cefbc-8b1f-4e80-c811-8ab3dff8e01e"
      },
      "outputs": [
        {
          "data": {
            "text/html": [
              "<style>#sk-container-id-1 {\n",
              "  /* Definition of color scheme common for light and dark mode */\n",
              "  --sklearn-color-text: #000;\n",
              "  --sklearn-color-text-muted: #666;\n",
              "  --sklearn-color-line: gray;\n",
              "  /* Definition of color scheme for unfitted estimators */\n",
              "  --sklearn-color-unfitted-level-0: #fff5e6;\n",
              "  --sklearn-color-unfitted-level-1: #f6e4d2;\n",
              "  --sklearn-color-unfitted-level-2: #ffe0b3;\n",
              "  --sklearn-color-unfitted-level-3: chocolate;\n",
              "  /* Definition of color scheme for fitted estimators */\n",
              "  --sklearn-color-fitted-level-0: #f0f8ff;\n",
              "  --sklearn-color-fitted-level-1: #d4ebff;\n",
              "  --sklearn-color-fitted-level-2: #b3dbfd;\n",
              "  --sklearn-color-fitted-level-3: cornflowerblue;\n",
              "\n",
              "  /* Specific color for light theme */\n",
              "  --sklearn-color-text-on-default-background: var(--sg-text-color, var(--theme-code-foreground, var(--jp-content-font-color1, black)));\n",
              "  --sklearn-color-background: var(--sg-background-color, var(--theme-background, var(--jp-layout-color0, white)));\n",
              "  --sklearn-color-border-box: var(--sg-text-color, var(--theme-code-foreground, var(--jp-content-font-color1, black)));\n",
              "  --sklearn-color-icon: #696969;\n",
              "\n",
              "  @media (prefers-color-scheme: dark) {\n",
              "    /* Redefinition of color scheme for dark theme */\n",
              "    --sklearn-color-text-on-default-background: var(--sg-text-color, var(--theme-code-foreground, var(--jp-content-font-color1, white)));\n",
              "    --sklearn-color-background: var(--sg-background-color, var(--theme-background, var(--jp-layout-color0, #111)));\n",
              "    --sklearn-color-border-box: var(--sg-text-color, var(--theme-code-foreground, var(--jp-content-font-color1, white)));\n",
              "    --sklearn-color-icon: #878787;\n",
              "  }\n",
              "}\n",
              "\n",
              "#sk-container-id-1 {\n",
              "  color: var(--sklearn-color-text);\n",
              "}\n",
              "\n",
              "#sk-container-id-1 pre {\n",
              "  padding: 0;\n",
              "}\n",
              "\n",
              "#sk-container-id-1 input.sk-hidden--visually {\n",
              "  border: 0;\n",
              "  clip: rect(1px 1px 1px 1px);\n",
              "  clip: rect(1px, 1px, 1px, 1px);\n",
              "  height: 1px;\n",
              "  margin: -1px;\n",
              "  overflow: hidden;\n",
              "  padding: 0;\n",
              "  position: absolute;\n",
              "  width: 1px;\n",
              "}\n",
              "\n",
              "#sk-container-id-1 div.sk-dashed-wrapped {\n",
              "  border: 1px dashed var(--sklearn-color-line);\n",
              "  margin: 0 0.4em 0.5em 0.4em;\n",
              "  box-sizing: border-box;\n",
              "  padding-bottom: 0.4em;\n",
              "  background-color: var(--sklearn-color-background);\n",
              "}\n",
              "\n",
              "#sk-container-id-1 div.sk-container {\n",
              "  /* jupyter's `normalize.less` sets `[hidden] { display: none; }`\n",
              "     but bootstrap.min.css set `[hidden] { display: none !important; }`\n",
              "     so we also need the `!important` here to be able to override the\n",
              "     default hidden behavior on the sphinx rendered scikit-learn.org.\n",
              "     See: https://github.com/scikit-learn/scikit-learn/issues/21755 */\n",
              "  display: inline-block !important;\n",
              "  position: relative;\n",
              "}\n",
              "\n",
              "#sk-container-id-1 div.sk-text-repr-fallback {\n",
              "  display: none;\n",
              "}\n",
              "\n",
              "div.sk-parallel-item,\n",
              "div.sk-serial,\n",
              "div.sk-item {\n",
              "  /* draw centered vertical line to link estimators */\n",
              "  background-image: linear-gradient(var(--sklearn-color-text-on-default-background), var(--sklearn-color-text-on-default-background));\n",
              "  background-size: 2px 100%;\n",
              "  background-repeat: no-repeat;\n",
              "  background-position: center center;\n",
              "}\n",
              "\n",
              "/* Parallel-specific style estimator block */\n",
              "\n",
              "#sk-container-id-1 div.sk-parallel-item::after {\n",
              "  content: \"\";\n",
              "  width: 100%;\n",
              "  border-bottom: 2px solid var(--sklearn-color-text-on-default-background);\n",
              "  flex-grow: 1;\n",
              "}\n",
              "\n",
              "#sk-container-id-1 div.sk-parallel {\n",
              "  display: flex;\n",
              "  align-items: stretch;\n",
              "  justify-content: center;\n",
              "  background-color: var(--sklearn-color-background);\n",
              "  position: relative;\n",
              "}\n",
              "\n",
              "#sk-container-id-1 div.sk-parallel-item {\n",
              "  display: flex;\n",
              "  flex-direction: column;\n",
              "}\n",
              "\n",
              "#sk-container-id-1 div.sk-parallel-item:first-child::after {\n",
              "  align-self: flex-end;\n",
              "  width: 50%;\n",
              "}\n",
              "\n",
              "#sk-container-id-1 div.sk-parallel-item:last-child::after {\n",
              "  align-self: flex-start;\n",
              "  width: 50%;\n",
              "}\n",
              "\n",
              "#sk-container-id-1 div.sk-parallel-item:only-child::after {\n",
              "  width: 0;\n",
              "}\n",
              "\n",
              "/* Serial-specific style estimator block */\n",
              "\n",
              "#sk-container-id-1 div.sk-serial {\n",
              "  display: flex;\n",
              "  flex-direction: column;\n",
              "  align-items: center;\n",
              "  background-color: var(--sklearn-color-background);\n",
              "  padding-right: 1em;\n",
              "  padding-left: 1em;\n",
              "}\n",
              "\n",
              "\n",
              "/* Toggleable style: style used for estimator/Pipeline/ColumnTransformer box that is\n",
              "clickable and can be expanded/collapsed.\n",
              "- Pipeline and ColumnTransformer use this feature and define the default style\n",
              "- Estimators will overwrite some part of the style using the `sk-estimator` class\n",
              "*/\n",
              "\n",
              "/* Pipeline and ColumnTransformer style (default) */\n",
              "\n",
              "#sk-container-id-1 div.sk-toggleable {\n",
              "  /* Default theme specific background. It is overwritten whether we have a\n",
              "  specific estimator or a Pipeline/ColumnTransformer */\n",
              "  background-color: var(--sklearn-color-background);\n",
              "}\n",
              "\n",
              "/* Toggleable label */\n",
              "#sk-container-id-1 label.sk-toggleable__label {\n",
              "  cursor: pointer;\n",
              "  display: flex;\n",
              "  width: 100%;\n",
              "  margin-bottom: 0;\n",
              "  padding: 0.5em;\n",
              "  box-sizing: border-box;\n",
              "  text-align: center;\n",
              "  align-items: start;\n",
              "  justify-content: space-between;\n",
              "  gap: 0.5em;\n",
              "}\n",
              "\n",
              "#sk-container-id-1 label.sk-toggleable__label .caption {\n",
              "  font-size: 0.6rem;\n",
              "  font-weight: lighter;\n",
              "  color: var(--sklearn-color-text-muted);\n",
              "}\n",
              "\n",
              "#sk-container-id-1 label.sk-toggleable__label-arrow:before {\n",
              "  /* Arrow on the left of the label */\n",
              "  content: \"▸\";\n",
              "  float: left;\n",
              "  margin-right: 0.25em;\n",
              "  color: var(--sklearn-color-icon);\n",
              "}\n",
              "\n",
              "#sk-container-id-1 label.sk-toggleable__label-arrow:hover:before {\n",
              "  color: var(--sklearn-color-text);\n",
              "}\n",
              "\n",
              "/* Toggleable content - dropdown */\n",
              "\n",
              "#sk-container-id-1 div.sk-toggleable__content {\n",
              "  max-height: 0;\n",
              "  max-width: 0;\n",
              "  overflow: hidden;\n",
              "  text-align: left;\n",
              "  /* unfitted */\n",
              "  background-color: var(--sklearn-color-unfitted-level-0);\n",
              "}\n",
              "\n",
              "#sk-container-id-1 div.sk-toggleable__content.fitted {\n",
              "  /* fitted */\n",
              "  background-color: var(--sklearn-color-fitted-level-0);\n",
              "}\n",
              "\n",
              "#sk-container-id-1 div.sk-toggleable__content pre {\n",
              "  margin: 0.2em;\n",
              "  border-radius: 0.25em;\n",
              "  color: var(--sklearn-color-text);\n",
              "  /* unfitted */\n",
              "  background-color: var(--sklearn-color-unfitted-level-0);\n",
              "}\n",
              "\n",
              "#sk-container-id-1 div.sk-toggleable__content.fitted pre {\n",
              "  /* unfitted */\n",
              "  background-color: var(--sklearn-color-fitted-level-0);\n",
              "}\n",
              "\n",
              "#sk-container-id-1 input.sk-toggleable__control:checked~div.sk-toggleable__content {\n",
              "  /* Expand drop-down */\n",
              "  max-height: 200px;\n",
              "  max-width: 100%;\n",
              "  overflow: auto;\n",
              "}\n",
              "\n",
              "#sk-container-id-1 input.sk-toggleable__control:checked~label.sk-toggleable__label-arrow:before {\n",
              "  content: \"▾\";\n",
              "}\n",
              "\n",
              "/* Pipeline/ColumnTransformer-specific style */\n",
              "\n",
              "#sk-container-id-1 div.sk-label input.sk-toggleable__control:checked~label.sk-toggleable__label {\n",
              "  color: var(--sklearn-color-text);\n",
              "  background-color: var(--sklearn-color-unfitted-level-2);\n",
              "}\n",
              "\n",
              "#sk-container-id-1 div.sk-label.fitted input.sk-toggleable__control:checked~label.sk-toggleable__label {\n",
              "  background-color: var(--sklearn-color-fitted-level-2);\n",
              "}\n",
              "\n",
              "/* Estimator-specific style */\n",
              "\n",
              "/* Colorize estimator box */\n",
              "#sk-container-id-1 div.sk-estimator input.sk-toggleable__control:checked~label.sk-toggleable__label {\n",
              "  /* unfitted */\n",
              "  background-color: var(--sklearn-color-unfitted-level-2);\n",
              "}\n",
              "\n",
              "#sk-container-id-1 div.sk-estimator.fitted input.sk-toggleable__control:checked~label.sk-toggleable__label {\n",
              "  /* fitted */\n",
              "  background-color: var(--sklearn-color-fitted-level-2);\n",
              "}\n",
              "\n",
              "#sk-container-id-1 div.sk-label label.sk-toggleable__label,\n",
              "#sk-container-id-1 div.sk-label label {\n",
              "  /* The background is the default theme color */\n",
              "  color: var(--sklearn-color-text-on-default-background);\n",
              "}\n",
              "\n",
              "/* On hover, darken the color of the background */\n",
              "#sk-container-id-1 div.sk-label:hover label.sk-toggleable__label {\n",
              "  color: var(--sklearn-color-text);\n",
              "  background-color: var(--sklearn-color-unfitted-level-2);\n",
              "}\n",
              "\n",
              "/* Label box, darken color on hover, fitted */\n",
              "#sk-container-id-1 div.sk-label.fitted:hover label.sk-toggleable__label.fitted {\n",
              "  color: var(--sklearn-color-text);\n",
              "  background-color: var(--sklearn-color-fitted-level-2);\n",
              "}\n",
              "\n",
              "/* Estimator label */\n",
              "\n",
              "#sk-container-id-1 div.sk-label label {\n",
              "  font-family: monospace;\n",
              "  font-weight: bold;\n",
              "  display: inline-block;\n",
              "  line-height: 1.2em;\n",
              "}\n",
              "\n",
              "#sk-container-id-1 div.sk-label-container {\n",
              "  text-align: center;\n",
              "}\n",
              "\n",
              "/* Estimator-specific */\n",
              "#sk-container-id-1 div.sk-estimator {\n",
              "  font-family: monospace;\n",
              "  border: 1px dotted var(--sklearn-color-border-box);\n",
              "  border-radius: 0.25em;\n",
              "  box-sizing: border-box;\n",
              "  margin-bottom: 0.5em;\n",
              "  /* unfitted */\n",
              "  background-color: var(--sklearn-color-unfitted-level-0);\n",
              "}\n",
              "\n",
              "#sk-container-id-1 div.sk-estimator.fitted {\n",
              "  /* fitted */\n",
              "  background-color: var(--sklearn-color-fitted-level-0);\n",
              "}\n",
              "\n",
              "/* on hover */\n",
              "#sk-container-id-1 div.sk-estimator:hover {\n",
              "  /* unfitted */\n",
              "  background-color: var(--sklearn-color-unfitted-level-2);\n",
              "}\n",
              "\n",
              "#sk-container-id-1 div.sk-estimator.fitted:hover {\n",
              "  /* fitted */\n",
              "  background-color: var(--sklearn-color-fitted-level-2);\n",
              "}\n",
              "\n",
              "/* Specification for estimator info (e.g. \"i\" and \"?\") */\n",
              "\n",
              "/* Common style for \"i\" and \"?\" */\n",
              "\n",
              ".sk-estimator-doc-link,\n",
              "a:link.sk-estimator-doc-link,\n",
              "a:visited.sk-estimator-doc-link {\n",
              "  float: right;\n",
              "  font-size: smaller;\n",
              "  line-height: 1em;\n",
              "  font-family: monospace;\n",
              "  background-color: var(--sklearn-color-background);\n",
              "  border-radius: 1em;\n",
              "  height: 1em;\n",
              "  width: 1em;\n",
              "  text-decoration: none !important;\n",
              "  margin-left: 0.5em;\n",
              "  text-align: center;\n",
              "  /* unfitted */\n",
              "  border: var(--sklearn-color-unfitted-level-1) 1pt solid;\n",
              "  color: var(--sklearn-color-unfitted-level-1);\n",
              "}\n",
              "\n",
              ".sk-estimator-doc-link.fitted,\n",
              "a:link.sk-estimator-doc-link.fitted,\n",
              "a:visited.sk-estimator-doc-link.fitted {\n",
              "  /* fitted */\n",
              "  border: var(--sklearn-color-fitted-level-1) 1pt solid;\n",
              "  color: var(--sklearn-color-fitted-level-1);\n",
              "}\n",
              "\n",
              "/* On hover */\n",
              "div.sk-estimator:hover .sk-estimator-doc-link:hover,\n",
              ".sk-estimator-doc-link:hover,\n",
              "div.sk-label-container:hover .sk-estimator-doc-link:hover,\n",
              ".sk-estimator-doc-link:hover {\n",
              "  /* unfitted */\n",
              "  background-color: var(--sklearn-color-unfitted-level-3);\n",
              "  color: var(--sklearn-color-background);\n",
              "  text-decoration: none;\n",
              "}\n",
              "\n",
              "div.sk-estimator.fitted:hover .sk-estimator-doc-link.fitted:hover,\n",
              ".sk-estimator-doc-link.fitted:hover,\n",
              "div.sk-label-container:hover .sk-estimator-doc-link.fitted:hover,\n",
              ".sk-estimator-doc-link.fitted:hover {\n",
              "  /* fitted */\n",
              "  background-color: var(--sklearn-color-fitted-level-3);\n",
              "  color: var(--sklearn-color-background);\n",
              "  text-decoration: none;\n",
              "}\n",
              "\n",
              "/* Span, style for the box shown on hovering the info icon */\n",
              ".sk-estimator-doc-link span {\n",
              "  display: none;\n",
              "  z-index: 9999;\n",
              "  position: relative;\n",
              "  font-weight: normal;\n",
              "  right: .2ex;\n",
              "  padding: .5ex;\n",
              "  margin: .5ex;\n",
              "  width: min-content;\n",
              "  min-width: 20ex;\n",
              "  max-width: 50ex;\n",
              "  color: var(--sklearn-color-text);\n",
              "  box-shadow: 2pt 2pt 4pt #999;\n",
              "  /* unfitted */\n",
              "  background: var(--sklearn-color-unfitted-level-0);\n",
              "  border: .5pt solid var(--sklearn-color-unfitted-level-3);\n",
              "}\n",
              "\n",
              ".sk-estimator-doc-link.fitted span {\n",
              "  /* fitted */\n",
              "  background: var(--sklearn-color-fitted-level-0);\n",
              "  border: var(--sklearn-color-fitted-level-3);\n",
              "}\n",
              "\n",
              ".sk-estimator-doc-link:hover span {\n",
              "  display: block;\n",
              "}\n",
              "\n",
              "/* \"?\"-specific style due to the `<a>` HTML tag */\n",
              "\n",
              "#sk-container-id-1 a.estimator_doc_link {\n",
              "  float: right;\n",
              "  font-size: 1rem;\n",
              "  line-height: 1em;\n",
              "  font-family: monospace;\n",
              "  background-color: var(--sklearn-color-background);\n",
              "  border-radius: 1rem;\n",
              "  height: 1rem;\n",
              "  width: 1rem;\n",
              "  text-decoration: none;\n",
              "  /* unfitted */\n",
              "  color: var(--sklearn-color-unfitted-level-1);\n",
              "  border: var(--sklearn-color-unfitted-level-1) 1pt solid;\n",
              "}\n",
              "\n",
              "#sk-container-id-1 a.estimator_doc_link.fitted {\n",
              "  /* fitted */\n",
              "  border: var(--sklearn-color-fitted-level-1) 1pt solid;\n",
              "  color: var(--sklearn-color-fitted-level-1);\n",
              "}\n",
              "\n",
              "/* On hover */\n",
              "#sk-container-id-1 a.estimator_doc_link:hover {\n",
              "  /* unfitted */\n",
              "  background-color: var(--sklearn-color-unfitted-level-3);\n",
              "  color: var(--sklearn-color-background);\n",
              "  text-decoration: none;\n",
              "}\n",
              "\n",
              "#sk-container-id-1 a.estimator_doc_link.fitted:hover {\n",
              "  /* fitted */\n",
              "  background-color: var(--sklearn-color-fitted-level-3);\n",
              "}\n",
              "</style><div id=\"sk-container-id-1\" class=\"sk-top-container\"><div class=\"sk-text-repr-fallback\"><pre>RandomForestClassifier()</pre><b>In a Jupyter environment, please rerun this cell to show the HTML representation or trust the notebook. <br />On GitHub, the HTML representation is unable to render, please try loading this page with nbviewer.org.</b></div><div class=\"sk-container\" hidden><div class=\"sk-item\"><div class=\"sk-estimator fitted sk-toggleable\"><input class=\"sk-toggleable__control sk-hidden--visually\" id=\"sk-estimator-id-1\" type=\"checkbox\" checked><label for=\"sk-estimator-id-1\" class=\"sk-toggleable__label fitted sk-toggleable__label-arrow\"><div><div>RandomForestClassifier</div></div><div><a class=\"sk-estimator-doc-link fitted\" rel=\"noreferrer\" target=\"_blank\" href=\"https://scikit-learn.org/1.6/modules/generated/sklearn.ensemble.RandomForestClassifier.html\">?<span>Documentation for RandomForestClassifier</span></a><span class=\"sk-estimator-doc-link fitted\">i<span>Fitted</span></span></div></label><div class=\"sk-toggleable__content fitted\"><pre>RandomForestClassifier()</pre></div> </div></div></div></div>"
            ],
            "text/plain": [
              "RandomForestClassifier()"
            ]
          },
          "execution_count": 23,
          "metadata": {},
          "output_type": "execute_result"
        }
      ],
      "source": [
        "# Train the RandomForest model using the training dataset\n",
        "# `.ravel()` converts 'y_train' from a DataFrame to a 1D array, as required by the classifier\n",
        "\n",
        "random_forest.fit(X_train, y_train.values.ravel())\n"
      ]
    },
    {
      "cell_type": "code",
      "execution_count": 24,
      "metadata": {
        "id": "mxWIPvyLxnfh"
      },
      "outputs": [],
      "source": [
        "# Make predictions on the test dataset using the trained RandomForest model\n",
        "y_pred = random_forest.predict(X_test)\n"
      ]
    },
    {
      "cell_type": "code",
      "execution_count": 25,
      "metadata": {
        "colab": {
          "base_uri": "https://localhost:8080/"
        },
        "id": "ldj0mmGExnfh",
        "outputId": "e06d9114-af56-4356-bf7e-82ee0f5ab449"
      },
      "outputs": [
        {
          "data": {
            "text/plain": [
              "0.9995435553526912"
            ]
          },
          "execution_count": 25,
          "metadata": {},
          "output_type": "execute_result"
        }
      ],
      "source": [
        "random_forest.score(X_test,y_test)"
      ]
    },
    {
      "cell_type": "code",
      "execution_count": 26,
      "metadata": {
        "id": "L_nkueV7xnfh"
      },
      "outputs": [],
      "source": [
        "# Import necessary libraries for visualization and confusion matrix analysis\n",
        "import matplotlib.pyplot as plt\n",
        "import itertools\n",
        "from sklearn.metrics import confusion_matrix\n",
        "\n",
        "def plot_confusion_matrix(cm, classes, normalize=False, title='Confusion matrix', cmap=plt.cm.Blues):\n",
        "    \"\"\"\n",
        "    This function prints and plots the confusion matrix.\n",
        "    Normalization can be applied by setting `normalize=True`.\n",
        "    \"\"\"\n",
        "\n",
        "    if normalize:\n",
        "        # Normalize the confusion matrix by dividing each value by the sum of its row\n",
        "        cm = cm.astype('float') / cm.sum(axis=1)[:, np.newaxis]\n",
        "        print(\"Normalized confusion matrix\")\n",
        "    else:\n",
        "        print(\"Confusion matrix, without normalization\")\n",
        "\n",
        "    print(cm)  # Print the confusion matrix values\n",
        "\n",
        "    # Plot the confusion matrix as a heatmap\n",
        "    plt.imshow(cm, interpolation='nearest', cmap=cmap)\n",
        "    plt.title(title)  # Set title\n",
        "    plt.colorbar()  # Add color scale\n",
        "\n",
        "    # Set labels and ticks\n",
        "    tick_marks = np.arange(len(classes))\n",
        "    plt.xticks(tick_marks, classes, rotation=45)  # Rotate x-axis labels\n",
        "    plt.yticks(tick_marks, classes)\n",
        "\n",
        "    # Display values inside the confusion matrix\n",
        "    fmt = '.2f' if normalize else 'd'  # Formatting: 2 decimal places for normalized, integer otherwise\n",
        "    thresh = cm.max() / 2.  # Threshold for text color\n",
        "    for i, j in itertools.product(range(cm.shape[0]), range(cm.shape[1])):\n",
        "        plt.text(j, i, format(cm[i, j], fmt),\n",
        "                 horizontalalignment=\"center\",\n",
        "                 color=\"white\" if cm[i, j] > thresh else \"black\")\n",
        "\n",
        "    # Set axis labels\n",
        "    plt.ylabel('True label')\n",
        "    plt.xlabel('Predicted label')\n",
        "    plt.tight_layout()  # Adjust layout for better display\n"
      ]
    },
    {
      "cell_type": "code",
      "execution_count": 27,
      "metadata": {
        "colab": {
          "base_uri": "https://localhost:8080/",
          "height": 542
        },
        "id": "GbTMwpe-xnfi",
        "outputId": "79b1b2f7-6bb6-4187-b57b-b876269f3aee"
      },
      "outputs": [
        {
          "name": "stdout",
          "output_type": "stream",
          "text": [
            "Confusion matrix, without normalization\n",
            "[[85290     6]\n",
            " [   33   114]]\n"
          ]
        },
        {
          "data": {
            "image/png": "[encoded data removed]",
            "text/plain": [
              "<Figure size 640x480 with 2 Axes>"
            ]
          },
          "metadata": {},
          "output_type": "display_data"
        }
      ],
      "source": [
        "# Confusion matrix on the test dataset\n",
        "\n",
        "cnf_matrix = confusion_matrix(y_test,y_pred)\n",
        "\n",
        "plot_confusion_matrix(cnf_matrix,classes=[0,1])"
      ]
    },
    {
      "cell_type": "markdown",
      "metadata": {
        "id": "aoLZKacixnfi"
      },
      "source": [
        "- while only 6 regular transactions are wrongly predicted as fraudulent, the model only detects 78% of the fraudulent transactions. As a consequence 33 fraudulent transactions are not detected (False Negatives).\n",
        "- Let's see if we can improve this performance with other machine learning / deep learning models in the rest of the notebook."
      ]
    },
    {
      "cell_type": "code",
      "execution_count": 28,
      "metadata": {
        "colab": {
          "base_uri": "https://localhost:8080/"
        },
        "id": "9izmA_nixnfi",
        "outputId": "7757d123-2bf5-422e-bbd7-98749d5d7f28"
      },
      "outputs": [
        {
          "name": "stdout",
          "output_type": "stream",
          "text": [
            "Accuracy: 0.9995\tPrecision: 0.9500\tRecall: 0.7755\tF1-score: 0.8539\n"
          ]
        }
      ],
      "source": [
        "from sklearn.metrics import accuracy_score, f1_score, precision_score, recall_score\n",
        "\n",
        "# Calculate evaluation metrics\n",
        "acc = accuracy_score(y_test, y_pred)\n",
        "prec = precision_score(y_test, y_pred)\n",
        "rec = recall_score(y_test, y_pred)\n",
        "f1 = f1_score(y_test, y_pred)\n",
        "\n",
        "# Print the results\n",
        "print(f'Accuracy: {acc:.4f}\\tPrecision: {prec:.4f}\\tRecall: {rec:.4f}\\tF1-score: {f1:.4f}')\n"
      ]
    },
    {
      "cell_type": "code",
      "execution_count": 29,
      "metadata": {
        "colab": {
          "base_uri": "https://localhost:8080/",
          "height": 506
        },
        "id": "ax6sNchkKpAW",
        "outputId": "c1a86e57-a3bb-47e2-f74d-9915edc621fe"
      },
      "outputs": [
        {
          "name": "stderr",
          "output_type": "stream",
          "text": [
            "c:\\Users\\mohsi\\AppData\\Local\\Programs\\Python\\Python311\\Lib\\site-packages\\sklearn\\utils\\validation.py:1408: DataConversionWarning: A column-vector y was passed when a 1d array was expected. Please change the shape of y to (n_samples, ), for example using ravel().\n",
            "  y = column_or_1d(y, warn=True)\n"
          ]
        },
        {
          "name": "stdout",
          "output_type": "stream",
          "text": [
            "Accuracy: 0.9991\tPrecision: 0.8485\tRecall: 0.5714\tF1-score: 0.6829\n"
          ]
        },
        {
          "data": {
            "image/png": "[encoded data removed]",
            "text/plain": [
              "<Figure size 640x480 with 1 Axes>"
            ]
          },
          "metadata": {},
          "output_type": "display_data"
        }
      ],
      "source": [
        "import matplotlib.pyplot as plt\n",
        "from sklearn.metrics import accuracy_score, f1_score, precision_score, recall_score, RocCurveDisplay\n",
        "from sklearn.model_selection import train_test_split\n",
        "from sklearn.linear_model import LogisticRegression\n",
        "\n",
        "# Assuming X and y are defined\n",
        "X_train, X_test, y_train, y_test = train_test_split(X, y, test_size=0.2, random_state=42)\n",
        "\n",
        "# Train the model\n",
        "model = LogisticRegression()\n",
        "model.fit(X_train, y_train)\n",
        "\n",
        "# Make predictions (class labels)\n",
        "y_pred = model.predict(X_test)  # Ensure we use predict(), NOT predict_proba()\n",
        "\n",
        "# Calculate evaluation metrics\n",
        "acc = accuracy_score(y_test, y_pred)\n",
        "prec = precision_score(y_test, y_pred)\n",
        "rec = recall_score(y_test, y_pred)\n",
        "f1 = f1_score(y_test, y_pred)\n",
        "\n",
        "# Print results\n",
        "print(f'Accuracy: {acc:.4f}\\tPrecision: {prec:.4f}\\tRecall: {rec:.4f}\\tF1-score: {f1:.4f}')\n",
        "\n",
        "# Get predicted probabilities for ROC curve\n",
        "y_pred_proba = model.predict_proba(X_test)[:, 1]  # Get probability for class 1\n",
        "\n",
        "# Plot ROC Curve\n",
        "RocCurveDisplay.from_predictions(y_test, y_pred_proba)\n",
        "plt.show()\n"
      ]
    },
    {
      "cell_type": "markdown",
      "metadata": {
        "id": "sW4f1sGUxnfi"
      },
      "source": [
        "Let's store each model's performance in a dataframe for comparison purpose for oue ease.\n"
      ]
    },
    {
      "cell_type": "code",
      "execution_count": 30,
      "metadata": {
        "colab": {
          "base_uri": "https://localhost:8080/",
          "height": 89
        },
        "id": "H-0kq8iDxnfj",
        "outputId": "0ed05692-bade-4a98-8c6e-98960c0ff1f7"
      },
      "outputs": [
        {
          "data": {
            "text/html": [
              "<div>\n",
              "<style scoped>\n",
              "    .dataframe tbody tr th:only-of-type {\n",
              "        vertical-align: middle;\n",
              "    }\n",
              "\n",
              "    .dataframe tbody tr th {\n",
              "        vertical-align: top;\n",
              "    }\n",
              "\n",
              "    .dataframe thead th {\n",
              "        text-align: right;\n",
              "    }\n",
              "</style>\n",
              "<table border=\"1\" class=\"dataframe\">\n",
              "  <thead>\n",
              "    <tr style=\"text-align: right;\">\n",
              "      <th></th>\n",
              "      <th>Model</th>\n",
              "      <th>Accuracy</th>\n",
              "      <th>FalseNegRate</th>\n",
              "      <th>Recall</th>\n",
              "      <th>Precision</th>\n",
              "      <th>F1 Score</th>\n",
              "    </tr>\n",
              "  </thead>\n",
              "  <tbody>\n",
              "    <tr>\n",
              "      <th>0</th>\n",
              "      <td>RandomForest</td>\n",
              "      <td>0.999087</td>\n",
              "      <td>0.428571</td>\n",
              "      <td>0.571429</td>\n",
              "      <td>0.848485</td>\n",
              "      <td>0.682927</td>\n",
              "    </tr>\n",
              "  </tbody>\n",
              "</table>\n",
              "</div>"
            ],
            "text/plain": [
              "          Model  Accuracy  FalseNegRate    Recall  Precision  F1 Score\n",
              "0  RandomForest  0.999087      0.428571  0.571429   0.848485  0.682927"
            ]
          },
          "execution_count": 30,
          "metadata": {},
          "output_type": "execute_result"
        }
      ],
      "source": [
        "### Store results in dataframe for comparing various Models\n",
        "results_testset = pd.DataFrame([['RandomForest', acc, 1-rec, rec, prec, f1]],\n",
        "               columns = ['Model', 'Accuracy', 'FalseNegRate', 'Recall', 'Precision', 'F1 Score'])\n",
        "results_testset"
      ]
    },
    {
      "cell_type": "code",
      "execution_count": 31,
      "metadata": {
        "colab": {
          "base_uri": "https://localhost:8080/",
          "height": 451
        },
        "id": "KIGLl_Zrxnfl",
        "outputId": "6a4852c2-1704-48d8-a8d2-22e34dcc66ad"
      },
      "outputs": [
        {
          "data": {
            "image/png": "[encoded data removed]",
            "text/plain": [
              "<Figure size 640x480 with 1 Axes>"
            ]
          },
          "metadata": {},
          "output_type": "display_data"
        }
      ],
      "source": [
        "from sklearn.metrics import RocCurveDisplay\n",
        "import matplotlib.pyplot as plt\n",
        "\n",
        "# Plot ROC curve correctly using RocCurveDisplay\n",
        "ROC_RF = RocCurveDisplay.from_estimator(random_forest, X_test, y_test)\n",
        "\n",
        "plt.show()\n"
      ]
    },
    {
      "cell_type": "markdown",
      "metadata": {
        "id": "8QpT6vkKxnfm"
      },
      "source": [
        "Now, We will run the models on the full dataset to check."
      ]
    },
    {
      "cell_type": "code",
      "execution_count": 32,
      "metadata": {
        "colab": {
          "base_uri": "https://localhost:8080/",
          "height": 542
        },
        "id": "ePh7hBIBxnfm",
        "outputId": "e6508076-e6e3-4d72-bde4-a189546927ca"
      },
      "outputs": [
        {
          "name": "stdout",
          "output_type": "stream",
          "text": [
            "Confusion matrix, without normalization\n",
            "[[284309      6]\n",
            " [    34    458]]\n"
          ]
        },
        {
          "data": {
            "image/png": "[encoded data removed]",
            "text/plain": [
              "<Figure size 640x480 with 2 Axes>"
            ]
          },
          "metadata": {},
          "output_type": "display_data"
        }
      ],
      "source": [
        "# Confusion matrix on the whole dataset\n",
        "\n",
        "y_pred = random_forest.predict(X)\n",
        "cnf_matrix = confusion_matrix(y,y_pred.round())\n",
        "plot_confusion_matrix(cnf_matrix,classes=[0,1])"
      ]
    },
    {
      "cell_type": "code",
      "execution_count": 33,
      "metadata": {
        "colab": {
          "base_uri": "https://localhost:8080/"
        },
        "id": "VQ2xMoedxnfm",
        "outputId": "9c0af2bb-7ec0-4f49-95a1-9e708726248d"
      },
      "outputs": [
        {
          "name": "stdout",
          "output_type": "stream",
          "text": [
            "accuracy:0.9999 \tprecision:0.9871 \trecall:0.9309 \tF1-score:0.9582\n"
          ]
        }
      ],
      "source": [
        "acc = accuracy_score(y, y_pred)\n",
        "prec = precision_score(y, y_pred)\n",
        "rec = recall_score(y, y_pred)\n",
        "f1 = f1_score(y, y_pred)\n",
        "print('accuracy:%0.4f'%acc,'\\tprecision:%0.4f'%prec,'\\trecall:%0.4f'%rec,'\\tF1-score:%0.4f'%f1)"
      ]
    },
    {
      "cell_type": "code",
      "execution_count": 34,
      "metadata": {
        "colab": {
          "base_uri": "https://localhost:8080/",
          "height": 89
        },
        "id": "eLjD3f5Hxnfn",
        "outputId": "09397ab6-fb3f-47a4-e8ed-b1abfe1852ab"
      },
      "outputs": [
        {
          "data": {
            "text/html": [
              "<div>\n",
              "<style scoped>\n",
              "    .dataframe tbody tr th:only-of-type {\n",
              "        vertical-align: middle;\n",
              "    }\n",
              "\n",
              "    .dataframe tbody tr th {\n",
              "        vertical-align: top;\n",
              "    }\n",
              "\n",
              "    .dataframe thead th {\n",
              "        text-align: right;\n",
              "    }\n",
              "</style>\n",
              "<table border=\"1\" class=\"dataframe\">\n",
              "  <thead>\n",
              "    <tr style=\"text-align: right;\">\n",
              "      <th></th>\n",
              "      <th>Model</th>\n",
              "      <th>Accuracy</th>\n",
              "      <th>FalseNegRate</th>\n",
              "      <th>Recall</th>\n",
              "      <th>Precision</th>\n",
              "      <th>F1 Score</th>\n",
              "    </tr>\n",
              "  </thead>\n",
              "  <tbody>\n",
              "    <tr>\n",
              "      <th>0</th>\n",
              "      <td>RandomForest</td>\n",
              "      <td>0.99986</td>\n",
              "      <td>0.069106</td>\n",
              "      <td>0.930894</td>\n",
              "      <td>0.987069</td>\n",
              "      <td>0.958159</td>\n",
              "    </tr>\n",
              "  </tbody>\n",
              "</table>\n",
              "</div>"
            ],
            "text/plain": [
              "          Model  Accuracy  FalseNegRate    Recall  Precision  F1 Score\n",
              "0  RandomForest   0.99986      0.069106  0.930894   0.987069  0.958159"
            ]
          },
          "execution_count": 34,
          "metadata": {},
          "output_type": "execute_result"
        }
      ],
      "source": [
        "results_fullset = pd.DataFrame([['RandomForest', acc, 1-rec, rec, prec, f1]],\n",
        "               columns = ['Model', 'Accuracy', 'FalseNegRate', 'Recall', 'Precision', 'F1 Score'])\n",
        "results_fullset"
      ]
    },
    {
      "cell_type": "markdown",
      "metadata": {
        "id": "jQzJ-nCU0jy2"
      },
      "source": [
        "**Final Thoughts:**\n",
        "\n",
        "The model is decent overall, but you might need to check if class imbalance affects its generalizability.\n",
        "If false negatives (34 cases) are critical (e.g., fraud detection), you may want to improve recall further by adjusting decision thresholds or using oversampling techniques.\n",
        "\n",
        "\n",
        "\n",
        "\n",
        "\n",
        "\n"
      ]
    },
    {
      "cell_type": "markdown",
      "metadata": {
        "id": "FIfm3HyNxnfo"
      },
      "source": [
        "## Decision trees for compaartive purpose in the end of results"
      ]
    },
    {
      "cell_type": "code",
      "execution_count": 35,
      "metadata": {
        "id": "oO1FfmZcxnfo"
      },
      "outputs": [],
      "source": [
        "from sklearn.tree import DecisionTreeClassifier\n",
        "decision_tree = DecisionTreeClassifier()"
      ]
    },
    {
      "cell_type": "code",
      "execution_count": 36,
      "metadata": {
        "colab": {
          "base_uri": "https://localhost:8080/",
          "height": 80
        },
        "id": "3mVbOpqFxnfo",
        "outputId": "00fde3c9-b260-4280-fa92-3ac299d5b6e6"
      },
      "outputs": [
        {
          "data": {
            "text/html": [
              "<style>#sk-container-id-2 {\n",
              "  /* Definition of color scheme common for light and dark mode */\n",
              "  --sklearn-color-text: #000;\n",
              "  --sklearn-color-text-muted: #666;\n",
              "  --sklearn-color-line: gray;\n",
              "  /* Definition of color scheme for unfitted estimators */\n",
              "  --sklearn-color-unfitted-level-0: #fff5e6;\n",
              "  --sklearn-color-unfitted-level-1: #f6e4d2;\n",
              "  --sklearn-color-unfitted-level-2: #ffe0b3;\n",
              "  --sklearn-color-unfitted-level-3: chocolate;\n",
              "  /* Definition of color scheme for fitted estimators */\n",
              "  --sklearn-color-fitted-level-0: #f0f8ff;\n",
              "  --sklearn-color-fitted-level-1: #d4ebff;\n",
              "  --sklearn-color-fitted-level-2: #b3dbfd;\n",
              "  --sklearn-color-fitted-level-3: cornflowerblue;\n",
              "\n",
              "  /* Specific color for light theme */\n",
              "  --sklearn-color-text-on-default-background: var(--sg-text-color, var(--theme-code-foreground, var(--jp-content-font-color1, black)));\n",
              "  --sklearn-color-background: var(--sg-background-color, var(--theme-background, var(--jp-layout-color0, white)));\n",
              "  --sklearn-color-border-box: var(--sg-text-color, var(--theme-code-foreground, var(--jp-content-font-color1, black)));\n",
              "  --sklearn-color-icon: #696969;\n",
              "\n",
              "  @media (prefers-color-scheme: dark) {\n",
              "    /* Redefinition of color scheme for dark theme */\n",
              "    --sklearn-color-text-on-default-background: var(--sg-text-color, var(--theme-code-foreground, var(--jp-content-font-color1, white)));\n",
              "    --sklearn-color-background: var(--sg-background-color, var(--theme-background, var(--jp-layout-color0, #111)));\n",
              "    --sklearn-color-border-box: var(--sg-text-color, var(--theme-code-foreground, var(--jp-content-font-color1, white)));\n",
              "    --sklearn-color-icon: #878787;\n",
              "  }\n",
              "}\n",
              "\n",
              "#sk-container-id-2 {\n",
              "  color: var(--sklearn-color-text);\n",
              "}\n",
              "\n",
              "#sk-container-id-2 pre {\n",
              "  padding: 0;\n",
              "}\n",
              "\n",
              "#sk-container-id-2 input.sk-hidden--visually {\n",
              "  border: 0;\n",
              "  clip: rect(1px 1px 1px 1px);\n",
              "  clip: rect(1px, 1px, 1px, 1px);\n",
              "  height: 1px;\n",
              "  margin: -1px;\n",
              "  overflow: hidden;\n",
              "  padding: 0;\n",
              "  position: absolute;\n",
              "  width: 1px;\n",
              "}\n",
              "\n",
              "#sk-container-id-2 div.sk-dashed-wrapped {\n",
              "  border: 1px dashed var(--sklearn-color-line);\n",
              "  margin: 0 0.4em 0.5em 0.4em;\n",
              "  box-sizing: border-box;\n",
              "  padding-bottom: 0.4em;\n",
              "  background-color: var(--sklearn-color-background);\n",
              "}\n",
              "\n",
              "#sk-container-id-2 div.sk-container {\n",
              "  /* jupyter's `normalize.less` sets `[hidden] { display: none; }`\n",
              "     but bootstrap.min.css set `[hidden] { display: none !important; }`\n",
              "     so we also need the `!important` here to be able to override the\n",
              "     default hidden behavior on the sphinx rendered scikit-learn.org.\n",
              "     See: https://github.com/scikit-learn/scikit-learn/issues/21755 */\n",
              "  display: inline-block !important;\n",
              "  position: relative;\n",
              "}\n",
              "\n",
              "#sk-container-id-2 div.sk-text-repr-fallback {\n",
              "  display: none;\n",
              "}\n",
              "\n",
              "div.sk-parallel-item,\n",
              "div.sk-serial,\n",
              "div.sk-item {\n",
              "  /* draw centered vertical line to link estimators */\n",
              "  background-image: linear-gradient(var(--sklearn-color-text-on-default-background), var(--sklearn-color-text-on-default-background));\n",
              "  background-size: 2px 100%;\n",
              "  background-repeat: no-repeat;\n",
              "  background-position: center center;\n",
              "}\n",
              "\n",
              "/* Parallel-specific style estimator block */\n",
              "\n",
              "#sk-container-id-2 div.sk-parallel-item::after {\n",
              "  content: \"\";\n",
              "  width: 100%;\n",
              "  border-bottom: 2px solid var(--sklearn-color-text-on-default-background);\n",
              "  flex-grow: 1;\n",
              "}\n",
              "\n",
              "#sk-container-id-2 div.sk-parallel {\n",
              "  display: flex;\n",
              "  align-items: stretch;\n",
              "  justify-content: center;\n",
              "  background-color: var(--sklearn-color-background);\n",
              "  position: relative;\n",
              "}\n",
              "\n",
              "#sk-container-id-2 div.sk-parallel-item {\n",
              "  display: flex;\n",
              "  flex-direction: column;\n",
              "}\n",
              "\n",
              "#sk-container-id-2 div.sk-parallel-item:first-child::after {\n",
              "  align-self: flex-end;\n",
              "  width: 50%;\n",
              "}\n",
              "\n",
              "#sk-container-id-2 div.sk-parallel-item:last-child::after {\n",
              "  align-self: flex-start;\n",
              "  width: 50%;\n",
              "}\n",
              "\n",
              "#sk-container-id-2 div.sk-parallel-item:only-child::after {\n",
              "  width: 0;\n",
              "}\n",
              "\n",
              "/* Serial-specific style estimator block */\n",
              "\n",
              "#sk-container-id-2 div.sk-serial {\n",
              "  display: flex;\n",
              "  flex-direction: column;\n",
              "  align-items: center;\n",
              "  background-color: var(--sklearn-color-background);\n",
              "  padding-right: 1em;\n",
              "  padding-left: 1em;\n",
              "}\n",
              "\n",
              "\n",
              "/* Toggleable style: style used for estimator/Pipeline/ColumnTransformer box that is\n",
              "clickable and can be expanded/collapsed.\n",
              "- Pipeline and ColumnTransformer use this feature and define the default style\n",
              "- Estimators will overwrite some part of the style using the `sk-estimator` class\n",
              "*/\n",
              "\n",
              "/* Pipeline and ColumnTransformer style (default) */\n",
              "\n",
              "#sk-container-id-2 div.sk-toggleable {\n",
              "  /* Default theme specific background. It is overwritten whether we have a\n",
              "  specific estimator or a Pipeline/ColumnTransformer */\n",
              "  background-color: var(--sklearn-color-background);\n",
              "}\n",
              "\n",
              "/* Toggleable label */\n",
              "#sk-container-id-2 label.sk-toggleable__label {\n",
              "  cursor: pointer;\n",
              "  display: flex;\n",
              "  width: 100%;\n",
              "  margin-bottom: 0;\n",
              "  padding: 0.5em;\n",
              "  box-sizing: border-box;\n",
              "  text-align: center;\n",
              "  align-items: start;\n",
              "  justify-content: space-between;\n",
              "  gap: 0.5em;\n",
              "}\n",
              "\n",
              "#sk-container-id-2 label.sk-toggleable__label .caption {\n",
              "  font-size: 0.6rem;\n",
              "  font-weight: lighter;\n",
              "  color: var(--sklearn-color-text-muted);\n",
              "}\n",
              "\n",
              "#sk-container-id-2 label.sk-toggleable__label-arrow:before {\n",
              "  /* Arrow on the left of the label */\n",
              "  content: \"▸\";\n",
              "  float: left;\n",
              "  margin-right: 0.25em;\n",
              "  color: var(--sklearn-color-icon);\n",
              "}\n",
              "\n",
              "#sk-container-id-2 label.sk-toggleable__label-arrow:hover:before {\n",
              "  color: var(--sklearn-color-text);\n",
              "}\n",
              "\n",
              "/* Toggleable content - dropdown */\n",
              "\n",
              "#sk-container-id-2 div.sk-toggleable__content {\n",
              "  max-height: 0;\n",
              "  max-width: 0;\n",
              "  overflow: hidden;\n",
              "  text-align: left;\n",
              "  /* unfitted */\n",
              "  background-color: var(--sklearn-color-unfitted-level-0);\n",
              "}\n",
              "\n",
              "#sk-container-id-2 div.sk-toggleable__content.fitted {\n",
              "  /* fitted */\n",
              "  background-color: var(--sklearn-color-fitted-level-0);\n",
              "}\n",
              "\n",
              "#sk-container-id-2 div.sk-toggleable__content pre {\n",
              "  margin: 0.2em;\n",
              "  border-radius: 0.25em;\n",
              "  color: var(--sklearn-color-text);\n",
              "  /* unfitted */\n",
              "  background-color: var(--sklearn-color-unfitted-level-0);\n",
              "}\n",
              "\n",
              "#sk-container-id-2 div.sk-toggleable__content.fitted pre {\n",
              "  /* unfitted */\n",
              "  background-color: var(--sklearn-color-fitted-level-0);\n",
              "}\n",
              "\n",
              "#sk-container-id-2 input.sk-toggleable__control:checked~div.sk-toggleable__content {\n",
              "  /* Expand drop-down */\n",
              "  max-height: 200px;\n",
              "  max-width: 100%;\n",
              "  overflow: auto;\n",
              "}\n",
              "\n",
              "#sk-container-id-2 input.sk-toggleable__control:checked~label.sk-toggleable__label-arrow:before {\n",
              "  content: \"▾\";\n",
              "}\n",
              "\n",
              "/* Pipeline/ColumnTransformer-specific style */\n",
              "\n",
              "#sk-container-id-2 div.sk-label input.sk-toggleable__control:checked~label.sk-toggleable__label {\n",
              "  color: var(--sklearn-color-text);\n",
              "  background-color: var(--sklearn-color-unfitted-level-2);\n",
              "}\n",
              "\n",
              "#sk-container-id-2 div.sk-label.fitted input.sk-toggleable__control:checked~label.sk-toggleable__label {\n",
              "  background-color: var(--sklearn-color-fitted-level-2);\n",
              "}\n",
              "\n",
              "/* Estimator-specific style */\n",
              "\n",
              "/* Colorize estimator box */\n",
              "#sk-container-id-2 div.sk-estimator input.sk-toggleable__control:checked~label.sk-toggleable__label {\n",
              "  /* unfitted */\n",
              "  background-color: var(--sklearn-color-unfitted-level-2);\n",
              "}\n",
              "\n",
              "#sk-container-id-2 div.sk-estimator.fitted input.sk-toggleable__control:checked~label.sk-toggleable__label {\n",
              "  /* fitted */\n",
              "  background-color: var(--sklearn-color-fitted-level-2);\n",
              "}\n",
              "\n",
              "#sk-container-id-2 div.sk-label label.sk-toggleable__label,\n",
              "#sk-container-id-2 div.sk-label label {\n",
              "  /* The background is the default theme color */\n",
              "  color: var(--sklearn-color-text-on-default-background);\n",
              "}\n",
              "\n",
              "/* On hover, darken the color of the background */\n",
              "#sk-container-id-2 div.sk-label:hover label.sk-toggleable__label {\n",
              "  color: var(--sklearn-color-text);\n",
              "  background-color: var(--sklearn-color-unfitted-level-2);\n",
              "}\n",
              "\n",
              "/* Label box, darken color on hover, fitted */\n",
              "#sk-container-id-2 div.sk-label.fitted:hover label.sk-toggleable__label.fitted {\n",
              "  color: var(--sklearn-color-text);\n",
              "  background-color: var(--sklearn-color-fitted-level-2);\n",
              "}\n",
              "\n",
              "/* Estimator label */\n",
              "\n",
              "#sk-container-id-2 div.sk-label label {\n",
              "  font-family: monospace;\n",
              "  font-weight: bold;\n",
              "  display: inline-block;\n",
              "  line-height: 1.2em;\n",
              "}\n",
              "\n",
              "#sk-container-id-2 div.sk-label-container {\n",
              "  text-align: center;\n",
              "}\n",
              "\n",
              "/* Estimator-specific */\n",
              "#sk-container-id-2 div.sk-estimator {\n",
              "  font-family: monospace;\n",
              "  border: 1px dotted var(--sklearn-color-border-box);\n",
              "  border-radius: 0.25em;\n",
              "  box-sizing: border-box;\n",
              "  margin-bottom: 0.5em;\n",
              "  /* unfitted */\n",
              "  background-color: var(--sklearn-color-unfitted-level-0);\n",
              "}\n",
              "\n",
              "#sk-container-id-2 div.sk-estimator.fitted {\n",
              "  /* fitted */\n",
              "  background-color: var(--sklearn-color-fitted-level-0);\n",
              "}\n",
              "\n",
              "/* on hover */\n",
              "#sk-container-id-2 div.sk-estimator:hover {\n",
              "  /* unfitted */\n",
              "  background-color: var(--sklearn-color-unfitted-level-2);\n",
              "}\n",
              "\n",
              "#sk-container-id-2 div.sk-estimator.fitted:hover {\n",
              "  /* fitted */\n",
              "  background-color: var(--sklearn-color-fitted-level-2);\n",
              "}\n",
              "\n",
              "/* Specification for estimator info (e.g. \"i\" and \"?\") */\n",
              "\n",
              "/* Common style for \"i\" and \"?\" */\n",
              "\n",
              ".sk-estimator-doc-link,\n",
              "a:link.sk-estimator-doc-link,\n",
              "a:visited.sk-estimator-doc-link {\n",
              "  float: right;\n",
              "  font-size: smaller;\n",
              "  line-height: 1em;\n",
              "  font-family: monospace;\n",
              "  background-color: var(--sklearn-color-background);\n",
              "  border-radius: 1em;\n",
              "  height: 1em;\n",
              "  width: 1em;\n",
              "  text-decoration: none !important;\n",
              "  margin-left: 0.5em;\n",
              "  text-align: center;\n",
              "  /* unfitted */\n",
              "  border: var(--sklearn-color-unfitted-level-1) 1pt solid;\n",
              "  color: var(--sklearn-color-unfitted-level-1);\n",
              "}\n",
              "\n",
              ".sk-estimator-doc-link.fitted,\n",
              "a:link.sk-estimator-doc-link.fitted,\n",
              "a:visited.sk-estimator-doc-link.fitted {\n",
              "  /* fitted */\n",
              "  border: var(--sklearn-color-fitted-level-1) 1pt solid;\n",
              "  color: var(--sklearn-color-fitted-level-1);\n",
              "}\n",
              "\n",
              "/* On hover */\n",
              "div.sk-estimator:hover .sk-estimator-doc-link:hover,\n",
              ".sk-estimator-doc-link:hover,\n",
              "div.sk-label-container:hover .sk-estimator-doc-link:hover,\n",
              ".sk-estimator-doc-link:hover {\n",
              "  /* unfitted */\n",
              "  background-color: var(--sklearn-color-unfitted-level-3);\n",
              "  color: var(--sklearn-color-background);\n",
              "  text-decoration: none;\n",
              "}\n",
              "\n",
              "div.sk-estimator.fitted:hover .sk-estimator-doc-link.fitted:hover,\n",
              ".sk-estimator-doc-link.fitted:hover,\n",
              "div.sk-label-container:hover .sk-estimator-doc-link.fitted:hover,\n",
              ".sk-estimator-doc-link.fitted:hover {\n",
              "  /* fitted */\n",
              "  background-color: var(--sklearn-color-fitted-level-3);\n",
              "  color: var(--sklearn-color-background);\n",
              "  text-decoration: none;\n",
              "}\n",
              "\n",
              "/* Span, style for the box shown on hovering the info icon */\n",
              ".sk-estimator-doc-link span {\n",
              "  display: none;\n",
              "  z-index: 9999;\n",
              "  position: relative;\n",
              "  font-weight: normal;\n",
              "  right: .2ex;\n",
              "  padding: .5ex;\n",
              "  margin: .5ex;\n",
              "  width: min-content;\n",
              "  min-width: 20ex;\n",
              "  max-width: 50ex;\n",
              "  color: var(--sklearn-color-text);\n",
              "  box-shadow: 2pt 2pt 4pt #999;\n",
              "  /* unfitted */\n",
              "  background: var(--sklearn-color-unfitted-level-0);\n",
              "  border: .5pt solid var(--sklearn-color-unfitted-level-3);\n",
              "}\n",
              "\n",
              ".sk-estimator-doc-link.fitted span {\n",
              "  /* fitted */\n",
              "  background: var(--sklearn-color-fitted-level-0);\n",
              "  border: var(--sklearn-color-fitted-level-3);\n",
              "}\n",
              "\n",
              ".sk-estimator-doc-link:hover span {\n",
              "  display: block;\n",
              "}\n",
              "\n",
              "/* \"?\"-specific style due to the `<a>` HTML tag */\n",
              "\n",
              "#sk-container-id-2 a.estimator_doc_link {\n",
              "  float: right;\n",
              "  font-size: 1rem;\n",
              "  line-height: 1em;\n",
              "  font-family: monospace;\n",
              "  background-color: var(--sklearn-color-background);\n",
              "  border-radius: 1rem;\n",
              "  height: 1rem;\n",
              "  width: 1rem;\n",
              "  text-decoration: none;\n",
              "  /* unfitted */\n",
              "  color: var(--sklearn-color-unfitted-level-1);\n",
              "  border: var(--sklearn-color-unfitted-level-1) 1pt solid;\n",
              "}\n",
              "\n",
              "#sk-container-id-2 a.estimator_doc_link.fitted {\n",
              "  /* fitted */\n",
              "  border: var(--sklearn-color-fitted-level-1) 1pt solid;\n",
              "  color: var(--sklearn-color-fitted-level-1);\n",
              "}\n",
              "\n",
              "/* On hover */\n",
              "#sk-container-id-2 a.estimator_doc_link:hover {\n",
              "  /* unfitted */\n",
              "  background-color: var(--sklearn-color-unfitted-level-3);\n",
              "  color: var(--sklearn-color-background);\n",
              "  text-decoration: none;\n",
              "}\n",
              "\n",
              "#sk-container-id-2 a.estimator_doc_link.fitted:hover {\n",
              "  /* fitted */\n",
              "  background-color: var(--sklearn-color-fitted-level-3);\n",
              "}\n",
              "</style><div id=\"sk-container-id-2\" class=\"sk-top-container\"><div class=\"sk-text-repr-fallback\"><pre>DecisionTreeClassifier()</pre><b>In a Jupyter environment, please rerun this cell to show the HTML representation or trust the notebook. <br />On GitHub, the HTML representation is unable to render, please try loading this page with nbviewer.org.</b></div><div class=\"sk-container\" hidden><div class=\"sk-item\"><div class=\"sk-estimator fitted sk-toggleable\"><input class=\"sk-toggleable__control sk-hidden--visually\" id=\"sk-estimator-id-2\" type=\"checkbox\" checked><label for=\"sk-estimator-id-2\" class=\"sk-toggleable__label fitted sk-toggleable__label-arrow\"><div><div>DecisionTreeClassifier</div></div><div><a class=\"sk-estimator-doc-link fitted\" rel=\"noreferrer\" target=\"_blank\" href=\"https://scikit-learn.org/1.6/modules/generated/sklearn.tree.DecisionTreeClassifier.html\">?<span>Documentation for DecisionTreeClassifier</span></a><span class=\"sk-estimator-doc-link fitted\">i<span>Fitted</span></span></div></label><div class=\"sk-toggleable__content fitted\"><pre>DecisionTreeClassifier()</pre></div> </div></div></div></div>"
            ],
            "text/plain": [
              "DecisionTreeClassifier()"
            ]
          },
          "execution_count": 36,
          "metadata": {},
          "output_type": "execute_result"
        }
      ],
      "source": [
        "decision_tree.fit(X_train,y_train.values.ravel())"
      ]
    },
    {
      "cell_type": "code",
      "execution_count": 37,
      "metadata": {
        "id": "IoT5qbGWxngE"
      },
      "outputs": [],
      "source": [
        "y_pred = decision_tree.predict(X_test)"
      ]
    },
    {
      "cell_type": "code",
      "execution_count": 38,
      "metadata": {
        "colab": {
          "base_uri": "https://localhost:8080/"
        },
        "id": "5qzULLTMxngE",
        "outputId": "7401307f-1147-4315-91d2-2442314c92a9"
      },
      "outputs": [
        {
          "data": {
            "text/plain": [
              "0.9990871107053826"
            ]
          },
          "execution_count": 38,
          "metadata": {},
          "output_type": "execute_result"
        }
      ],
      "source": [
        "decision_tree.score(X_test,y_test)"
      ]
    },
    {
      "cell_type": "code",
      "execution_count": 39,
      "metadata": {
        "colab": {
          "base_uri": "https://localhost:8080/",
          "height": 542
        },
        "id": "IYYvXRRwxngF",
        "outputId": "7bcbe52a-5c14-4165-a5e5-61d3c473d131"
      },
      "outputs": [
        {
          "name": "stdout",
          "output_type": "stream",
          "text": [
            "Confusion matrix, without normalization\n",
            "[[56834    30]\n",
            " [   22    76]]\n"
          ]
        },
        {
          "data": {
            "image/png": "[encoded data removed]",
            "text/plain": [
              "<Figure size 640x480 with 2 Axes>"
            ]
          },
          "metadata": {},
          "output_type": "display_data"
        }
      ],
      "source": [
        "# Confusion matrix on the test dataset\n",
        "cnf_matrix = confusion_matrix(y_test,y_pred)\n",
        "plot_confusion_matrix(cnf_matrix,classes=[0,1])"
      ]
    },
    {
      "cell_type": "markdown",
      "metadata": {
        "id": "t_qlekfBxngF"
      },
      "source": [
        "- The performance of the Decision Tree model is below the one using Random Forest. Let's check the performance indicators."
      ]
    },
    {
      "cell_type": "code",
      "execution_count": 40,
      "metadata": {
        "id": "cFFVinUUxngF"
      },
      "outputs": [],
      "source": [
        "acc = accuracy_score(y_test, y_pred)\n",
        "prec = precision_score(y_test, y_pred)\n",
        "rec = recall_score(y_test, y_pred)\n",
        "f1 = f1_score(y_test, y_pred)"
      ]
    },
    {
      "cell_type": "code",
      "execution_count": 41,
      "metadata": {
        "colab": {
          "base_uri": "https://localhost:8080/",
          "height": 125
        },
        "id": "jX356nPxxngG",
        "outputId": "4bb8e00e-8549-4a37-b3a7-7404089b3631"
      },
      "outputs": [
        {
          "data": {
            "text/html": [
              "<div>\n",
              "<style scoped>\n",
              "    .dataframe tbody tr th:only-of-type {\n",
              "        vertical-align: middle;\n",
              "    }\n",
              "\n",
              "    .dataframe tbody tr th {\n",
              "        vertical-align: top;\n",
              "    }\n",
              "\n",
              "    .dataframe thead th {\n",
              "        text-align: right;\n",
              "    }\n",
              "</style>\n",
              "<table border=\"1\" class=\"dataframe\">\n",
              "  <thead>\n",
              "    <tr style=\"text-align: right;\">\n",
              "      <th></th>\n",
              "      <th>Model</th>\n",
              "      <th>Accuracy</th>\n",
              "      <th>FalseNegRate</th>\n",
              "      <th>Recall</th>\n",
              "      <th>Precision</th>\n",
              "      <th>F1 Score</th>\n",
              "    </tr>\n",
              "  </thead>\n",
              "  <tbody>\n",
              "    <tr>\n",
              "      <th>0</th>\n",
              "      <td>RandomForest</td>\n",
              "      <td>0.999087</td>\n",
              "      <td>0.428571</td>\n",
              "      <td>0.571429</td>\n",
              "      <td>0.848485</td>\n",
              "      <td>0.682927</td>\n",
              "    </tr>\n",
              "    <tr>\n",
              "      <th>1</th>\n",
              "      <td>DecisionTree</td>\n",
              "      <td>0.999087</td>\n",
              "      <td>0.224490</td>\n",
              "      <td>0.775510</td>\n",
              "      <td>0.716981</td>\n",
              "      <td>0.745098</td>\n",
              "    </tr>\n",
              "  </tbody>\n",
              "</table>\n",
              "</div>"
            ],
            "text/plain": [
              "          Model  Accuracy  FalseNegRate    Recall  Precision  F1 Score\n",
              "0  RandomForest  0.999087      0.428571  0.571429   0.848485  0.682927\n",
              "1  DecisionTree  0.999087      0.224490  0.775510   0.716981  0.745098"
            ]
          },
          "execution_count": 41,
          "metadata": {},
          "output_type": "execute_result"
        }
      ],
      "source": [
        "### Store results in dataframe for comparing various Models\n",
        "model_results = pd.DataFrame([['DecisionTree', acc, 1-rec, rec, prec, f1]],\n",
        "               columns = ['Model', 'Accuracy', 'FalseNegRate', 'Recall', 'Precision', 'F1 Score'])\n",
        "results_testset = pd.concat([results_testset, model_results], ignore_index=True)\n",
        "\n",
        "results_testset"
      ]
    },
    {
      "cell_type": "code",
      "execution_count": 42,
      "metadata": {
        "colab": {
          "base_uri": "https://localhost:8080/",
          "height": 451
        },
        "id": "FdJrPwe1xngG",
        "outputId": "e85badef-e9f3-43b8-a49c-a52af53042c8"
      },
      "outputs": [
        {
          "data": {
            "image/png": "[encoded data removed]",
            "text/plain": [
              "<Figure size 640x480 with 1 Axes>"
            ]
          },
          "metadata": {},
          "output_type": "display_data"
        }
      ],
      "source": [
        "from sklearn.metrics import RocCurveDisplay\n",
        "import matplotlib.pyplot as plt\n",
        "\n",
        "# Correct way to plot ROC curve\n",
        "ROC_DT = RocCurveDisplay.from_estimator(decision_tree, X_test, y_test)\n",
        "\n",
        "plt.show()\n"
      ]
    },
    {
      "cell_type": "code",
      "execution_count": 43,
      "metadata": {
        "colab": {
          "base_uri": "https://localhost:8080/",
          "height": 542
        },
        "id": "a5Luuxc6xngG",
        "outputId": "8dd0eb3c-9876-4e72-c118-9d88b5fe15c4"
      },
      "outputs": [
        {
          "name": "stdout",
          "output_type": "stream",
          "text": [
            "Confusion matrix, without normalization\n",
            "[[284285     30]\n",
            " [    22    470]]\n"
          ]
        },
        {
          "data": {
            "image/png": "[encoded data removed]",
            "text/plain": [
              "<Figure size 640x480 with 2 Axes>"
            ]
          },
          "metadata": {},
          "output_type": "display_data"
        }
      ],
      "source": [
        "# Confusion matrix on the whole dataset\n",
        "y_pred = decision_tree.predict(X)\n",
        "cnf_matrix = confusion_matrix(y,y_pred.round())\n",
        "plot_confusion_matrix(cnf_matrix,classes=[0,1])"
      ]
    },
    {
      "cell_type": "code",
      "execution_count": 44,
      "metadata": {
        "id": "iMcqUZJXxngG"
      },
      "outputs": [],
      "source": [
        "acc = accuracy_score(y, y_pred)\n",
        "prec = precision_score(y, y_pred)\n",
        "rec = recall_score(y, y_pred)\n",
        "f1 = f1_score(y, y_pred)"
      ]
    },
    {
      "cell_type": "code",
      "execution_count": 45,
      "metadata": {
        "colab": {
          "base_uri": "https://localhost:8080/",
          "height": 125
        },
        "id": "VEz_XKJXxngH",
        "outputId": "be6e8eee-88d4-4bfe-aa06-0ad2330cbe92"
      },
      "outputs": [
        {
          "data": {
            "text/html": [
              "<div>\n",
              "<style scoped>\n",
              "    .dataframe tbody tr th:only-of-type {\n",
              "        vertical-align: middle;\n",
              "    }\n",
              "\n",
              "    .dataframe tbody tr th {\n",
              "        vertical-align: top;\n",
              "    }\n",
              "\n",
              "    .dataframe thead th {\n",
              "        text-align: right;\n",
              "    }\n",
              "</style>\n",
              "<table border=\"1\" class=\"dataframe\">\n",
              "  <thead>\n",
              "    <tr style=\"text-align: right;\">\n",
              "      <th></th>\n",
              "      <th>Model</th>\n",
              "      <th>Accuracy</th>\n",
              "      <th>FalseNegRate</th>\n",
              "      <th>Recall</th>\n",
              "      <th>Precision</th>\n",
              "      <th>F1 Score</th>\n",
              "    </tr>\n",
              "  </thead>\n",
              "  <tbody>\n",
              "    <tr>\n",
              "      <th>0</th>\n",
              "      <td>RandomForest</td>\n",
              "      <td>0.999860</td>\n",
              "      <td>0.069106</td>\n",
              "      <td>0.930894</td>\n",
              "      <td>0.987069</td>\n",
              "      <td>0.958159</td>\n",
              "    </tr>\n",
              "    <tr>\n",
              "      <th>1</th>\n",
              "      <td>DecisionTree</td>\n",
              "      <td>0.999817</td>\n",
              "      <td>0.044715</td>\n",
              "      <td>0.955285</td>\n",
              "      <td>0.940000</td>\n",
              "      <td>0.947581</td>\n",
              "    </tr>\n",
              "  </tbody>\n",
              "</table>\n",
              "</div>"
            ],
            "text/plain": [
              "          Model  Accuracy  FalseNegRate    Recall  Precision  F1 Score\n",
              "0  RandomForest  0.999860      0.069106  0.930894   0.987069  0.958159\n",
              "1  DecisionTree  0.999817      0.044715  0.955285   0.940000  0.947581"
            ]
          },
          "execution_count": 45,
          "metadata": {},
          "output_type": "execute_result"
        }
      ],
      "source": [
        "import pandas as pd\n",
        "\n",
        "# Create DataFrame with model results\n",
        "model_results = pd.DataFrame([['DecisionTree', acc, 1-rec, rec, prec, f1]],\n",
        "               columns=['Model', 'Accuracy', 'FalseNegRate', 'Recall', 'Precision', 'F1 Score'])\n",
        "\n",
        "# Ensure results_fullset is already defined; if not, initialize it\n",
        "if 'results_fullset' not in locals():\n",
        "    results_fullset = pd.DataFrame(columns=['Model', 'Accuracy', 'FalseNegRate', 'Recall', 'Precision', 'F1 Score'])\n",
        "\n",
        "# Fix append issue using pd.concat()\n",
        "results_fullset = pd.concat([results_fullset, model_results], ignore_index=True)\n",
        "\n",
        "# Display updated DataFrame\n",
        "results_fullset\n"
      ]
    },
    {
      "cell_type": "markdown",
      "metadata": {
        "id": "9LAAbGMj1Bnf"
      },
      "source": [
        "**Comparison with Previous Confusion Matrix of RFC:**\n",
        "\n",
        "Recall has improved (from 93% to 95.5%), meaning fewer false negatives.\n",
        "Precision has slightly decreased (from 98.7% to 94%), meaning slightly more false positives.\n",
        "Overall, the model is now better at catching positive cases but at the cost of a few more false alarms.\n",
        "\n",
        "**Final Thoughts:**\n",
        "\n",
        "If reducing false negatives (missing positive cases) is a priority, this model is an improvement.\n",
        "If false positives are costly (e.g., in fraud detection), you might need to fine-tune thresholds further.\n",
        "Overall, this model remains highly effective with strong generalization."
      ]
    },
    {
      "cell_type": "markdown",
      "metadata": {
        "id": "CjKAXOzOxngH"
      },
      "source": [
        "## Artificial Neural Network models"
      ]
    },
    {
      "cell_type": "code",
      "execution_count": 46,
      "metadata": {
        "id": "9j3mpxGyxngH"
      },
      "outputs": [],
      "source": [
        "# Convert training and testing datasets to NumPy arrays\n",
        "\n",
        "X_train = np.array(X_train)  # Convert feature training set to a NumPy array\n",
        "X_test = np.array(X_test)    # Convert feature testing set to a NumPy array\n",
        "y_train = np.array(y_train)  # Convert label training set to a NumPy array\n",
        "y_test = np.array(y_test)    # Convert label testing set to a NumPy array\n"
      ]
    },
    {
      "cell_type": "markdown",
      "metadata": {
        "id": "h5BihpfvxngL"
      },
      "source": [
        "## Deep neural network\n",
        "- We will use a simple ANN made of 5 fully-connected layers with ReLu activation. The ANN takes a vector of length 29 as input.\n",
        "\n",
        "---\n",
        "\n",
        "*This represents the information related to each transactions, ie each line with 29 columns from the dataset. For each transaction, the final layer will output a probability distribution (sigmoid activation function) and classify either as not fraudulent (0) or fraudulent (1).*\n",
        "\n",
        "---\n",
        "\n",
        "*  A dropout step is included to prevent overfitting.\n",
        "\n"
      ]
    },
    {
      "cell_type": "code",
      "execution_count": 47,
      "metadata": {
        "id": "zulFyxfixngM"
      },
      "outputs": [],
      "source": [
        "# Import necessary modules from Keras for building a neural network\n",
        "\n",
        "from keras.models import Sequential  # Sequential model allows stacking layers in order\n",
        "\n",
        "from keras.layers import Dense  # Dense layer (fully connected layer) for learning features\n",
        "\n",
        "from keras.layers import Dropout  # Dropout layer to prevent overfitting issue later onn\n"
      ]
    },
    {
      "cell_type": "code",
      "execution_count": 48,
      "metadata": {
        "colab": {
          "base_uri": "https://localhost:8080/"
        },
        "id": "htj9KGQQxngM",
        "outputId": "e18a2659-1615-495a-d731-0c2d8c9bf7ed"
      },
      "outputs": [
        {
          "name": "stderr",
          "output_type": "stream",
          "text": [
            "c:\\Users\\mohsi\\AppData\\Local\\Programs\\Python\\Python311\\Lib\\site-packages\\keras\\src\\layers\\core\\dense.py:87: UserWarning: Do not pass an `input_shape`/`input_dim` argument to a layer. When using Sequential models, prefer using an `Input(shape)` object as the first layer in the model instead.\n",
            "  super().__init__(activity_regularizer=activity_regularizer, **kwargs)\n"
          ]
        }
      ],
      "source": [
        "# Define a Sequential Artificial neural network model\n",
        "\n",
        "model = Sequential([\n",
        "    Dense(units=16, input_dim=29, activation='relu'),  # Input layer: 29 features, 16 neurons, ReLU activation\n",
        "    Dense(units=24, activation='relu'),  # Hidden layer: 24 neurons, ReLU activation\n",
        "    Dropout(0.5),  # Dropout layer to reduce overfitting (drops 50% of neurons randomly)\n",
        "    Dense(24, activation='relu'),  # Hidden layer: 24 neurons, ReLU activation\n",
        "    Dense(24, activation='relu'),  # Another hidden layer with 24 neurons\n",
        "    Dense(1, activation='sigmoid')  # Output layer: 1 neuron, Sigmoid activation for binary classification\n",
        "])\n"
      ]
    },
    {
      "cell_type": "code",
      "execution_count": 49,
      "metadata": {
        "colab": {
          "base_uri": "https://localhost:8080/",
          "height": 334
        },
        "id": "R5C7lz6ZxngM",
        "outputId": "d031b4b1-dab6-48ea-89c0-3565774e1207"
      },
      "outputs": [
        {
          "data": {
            "text/html": [
              "<pre style=\"white-space:pre;overflow-x:auto;line-height:normal;font-family:Menlo,'DejaVu Sans Mono',consolas,'Courier New',monospace\"><span style=\"font-weight: bold\">Model: \"sequential\"</span>\n",
              "</pre>\n"
            ],
            "text/plain": [
              "\u001b[1mModel: \"sequential\"\u001b[0m\n"
            ]
          },
          "metadata": {},
          "output_type": "display_data"
        },
        {
          "data": {
            "text/html": [
              "<pre style=\"white-space:pre;overflow-x:auto;line-height:normal;font-family:Menlo,'DejaVu Sans Mono',consolas,'Courier New',monospace\">┏━━━━━━━━━━━━━━━━━━━━━━━━━━━━━━━━━┳━━━━━━━━━━━━━━━━━━━━━━━━┳━━━━━━━━━━━━━━━┓\n",
              "┃<span style=\"font-weight: bold\"> Layer (type)                    </span>┃<span style=\"font-weight: bold\"> Output Shape           </span>┃<span style=\"font-weight: bold\">       Param # </span>┃\n",
              "┡━━━━━━━━━━━━━━━━━━━━━━━━━━━━━━━━━╇━━━━━━━━━━━━━━━━━━━━━━━━╇━━━━━━━━━━━━━━━┩\n",
              "│ dense (<span style=\"color: #0087ff; text-decoration-color: #0087ff\">Dense</span>)                   │ (<span style=\"color: #00d7ff; text-decoration-color: #00d7ff\">None</span>, <span style=\"color: #00af00; text-decoration-color: #00af00\">16</span>)             │           <span style=\"color: #00af00; text-decoration-color: #00af00\">480</span> │\n",
              "├─────────────────────────────────┼────────────────────────┼───────────────┤\n",
              "│ dense_1 (<span style=\"color: #0087ff; text-decoration-color: #0087ff\">Dense</span>)                 │ (<span style=\"color: #00d7ff; text-decoration-color: #00d7ff\">None</span>, <span style=\"color: #00af00; text-decoration-color: #00af00\">24</span>)             │           <span style=\"color: #00af00; text-decoration-color: #00af00\">408</span> │\n",
              "├─────────────────────────────────┼────────────────────────┼───────────────┤\n",
              "│ dropout (<span style=\"color: #0087ff; text-decoration-color: #0087ff\">Dropout</span>)               │ (<span style=\"color: #00d7ff; text-decoration-color: #00d7ff\">None</span>, <span style=\"color: #00af00; text-decoration-color: #00af00\">24</span>)             │             <span style=\"color: #00af00; text-decoration-color: #00af00\">0</span> │\n",
              "├─────────────────────────────────┼────────────────────────┼───────────────┤\n",
              "│ dense_2 (<span style=\"color: #0087ff; text-decoration-color: #0087ff\">Dense</span>)                 │ (<span style=\"color: #00d7ff; text-decoration-color: #00d7ff\">None</span>, <span style=\"color: #00af00; text-decoration-color: #00af00\">24</span>)             │           <span style=\"color: #00af00; text-decoration-color: #00af00\">600</span> │\n",
              "├─────────────────────────────────┼────────────────────────┼───────────────┤\n",
              "│ dense_3 (<span style=\"color: #0087ff; text-decoration-color: #0087ff\">Dense</span>)                 │ (<span style=\"color: #00d7ff; text-decoration-color: #00d7ff\">None</span>, <span style=\"color: #00af00; text-decoration-color: #00af00\">24</span>)             │           <span style=\"color: #00af00; text-decoration-color: #00af00\">600</span> │\n",
              "├─────────────────────────────────┼────────────────────────┼───────────────┤\n",
              "│ dense_4 (<span style=\"color: #0087ff; text-decoration-color: #0087ff\">Dense</span>)                 │ (<span style=\"color: #00d7ff; text-decoration-color: #00d7ff\">None</span>, <span style=\"color: #00af00; text-decoration-color: #00af00\">1</span>)              │            <span style=\"color: #00af00; text-decoration-color: #00af00\">25</span> │\n",
              "└─────────────────────────────────┴────────────────────────┴───────────────┘\n",
              "</pre>\n"
            ],
            "text/plain": [
              "┏━━━━━━━━━━━━━━━━━━━━━━━━━━━━━━━━━┳━━━━━━━━━━━━━━━━━━━━━━━━┳━━━━━━━━━━━━━━━┓\n",
              "┃\u001b[1m \u001b[0m\u001b[1mLayer (type)                   \u001b[0m\u001b[1m \u001b[0m┃\u001b[1m \u001b[0m\u001b[1mOutput Shape          \u001b[0m\u001b[1m \u001b[0m┃\u001b[1m \u001b[0m\u001b[1m      Param #\u001b[0m\u001b[1m \u001b[0m┃\n",
              "┡━━━━━━━━━━━━━━━━━━━━━━━━━━━━━━━━━╇━━━━━━━━━━━━━━━━━━━━━━━━╇━━━━━━━━━━━━━━━┩\n",
              "│ dense (\u001b[38;5;33mDense\u001b[0m)                   │ (\u001b[38;5;45mNone\u001b[0m, \u001b[38;5;34m16\u001b[0m)             │           \u001b[38;5;34m480\u001b[0m │\n",
              "├─────────────────────────────────┼────────────────────────┼───────────────┤\n",
              "│ dense_1 (\u001b[38;5;33mDense\u001b[0m)                 │ (\u001b[38;5;45mNone\u001b[0m, \u001b[38;5;34m24\u001b[0m)             │           \u001b[38;5;34m408\u001b[0m │\n",
              "├─────────────────────────────────┼────────────────────────┼───────────────┤\n",
              "│ dropout (\u001b[38;5;33mDropout\u001b[0m)               │ (\u001b[38;5;45mNone\u001b[0m, \u001b[38;5;34m24\u001b[0m)             │             \u001b[38;5;34m0\u001b[0m │\n",
              "├─────────────────────────────────┼────────────────────────┼───────────────┤\n",
              "│ dense_2 (\u001b[38;5;33mDense\u001b[0m)                 │ (\u001b[38;5;45mNone\u001b[0m, \u001b[38;5;34m24\u001b[0m)             │           \u001b[38;5;34m600\u001b[0m │\n",
              "├─────────────────────────────────┼────────────────────────┼───────────────┤\n",
              "│ dense_3 (\u001b[38;5;33mDense\u001b[0m)                 │ (\u001b[38;5;45mNone\u001b[0m, \u001b[38;5;34m24\u001b[0m)             │           \u001b[38;5;34m600\u001b[0m │\n",
              "├─────────────────────────────────┼────────────────────────┼───────────────┤\n",
              "│ dense_4 (\u001b[38;5;33mDense\u001b[0m)                 │ (\u001b[38;5;45mNone\u001b[0m, \u001b[38;5;34m1\u001b[0m)              │            \u001b[38;5;34m25\u001b[0m │\n",
              "└─────────────────────────────────┴────────────────────────┴───────────────┘\n"
            ]
          },
          "metadata": {},
          "output_type": "display_data"
        },
        {
          "data": {
            "text/html": [
              "<pre style=\"white-space:pre;overflow-x:auto;line-height:normal;font-family:Menlo,'DejaVu Sans Mono',consolas,'Courier New',monospace\"><span style=\"font-weight: bold\"> Total params: </span><span style=\"color: #00af00; text-decoration-color: #00af00\">2,113</span> (8.25 KB)\n",
              "</pre>\n"
            ],
            "text/plain": [
              "\u001b[1m Total params: \u001b[0m\u001b[38;5;34m2,113\u001b[0m (8.25 KB)\n"
            ]
          },
          "metadata": {},
          "output_type": "display_data"
        },
        {
          "data": {
            "text/html": [
              "<pre style=\"white-space:pre;overflow-x:auto;line-height:normal;font-family:Menlo,'DejaVu Sans Mono',consolas,'Courier New',monospace\"><span style=\"font-weight: bold\"> Trainable params: </span><span style=\"color: #00af00; text-decoration-color: #00af00\">2,113</span> (8.25 KB)\n",
              "</pre>\n"
            ],
            "text/plain": [
              "\u001b[1m Trainable params: \u001b[0m\u001b[38;5;34m2,113\u001b[0m (8.25 KB)\n"
            ]
          },
          "metadata": {},
          "output_type": "display_data"
        },
        {
          "data": {
            "text/html": [
              "<pre style=\"white-space:pre;overflow-x:auto;line-height:normal;font-family:Menlo,'DejaVu Sans Mono',consolas,'Courier New',monospace\"><span style=\"font-weight: bold\"> Non-trainable params: </span><span style=\"color: #00af00; text-decoration-color: #00af00\">0</span> (0.00 B)\n",
              "</pre>\n"
            ],
            "text/plain": [
              "\u001b[1m Non-trainable params: \u001b[0m\u001b[38;5;34m0\u001b[0m (0.00 B)\n"
            ]
          },
          "metadata": {},
          "output_type": "display_data"
        }
      ],
      "source": [
        "model.summary() #lets check the ann model sumamry layer by layer"
      ]
    },
    {
      "cell_type": "markdown",
      "metadata": {
        "id": "naUxyPhAxngM"
      },
      "source": [
        "## Training ANN"
      ]
    },
    {
      "cell_type": "code",
      "execution_count": 50,
      "metadata": {
        "colab": {
          "base_uri": "https://localhost:8080/"
        },
        "id": "DwgHprHaxngN",
        "outputId": "acb08b07-a287-46b7-f6d1-264869b88451"
      },
      "outputs": [
        {
          "name": "stdout",
          "output_type": "stream",
          "text": [
            "Epoch 1/5\n",
            "\u001b[1m15190/15190\u001b[0m \u001b[32m━━━━━━━━━━━━━━━━━━━━\u001b[0m\u001b[37m\u001b[0m \u001b[1m23s\u001b[0m 1ms/step - accuracy: 0.9976 - loss: 0.0218\n",
            "Epoch 2/5\n",
            "\u001b[1m15190/15190\u001b[0m \u001b[32m━━━━━━━━━━━━━━━━━━━━\u001b[0m\u001b[37m\u001b[0m \u001b[1m22s\u001b[0m 1ms/step - accuracy: 0.9993 - loss: 0.0038\n",
            "Epoch 3/5\n",
            "\u001b[1m15190/15190\u001b[0m \u001b[32m━━━━━━━━━━━━━━━━━━━━\u001b[0m\u001b[37m\u001b[0m \u001b[1m22s\u001b[0m 1ms/step - accuracy: 0.9993 - loss: 0.0037\n",
            "Epoch 4/5\n",
            "\u001b[1m15190/15190\u001b[0m \u001b[32m━━━━━━━━━━━━━━━━━━━━\u001b[0m\u001b[37m\u001b[0m \u001b[1m22s\u001b[0m 1ms/step - accuracy: 0.9993 - loss: 0.0037\n",
            "Epoch 5/5\n",
            "\u001b[1m15190/15190\u001b[0m \u001b[32m━━━━━━━━━━━━━━━━━━━━\u001b[0m\u001b[37m\u001b[0m \u001b[1m23s\u001b[0m 1ms/step - accuracy: 0.9995 - loss: 0.0028\n"
          ]
        },
        {
          "data": {
            "text/plain": [
              "<keras.src.callbacks.history.History at 0x22fbd385ad0>"
            ]
          },
          "execution_count": 50,
          "metadata": {},
          "output_type": "execute_result"
        }
      ],
      "source": [
        "# Compile the neural network model\n",
        "model.compile(\n",
        "    optimizer='adam',  # Adam optimizer for adaptive learning rate and efficient training\n",
        "    loss='binary_crossentropy',  # Binary cross-entropy loss for binary classification\n",
        "    metrics=['accuracy']  # Track accuracy during training\n",
        ")\n",
        "\n",
        "# Train the model using training data\n",
        "model.fit(\n",
        "    X_train, y_train,  # Training features and labels\n",
        "    batch_size=15,  # Number of samples per gradient update\n",
        "    epochs=5  # Train for 5 full passes over the dataset\n",
        ")\n"
      ]
    },
    {
      "cell_type": "markdown",
      "metadata": {
        "id": "Pc5UmDECKsXj"
      },
      "source": [
        "model.fit() is a method that teaches the model how to make predictions by using the training data (features: X_train and labels: y_train).\n",
        "\n",
        "batch_size=15 means the model looks at 15 samples (data points) at a time to calculate updates to its learning process.\n",
        "\n",
        "epochs=5 tells the model to go through the entire training dataset 5 times to improve its predictions.\n",
        "\n",
        "*Think of it like teaching a student. The student learns in small groups of 15 lessons at a time and goes through the entire course 5 times to grasp the material better.*"
      ]
    },
    {
      "cell_type": "code",
      "execution_count": 51,
      "metadata": {
        "colab": {
          "base_uri": "https://localhost:8080/"
        },
        "id": "PJtoxQkHxngP",
        "outputId": "15671280-b216-4e2a-bda5-037221345175"
      },
      "outputs": [
        {
          "name": "stdout",
          "output_type": "stream",
          "text": [
            "\u001b[1m1781/1781\u001b[0m \u001b[32m━━━━━━━━━━━━━━━━━━━━\u001b[0m\u001b[37m\u001b[0m \u001b[1m3s\u001b[0m 1ms/step - accuracy: 0.9993 - loss: 0.0041\n"
          ]
        }
      ],
      "source": [
        "# Evaluate the model on the test dataset\n",
        "\n",
        "score = model.evaluate(X_test, y_test)\n"
      ]
    },
    {
      "cell_type": "code",
      "execution_count": 52,
      "metadata": {
        "colab": {
          "base_uri": "https://localhost:8080/"
        },
        "id": "yyrCzqDJxngP",
        "outputId": "730c6be8-3ae6-4fc4-b2f7-c843a4212be7"
      },
      "outputs": [
        {
          "name": "stdout",
          "output_type": "stream",
          "text": [
            "[0.0034353442024439573, 0.9993153214454651]\n"
          ]
        }
      ],
      "source": [
        "print(score)"
      ]
    },
    {
      "cell_type": "markdown",
      "metadata": {
        "id": "H09xEjEvxngQ"
      },
      "source": [
        "- The model achieves an accuracy of 99.94% ! Is this a good performance ?\n",
        "- Remember that our dataset is significantly composed of non fraudulent samples with only 172 fraudulent transactions per 100,000. Consequently, a model predicting every transaction as 'non fraudulent' would achieve 99.83% accuracy despite being unable to detect a single fraudulent case !\n",
        "- Since our dataset is very heavily imbalanced—there are far more non-fraudulent transactions compared to fraudulent ones—a model could achieve 99.83% accuracy by simply predicting every transaction as \"non-fraudulent.\"\n",
        "\n",
        "However, such a model would completely fail to detect any fraudulent transactions, making it ineffective for the purpose of fraud detection."
      ]
    },
    {
      "cell_type": "markdown",
      "metadata": {
        "id": "j4vvj4IK4dM5"
      },
      "source": [
        "![confusion-matrix.webp](data:image/webp;base64,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)"
      ]
    },
    {
      "cell_type": "code",
      "execution_count": 53,
      "metadata": {
        "colab": {
          "base_uri": "https://localhost:8080/",
          "height": 636
        },
        "id": "RF2RC_oRxngS",
        "outputId": "c2cfe03a-4f41-4b32-e3ff-1d34327a212c"
      },
      "outputs": [
        {
          "name": "stdout",
          "output_type": "stream",
          "text": [
            "\u001b[1m1781/1781\u001b[0m \u001b[32m━━━━━━━━━━━━━━━━━━━━\u001b[0m\u001b[37m\u001b[0m \u001b[1m2s\u001b[0m 950us/step\n",
            "Test Data Accuracy: 0.9993\n"
          ]
        },
        {
          "data": {
            "image/png": "[encoded data removed]",
            "text/plain": [
              "<Figure size 1000x700 with 2 Axes>"
            ]
          },
          "metadata": {},
          "output_type": "display_data"
        }
      ],
      "source": [
        "## Confusion Matrix on unsee test set\n",
        "import seaborn as sn\n",
        "y_pred = model.predict(X_test)\n",
        "for i in range(len(y_test)):\n",
        "    if y_pred[i]>0.5:\n",
        "        y_pred[i]=1\n",
        "    else:\n",
        "        y_pred[i]=0\n",
        "cm = confusion_matrix(y_test, y_pred) # rows = truth, cols = prediction\n",
        "df_cm = pd.DataFrame(cm, index = (0, 1), columns = (0, 1))\n",
        "plt.figure(figsize = (10,7))\n",
        "#sn.set(font_scale=1.4)\n",
        "sn.heatmap(df_cm, annot=True, fmt='g')\n",
        "print(\"Test Data Accuracy: %0.4f\" % accuracy_score(y_test, y_pred))"
      ]
    },
    {
      "cell_type": "markdown",
      "metadata": {
        "id": "6t30GiVDxngT"
      },
      "source": [
        "**Detection of fraudulent transactions did not improve compared to the previous machine learning models.**\n",
        "\n",
        "- 76 fraudulent transactions are detected as fraudulent by the model, yet 22 fraudulent transactions are not identified (false negative) which remains an issue. Our objective must be to detect as many fraudulent transactions as possible since these can have a huge negative impact.\n",
        "- 18 regular transactions are detected as potentially fraudulent by the model. These are false positive. This number is negligible.\n",
        "\n",
        "Conclusion : We must find ways to further reduce the number of false negative."
      ]
    },
    {
      "cell_type": "code",
      "execution_count": 54,
      "metadata": {
        "colab": {
          "base_uri": "https://localhost:8080/"
        },
        "id": "QF6_mp5txngT",
        "outputId": "7c7898ae-e451-4428-ac87-f72c7160841f"
      },
      "outputs": [
        {
          "name": "stdout",
          "output_type": "stream",
          "text": [
            "\u001b[1m1781/1781\u001b[0m \u001b[32m━━━━━━━━━━━━━━━━━━━━\u001b[0m\u001b[37m\u001b[0m \u001b[1m1s\u001b[0m 580us/step\n"
          ]
        }
      ],
      "source": [
        "# Alternative approach to plot confusion matrix (from scikit-learn.org site)\n",
        "y_pred = model.predict(X_test)\n",
        "y_test = pd.DataFrame(y_test)    # Pandas format required by confusion_matrix function"
      ]
    },
    {
      "cell_type": "code",
      "execution_count": 55,
      "metadata": {
        "id": "C0OsrQ0nxngU"
      },
      "outputs": [],
      "source": [
        "cnf_matrix = confusion_matrix(y_test, y_pred.round())   # y_pred.round() to convert probability to either 0 or 1 in line with y_test"
      ]
    },
    {
      "cell_type": "code",
      "execution_count": 56,
      "metadata": {
        "colab": {
          "base_uri": "https://localhost:8080/"
        },
        "id": "ladi8sazxngV",
        "outputId": "e21ea528-c890-4970-cbcf-60fbc28915c1"
      },
      "outputs": [
        {
          "name": "stdout",
          "output_type": "stream",
          "text": [
            "[[56856     8]\n",
            " [   31    67]]\n"
          ]
        }
      ],
      "source": [
        "print(cnf_matrix)"
      ]
    },
    {
      "cell_type": "code",
      "execution_count": 57,
      "metadata": {
        "colab": {
          "base_uri": "https://localhost:8080/",
          "height": 542
        },
        "id": "Go3u9ZZqxngV",
        "outputId": "24f601a9-50cd-444b-af3d-6b382957d46d"
      },
      "outputs": [
        {
          "name": "stdout",
          "output_type": "stream",
          "text": [
            "Confusion matrix, without normalization\n",
            "[[56856     8]\n",
            " [   31    67]]\n"
          ]
        },
        {
          "data": {
            "image/png": "[encoded data removed]",
            "text/plain": [
              "<Figure size 640x480 with 2 Axes>"
            ]
          },
          "metadata": {},
          "output_type": "display_data"
        }
      ],
      "source": [
        "plot_confusion_matrix(cnf_matrix, classes=[0,1])\n",
        "plt.show()"
      ]
    },
    {
      "cell_type": "code",
      "execution_count": 58,
      "metadata": {
        "id": "mb0s9RGqxngW"
      },
      "outputs": [],
      "source": [
        "acc = accuracy_score(y_test, y_pred.round())\n",
        "prec = precision_score(y_test, y_pred.round())\n",
        "rec = recall_score(y_test, y_pred.round())\n",
        "f1 = f1_score(y_test, y_pred.round())"
      ]
    },
    {
      "cell_type": "code",
      "execution_count": 59,
      "metadata": {
        "colab": {
          "base_uri": "https://localhost:8080/",
          "height": 143
        },
        "id": "YxChtkovxngX",
        "outputId": "4577a4d5-7f66-4c47-cdce-8073f90d3fee"
      },
      "outputs": [
        {
          "data": {
            "text/html": [
              "<div>\n",
              "<style scoped>\n",
              "    .dataframe tbody tr th:only-of-type {\n",
              "        vertical-align: middle;\n",
              "    }\n",
              "\n",
              "    .dataframe tbody tr th {\n",
              "        vertical-align: top;\n",
              "    }\n",
              "\n",
              "    .dataframe thead th {\n",
              "        text-align: right;\n",
              "    }\n",
              "</style>\n",
              "<table border=\"1\" class=\"dataframe\">\n",
              "  <thead>\n",
              "    <tr style=\"text-align: right;\">\n",
              "      <th></th>\n",
              "      <th>Model</th>\n",
              "      <th>Accuracy</th>\n",
              "      <th>FalseNegRate</th>\n",
              "      <th>Recall</th>\n",
              "      <th>Precision</th>\n",
              "      <th>F1 Score</th>\n",
              "    </tr>\n",
              "  </thead>\n",
              "  <tbody>\n",
              "    <tr>\n",
              "      <th>0</th>\n",
              "      <td>RandomForest</td>\n",
              "      <td>0.999087</td>\n",
              "      <td>0.428571</td>\n",
              "      <td>0.571429</td>\n",
              "      <td>0.848485</td>\n",
              "      <td>0.682927</td>\n",
              "    </tr>\n",
              "    <tr>\n",
              "      <th>1</th>\n",
              "      <td>DecisionTree</td>\n",
              "      <td>0.999087</td>\n",
              "      <td>0.224490</td>\n",
              "      <td>0.775510</td>\n",
              "      <td>0.716981</td>\n",
              "      <td>0.745098</td>\n",
              "    </tr>\n",
              "    <tr>\n",
              "      <th>2</th>\n",
              "      <td>PlainNeuralNetwork</td>\n",
              "      <td>0.999315</td>\n",
              "      <td>0.316327</td>\n",
              "      <td>0.683673</td>\n",
              "      <td>0.893333</td>\n",
              "      <td>0.774566</td>\n",
              "    </tr>\n",
              "  </tbody>\n",
              "</table>\n",
              "</div>"
            ],
            "text/plain": [
              "                Model  Accuracy  FalseNegRate    Recall  Precision  F1 Score\n",
              "0        RandomForest  0.999087      0.428571  0.571429   0.848485  0.682927\n",
              "1        DecisionTree  0.999087      0.224490  0.775510   0.716981  0.745098\n",
              "2  PlainNeuralNetwork  0.999315      0.316327  0.683673   0.893333  0.774566"
            ]
          },
          "execution_count": 59,
          "metadata": {},
          "output_type": "execute_result"
        }
      ],
      "source": [
        "import pandas as pd\n",
        "\n",
        "# Store results in DataFrame for comparing various models\n",
        "model_results = pd.DataFrame([['PlainNeuralNetwork', acc, 1-rec, rec, prec, f1]],\n",
        "               columns=['Model', 'Accuracy', 'FalseNegRate', 'Recall', 'Precision', 'F1 Score'])\n",
        "\n",
        "# Ensure results_testset is already defined; if not, initialize it\n",
        "if 'results_testset' not in locals():\n",
        "    results_testset = pd.DataFrame(columns=['Model', 'Accuracy', 'FalseNegRate', 'Recall', 'Precision', 'F1 Score'])\n",
        "\n",
        "# Fix append issue using pd.concat()\n",
        "results_testset = pd.concat([results_testset, model_results], ignore_index=True)\n",
        "\n",
        "# Display updated DataFrame\n",
        "results_testset\n"
      ]
    },
    {
      "cell_type": "code",
      "execution_count": 60,
      "metadata": {
        "colab": {
          "base_uri": "https://localhost:8080/",
          "height": 561
        },
        "id": "SgI5A_FaxngZ",
        "outputId": "09eb8758-adfe-477b-fc87-4d7fc46d37ba"
      },
      "outputs": [
        {
          "name": "stdout",
          "output_type": "stream",
          "text": [
            "\u001b[1m   1/8901\u001b[0m \u001b[37m━━━━━━━━━━━━━━━━━━━━\u001b[0m \u001b[1m5:16\u001b[0m 36ms/step"
          ]
        },
        {
          "name": "stdout",
          "output_type": "stream",
          "text": [
            "\u001b[1m8901/8901\u001b[0m \u001b[32m━━━━━━━━━━━━━━━━━━━━\u001b[0m\u001b[37m\u001b[0m \u001b[1m5s\u001b[0m 590us/step\n",
            "Confusion matrix, without normalization\n",
            "[[284281     34]\n",
            " [   132    360]]\n"
          ]
        },
        {
          "data": {
            "image/png": "[encoded data removed]",
            "text/plain": [
              "<Figure size 640x480 with 2 Axes>"
            ]
          },
          "metadata": {},
          "output_type": "display_data"
        }
      ],
      "source": [
        "# Confusion matrix on the whole dataset lets see\n",
        "\n",
        "y_pred = model.predict(X)\n",
        "y_expected = pd.DataFrame(y)\n",
        "cnf_matrix = confusion_matrix(y_expected, y_pred.round())\n",
        "plot_confusion_matrix(cnf_matrix,classes=[0,1])\n",
        "plt.show()"
      ]
    },
    {
      "cell_type": "code",
      "execution_count": 61,
      "metadata": {
        "id": "7RY6eUmixngZ"
      },
      "outputs": [],
      "source": [
        "acc = accuracy_score(y, y_pred.round())\n",
        "prec = precision_score(y, y_pred.round())\n",
        "rec = recall_score(y, y_pred.round())\n",
        "f1 = f1_score(y, y_pred.round())"
      ]
    },
    {
      "cell_type": "code",
      "execution_count": 62,
      "metadata": {
        "colab": {
          "base_uri": "https://localhost:8080/",
          "height": 143
        },
        "id": "K3ygNtGExngb",
        "outputId": "a1579a3a-7b96-43b7-9876-c5b48cdddb21"
      },
      "outputs": [
        {
          "data": {
            "text/html": [
              "<div>\n",
              "<style scoped>\n",
              "    .dataframe tbody tr th:only-of-type {\n",
              "        vertical-align: middle;\n",
              "    }\n",
              "\n",
              "    .dataframe tbody tr th {\n",
              "        vertical-align: top;\n",
              "    }\n",
              "\n",
              "    .dataframe thead th {\n",
              "        text-align: right;\n",
              "    }\n",
              "</style>\n",
              "<table border=\"1\" class=\"dataframe\">\n",
              "  <thead>\n",
              "    <tr style=\"text-align: right;\">\n",
              "      <th></th>\n",
              "      <th>Model</th>\n",
              "      <th>Accuracy</th>\n",
              "      <th>FalseNegRate</th>\n",
              "      <th>Recall</th>\n",
              "      <th>Precision</th>\n",
              "      <th>F1 Score</th>\n",
              "    </tr>\n",
              "  </thead>\n",
              "  <tbody>\n",
              "    <tr>\n",
              "      <th>0</th>\n",
              "      <td>RandomForest</td>\n",
              "      <td>0.999860</td>\n",
              "      <td>0.069106</td>\n",
              "      <td>0.930894</td>\n",
              "      <td>0.987069</td>\n",
              "      <td>0.958159</td>\n",
              "    </tr>\n",
              "    <tr>\n",
              "      <th>1</th>\n",
              "      <td>DecisionTree</td>\n",
              "      <td>0.999817</td>\n",
              "      <td>0.044715</td>\n",
              "      <td>0.955285</td>\n",
              "      <td>0.940000</td>\n",
              "      <td>0.947581</td>\n",
              "    </tr>\n",
              "    <tr>\n",
              "      <th>2</th>\n",
              "      <td>PlainNeuralNetwork</td>\n",
              "      <td>0.999417</td>\n",
              "      <td>0.268293</td>\n",
              "      <td>0.731707</td>\n",
              "      <td>0.913706</td>\n",
              "      <td>0.812641</td>\n",
              "    </tr>\n",
              "  </tbody>\n",
              "</table>\n",
              "</div>"
            ],
            "text/plain": [
              "                Model  Accuracy  FalseNegRate    Recall  Precision  F1 Score\n",
              "0        RandomForest  0.999860      0.069106  0.930894   0.987069  0.958159\n",
              "1        DecisionTree  0.999817      0.044715  0.955285   0.940000  0.947581\n",
              "2  PlainNeuralNetwork  0.999417      0.268293  0.731707   0.913706  0.812641"
            ]
          },
          "execution_count": 62,
          "metadata": {},
          "output_type": "execute_result"
        }
      ],
      "source": [
        "import pandas as pd\n",
        "\n",
        "# Store results in DataFrame for comparing various models\n",
        "model_results = pd.DataFrame([['PlainNeuralNetwork', acc, 1-rec, rec, prec, f1]],\n",
        "               columns=['Model', 'Accuracy', 'FalseNegRate', 'Recall', 'Precision', 'F1 Score'])\n",
        "\n",
        "# Ensure results_fullset is already defined; if not, initialize it\n",
        "if 'results_fullset' not in locals():\n",
        "    results_fullset = pd.DataFrame(columns=['Model', 'Accuracy', 'FalseNegRate', 'Recall', 'Precision', 'F1 Score'])\n",
        "\n",
        "# Fix append issue using pd.concat()\n",
        "results_fullset = pd.concat([results_fullset, model_results], ignore_index=True)\n",
        "\n",
        "# Display updated DataFrame\n",
        "results_fullset\n"
      ]
    },
    {
      "cell_type": "markdown",
      "metadata": {
        "id": "R55qKJaFxngb"
      },
      "source": [
        "# Technique no. 1\n",
        "\n",
        "# **Weighted loss to account technique for large class imbalance in train dataset**\n",
        "\n",
        "*- we will adjust the class imbalance by giving additional weight to the loss associated to errors made on fraudulent transaction detection. Let's review the process:*"
      ]
    },
    {
      "cell_type": "code",
      "execution_count": 63,
      "metadata": {
        "colab": {
          "base_uri": "https://localhost:8080/"
        },
        "id": "hbOGTWx2xngc",
        "outputId": "e16612fb-0608-4250-e86b-31bad6c38ebc"
      },
      "outputs": [
        {
          "name": "stdout",
          "output_type": "stream",
          "text": [
            "{np.int64(0): np.float64(0.5008661206149896), np.int64(1): np.float64(289.14340101522845)}\n"
          ]
        }
      ],
      "source": [
        "import numpy as np\n",
        "from sklearn.utils import class_weight\n",
        "\n",
        "# Correct usage of compute_class_weight\n",
        "class_weights = class_weight.compute_class_weight(\n",
        "    class_weight='balanced',  # Keyword argument\n",
        "    classes=np.unique(y_train),\n",
        "    y=y_train.ravel()  # Flatten y_train to 1D if needed\n",
        ")\n",
        "\n",
        "# Convert to dictionary\n",
        "class_weights = dict(zip(np.unique(y_train), class_weights))\n",
        "\n",
        "print(class_weights)\n"
      ]
    },
    {
      "cell_type": "markdown",
      "metadata": {
        "id": "FXcdRiFzxngd"
      },
      "source": [
        "- The class 'Fraudulent' (y=1) is assigned a weight of 289 vs 0.5 for the class 'not fraudulent' due to the very low prevalence we detected during data exploration. This allows the model to give more importance to the errors made on fraudulent cases during training."
      ]
    },
    {
      "cell_type": "code",
      "execution_count": 64,
      "metadata": {
        "colab": {
          "base_uri": "https://localhost:8080/"
        },
        "id": "A8Hxdf3Dxnge",
        "outputId": "d7bd44c0-1611-4772-8946-c877b981de71"
      },
      "outputs": [
        {
          "name": "stdout",
          "output_type": "stream",
          "text": [
            "Epoch 1/5\n",
            "\u001b[1m15190/15190\u001b[0m \u001b[32m━━━━━━━━━━━━━━━━━━━━\u001b[0m\u001b[37m\u001b[0m \u001b[1m24s\u001b[0m 2ms/step - accuracy: 0.9711 - loss: 0.3892\n",
            "Epoch 2/5\n",
            "\u001b[1m15190/15190\u001b[0m \u001b[32m━━━━━━━━━━━━━━━━━━━━\u001b[0m\u001b[37m\u001b[0m \u001b[1m24s\u001b[0m 2ms/step - accuracy: 0.9663 - loss: 0.3333\n",
            "Epoch 3/5\n",
            "\u001b[1m15190/15190\u001b[0m \u001b[32m━━━━━━━━━━━━━━━━━━━━\u001b[0m\u001b[37m\u001b[0m \u001b[1m24s\u001b[0m 2ms/step - accuracy: 0.9675 - loss: 0.1511\n",
            "Epoch 4/5\n",
            "\u001b[1m15190/15190\u001b[0m \u001b[32m━━━━━━━━━━━━━━━━━━━━\u001b[0m\u001b[37m\u001b[0m \u001b[1m26s\u001b[0m 2ms/step - accuracy: 0.9614 - loss: 0.2337\n",
            "Epoch 5/5\n",
            "\u001b[1m15190/15190\u001b[0m \u001b[32m━━━━━━━━━━━━━━━━━━━━\u001b[0m\u001b[37m\u001b[0m \u001b[1m25s\u001b[0m 2ms/step - accuracy: 0.9755 - loss: 0.3797\n"
          ]
        },
        {
          "data": {
            "text/plain": [
              "<keras.src.callbacks.history.History at 0x22fc6449e50>"
            ]
          },
          "execution_count": 64,
          "metadata": {},
          "output_type": "execute_result"
        }
      ],
      "source": [
        "model.fit(X_train,y_train,batch_size=15,epochs=5, class_weight=class_weights, shuffle=True)"
      ]
    },
    {
      "cell_type": "code",
      "execution_count": 65,
      "metadata": {
        "colab": {
          "base_uri": "https://localhost:8080/"
        },
        "id": "tw7hCXIZxnge",
        "outputId": "9fc8bf1f-03f2-42b3-9319-9ce2b69fbfa1"
      },
      "outputs": [
        {
          "name": "stdout",
          "output_type": "stream",
          "text": [
            "\u001b[1m1781/1781\u001b[0m \u001b[32m━━━━━━━━━━━━━━━━━━━━\u001b[0m\u001b[37m\u001b[0m \u001b[1m2s\u001b[0m 1ms/step - accuracy: 0.9734 - loss: 0.0586\n"
          ]
        }
      ],
      "source": [
        "score_weighted = model.evaluate(X_test, y_test)"
      ]
    },
    {
      "cell_type": "code",
      "execution_count": 66,
      "metadata": {
        "colab": {
          "base_uri": "https://localhost:8080/"
        },
        "id": "240R5i46xngf",
        "outputId": "6298990a-d6ba-4ce9-c18f-1481f9bc54aa"
      },
      "outputs": [
        {
          "name": "stdout",
          "output_type": "stream",
          "text": [
            "[0.05767124146223068, 0.9741406440734863]\n"
          ]
        }
      ],
      "source": [
        "print(score_weighted)"
      ]
    },
    {
      "cell_type": "code",
      "execution_count": 67,
      "metadata": {
        "colab": {
          "base_uri": "https://localhost:8080/",
          "height": 636
        },
        "id": "cuLx7TRMxngi",
        "outputId": "a47d5e28-44c6-4546-a633-e94233bcd095"
      },
      "outputs": [
        {
          "name": "stdout",
          "output_type": "stream",
          "text": [
            "\u001b[1m1781/1781\u001b[0m \u001b[32m━━━━━━━━━━━━━━━━━━━━\u001b[0m\u001b[37m\u001b[0m \u001b[1m1s\u001b[0m 677us/step\n",
            "Test Data Accuracy: 0.9741\n"
          ]
        },
        {
          "data": {
            "image/png": "[encoded data removed]",
            "text/plain": [
              "<Figure size 1000x700 with 2 Axes>"
            ]
          },
          "metadata": {},
          "output_type": "display_data"
        }
      ],
      "source": [
        "## Confusion Matrix on unseen test set\n",
        "\n",
        "\n",
        "y_pred = model.predict(X_test)\n",
        "for i in range(len(y_test)):\n",
        "    if y_pred[i]>0.5:\n",
        "        y_pred[i]=1\n",
        "    else:\n",
        "        y_pred[i]=0\n",
        "cm = confusion_matrix(y_test, y_pred) # rows = truth, cols = prediction\n",
        "df_cm = pd.DataFrame(cm, index = (0, 1), columns = (0, 1))\n",
        "plt.figure(figsize = (10,7))\n",
        "#sn.set(font_scale=1.4)\n",
        "sn.heatmap(df_cm, annot=True, fmt='g')\n",
        "print(\"Test Data Accuracy: %0.4f\" % accuracy_score(y_test, y_pred))"
      ]
    },
    {
      "cell_type": "markdown",
      "metadata": {
        "id": "nXIzhH6Vxngj"
      },
      "source": [
        "- The accuracy reduced a bit. We need to look at more detailed evaluation measures like precision and recall to gauge the true model performance.\n",
        "- The model is actually much better at detecting fraudulent cases now. We have a lower False negative rate which is the key criteria for our purpose (detect a fraud when there is one).\n",
        "- But on the other hand, the model generates an excessive number of false positive compared to the previous approaches."
      ]
    },
    {
      "cell_type": "code",
      "execution_count": 68,
      "metadata": {
        "id": "QE3QdL0Axngk"
      },
      "outputs": [],
      "source": [
        "acc = accuracy_score(y_test, y_pred.round())\n",
        "prec = precision_score(y_test, y_pred.round())\n",
        "rec = recall_score(y_test, y_pred.round())\n",
        "f1 = f1_score(y_test, y_pred.round())"
      ]
    },
    {
      "cell_type": "code",
      "execution_count": 69,
      "metadata": {
        "colab": {
          "base_uri": "https://localhost:8080/",
          "height": 175
        },
        "id": "f_xARXsFxngm",
        "outputId": "dfd5ccc5-ba02-48b2-c1d0-7996a49324e8"
      },
      "outputs": [
        {
          "data": {
            "text/html": [
              "<div>\n",
              "<style scoped>\n",
              "    .dataframe tbody tr th:only-of-type {\n",
              "        vertical-align: middle;\n",
              "    }\n",
              "\n",
              "    .dataframe tbody tr th {\n",
              "        vertical-align: top;\n",
              "    }\n",
              "\n",
              "    .dataframe thead th {\n",
              "        text-align: right;\n",
              "    }\n",
              "</style>\n",
              "<table border=\"1\" class=\"dataframe\">\n",
              "  <thead>\n",
              "    <tr style=\"text-align: right;\">\n",
              "      <th></th>\n",
              "      <th>Model</th>\n",
              "      <th>Accuracy</th>\n",
              "      <th>FalseNegRate</th>\n",
              "      <th>Recall</th>\n",
              "      <th>Precision</th>\n",
              "      <th>F1 Score</th>\n",
              "    </tr>\n",
              "  </thead>\n",
              "  <tbody>\n",
              "    <tr>\n",
              "      <th>0</th>\n",
              "      <td>RandomForest</td>\n",
              "      <td>0.999087</td>\n",
              "      <td>0.428571</td>\n",
              "      <td>0.571429</td>\n",
              "      <td>0.848485</td>\n",
              "      <td>0.682927</td>\n",
              "    </tr>\n",
              "    <tr>\n",
              "      <th>1</th>\n",
              "      <td>DecisionTree</td>\n",
              "      <td>0.999087</td>\n",
              "      <td>0.224490</td>\n",
              "      <td>0.775510</td>\n",
              "      <td>0.716981</td>\n",
              "      <td>0.745098</td>\n",
              "    </tr>\n",
              "    <tr>\n",
              "      <th>2</th>\n",
              "      <td>PlainNeuralNetwork</td>\n",
              "      <td>0.999315</td>\n",
              "      <td>0.316327</td>\n",
              "      <td>0.683673</td>\n",
              "      <td>0.893333</td>\n",
              "      <td>0.774566</td>\n",
              "    </tr>\n",
              "    <tr>\n",
              "      <th>3</th>\n",
              "      <td>WeightedNeuralNetwork</td>\n",
              "      <td>0.974141</td>\n",
              "      <td>0.102041</td>\n",
              "      <td>0.897959</td>\n",
              "      <td>0.056738</td>\n",
              "      <td>0.106731</td>\n",
              "    </tr>\n",
              "  </tbody>\n",
              "</table>\n",
              "</div>"
            ],
            "text/plain": [
              "                   Model  Accuracy  FalseNegRate    Recall  Precision  \\\n",
              "0           RandomForest  0.999087      0.428571  0.571429   0.848485   \n",
              "1           DecisionTree  0.999087      0.224490  0.775510   0.716981   \n",
              "2     PlainNeuralNetwork  0.999315      0.316327  0.683673   0.893333   \n",
              "3  WeightedNeuralNetwork  0.974141      0.102041  0.897959   0.056738   \n",
              "\n",
              "   F1 Score  \n",
              "0  0.682927  \n",
              "1  0.745098  \n",
              "2  0.774566  \n",
              "3  0.106731  "
            ]
          },
          "execution_count": 69,
          "metadata": {},
          "output_type": "execute_result"
        }
      ],
      "source": [
        "import pandas as pd\n",
        "\n",
        "# Store results in DataFrame for comparing various models\n",
        "model_results = pd.DataFrame([['WeightedNeuralNetwork', acc, 1-rec, rec, prec, f1]],\n",
        "               columns=['Model', 'Accuracy', 'FalseNegRate', 'Recall', 'Precision', 'F1 Score'])\n",
        "\n",
        "# Ensure results_testset is already defined; if not, initialize it\n",
        "if 'results_testset' not in locals():\n",
        "    results_testset = pd.DataFrame(columns=['Model', 'Accuracy', 'FalseNegRate', 'Recall', 'Precision', 'F1 Score'])\n",
        "\n",
        "# Fix append issue using pd.concat()\n",
        "results_testset = pd.concat([results_testset, model_results], ignore_index=True)\n",
        "\n",
        "# Display updated DataFrame\n",
        "results_testset\n"
      ]
    },
    {
      "cell_type": "markdown",
      "metadata": {
        "id": "h6b57LZhxngn"
      },
      "source": [
        "- Although the recall metric improves, the F1-score collapses due to extremely poor precision. Given the very high number of transactions processed, the excessive number of false positives is clearly an issue."
      ]
    },
    {
      "cell_type": "code",
      "execution_count": 70,
      "metadata": {
        "colab": {
          "base_uri": "https://localhost:8080/",
          "height": 561
        },
        "id": "4MdgOWuXxngn",
        "outputId": "b62d40ab-efed-4d32-99e1-2678d3bb05bf"
      },
      "outputs": [
        {
          "name": "stdout",
          "output_type": "stream",
          "text": [
            "\u001b[1m8901/8901\u001b[0m \u001b[32m━━━━━━━━━━━━━━━━━━━━\u001b[0m\u001b[37m\u001b[0m \u001b[1m6s\u001b[0m 692us/step\n",
            "Confusion matrix, without normalization\n",
            "[[276766   7549]\n",
            " [    30    462]]\n"
          ]
        },
        {
          "data": {
            "image/png": "[encoded data removed]",
            "text/plain": [
              "<Figure size 640x480 with 2 Axes>"
            ]
          },
          "metadata": {},
          "output_type": "display_data"
        }
      ],
      "source": [
        "# Confusion matrix on the whole dataset\n",
        "y_pred = model.predict(X)\n",
        "y_expected = pd.DataFrame(y)\n",
        "cnf_matrix = confusion_matrix(y_expected, y_pred.round())\n",
        "plot_confusion_matrix(cnf_matrix,classes=[0,1])\n",
        "plt.show()"
      ]
    },
    {
      "cell_type": "code",
      "execution_count": 71,
      "metadata": {
        "id": "Uk774J7Uxngo"
      },
      "outputs": [],
      "source": [
        "acc = accuracy_score(y, y_pred.round())\n",
        "prec = precision_score(y, y_pred.round())\n",
        "rec = recall_score(y, y_pred.round())\n",
        "f1 = f1_score(y, y_pred.round())"
      ]
    },
    {
      "cell_type": "code",
      "execution_count": 72,
      "metadata": {
        "colab": {
          "base_uri": "https://localhost:8080/",
          "height": 175
        },
        "id": "hBu017Mcxngp",
        "outputId": "897b26fa-5c9c-43ef-af71-62941f5e447c"
      },
      "outputs": [
        {
          "data": {
            "text/html": [
              "<div>\n",
              "<style scoped>\n",
              "    .dataframe tbody tr th:only-of-type {\n",
              "        vertical-align: middle;\n",
              "    }\n",
              "\n",
              "    .dataframe tbody tr th {\n",
              "        vertical-align: top;\n",
              "    }\n",
              "\n",
              "    .dataframe thead th {\n",
              "        text-align: right;\n",
              "    }\n",
              "</style>\n",
              "<table border=\"1\" class=\"dataframe\">\n",
              "  <thead>\n",
              "    <tr style=\"text-align: right;\">\n",
              "      <th></th>\n",
              "      <th>Model</th>\n",
              "      <th>Accuracy</th>\n",
              "      <th>FalseNegRate</th>\n",
              "      <th>Recall</th>\n",
              "      <th>Precision</th>\n",
              "      <th>F1 Score</th>\n",
              "    </tr>\n",
              "  </thead>\n",
              "  <tbody>\n",
              "    <tr>\n",
              "      <th>0</th>\n",
              "      <td>RandomForest</td>\n",
              "      <td>0.999860</td>\n",
              "      <td>0.069106</td>\n",
              "      <td>0.930894</td>\n",
              "      <td>0.987069</td>\n",
              "      <td>0.958159</td>\n",
              "    </tr>\n",
              "    <tr>\n",
              "      <th>1</th>\n",
              "      <td>DecisionTree</td>\n",
              "      <td>0.999817</td>\n",
              "      <td>0.044715</td>\n",
              "      <td>0.955285</td>\n",
              "      <td>0.940000</td>\n",
              "      <td>0.947581</td>\n",
              "    </tr>\n",
              "    <tr>\n",
              "      <th>2</th>\n",
              "      <td>PlainNeuralNetwork</td>\n",
              "      <td>0.999417</td>\n",
              "      <td>0.268293</td>\n",
              "      <td>0.731707</td>\n",
              "      <td>0.913706</td>\n",
              "      <td>0.812641</td>\n",
              "    </tr>\n",
              "    <tr>\n",
              "      <th>3</th>\n",
              "      <td>WeightedNeuralNetwork</td>\n",
              "      <td>0.973389</td>\n",
              "      <td>0.060976</td>\n",
              "      <td>0.939024</td>\n",
              "      <td>0.057671</td>\n",
              "      <td>0.108668</td>\n",
              "    </tr>\n",
              "  </tbody>\n",
              "</table>\n",
              "</div>"
            ],
            "text/plain": [
              "                   Model  Accuracy  FalseNegRate    Recall  Precision  \\\n",
              "0           RandomForest  0.999860      0.069106  0.930894   0.987069   \n",
              "1           DecisionTree  0.999817      0.044715  0.955285   0.940000   \n",
              "2     PlainNeuralNetwork  0.999417      0.268293  0.731707   0.913706   \n",
              "3  WeightedNeuralNetwork  0.973389      0.060976  0.939024   0.057671   \n",
              "\n",
              "   F1 Score  \n",
              "0  0.958159  \n",
              "1  0.947581  \n",
              "2  0.812641  \n",
              "3  0.108668  "
            ]
          },
          "execution_count": 72,
          "metadata": {},
          "output_type": "execute_result"
        }
      ],
      "source": [
        "import pandas as pd\n",
        "\n",
        "# Store results in DataFrame for comparing various models\n",
        "model_results = pd.DataFrame([['WeightedNeuralNetwork', acc, 1-rec, rec, prec, f1]],\n",
        "               columns=['Model', 'Accuracy', 'FalseNegRate', 'Recall', 'Precision', 'F1 Score'])\n",
        "\n",
        "# Ensure results_fullset is already defined; if not, initialize it\n",
        "if 'results_fullset' not in locals():\n",
        "    results_fullset = pd.DataFrame(columns=['Model', 'Accuracy', 'FalseNegRate', 'Recall', 'Precision', 'F1 Score'])\n",
        "\n",
        "# Fix append issue using pd.concat()\n",
        "results_fullset = pd.concat([results_fullset, model_results], ignore_index=True)\n",
        "\n",
        "# Display updated DataFrame\n",
        "results_fullset\n"
      ]
    },
    {
      "cell_type": "markdown",
      "metadata": {
        "id": "3MMQGSjZxngq"
      },
      "source": [
        "# Technique no. 2\n",
        "##Undersampling\n",
        "\n",
        "---\n",
        "\n",
        "- In order to balance the train set, another technique we will be using is undersampling.\n",
        "\n",
        "---\n",
        "\n",
        "With this technique, we adjust the largest class to match the number of samples of the under-represented class. Here we want to randomly pick an amount of non-fraudulent transactions equal to the number of fraudulent transactions in the dataset."
      ]
    },
    {
      "cell_type": "code",
      "execution_count": 73,
      "metadata": {
        "colab": {
          "base_uri": "https://localhost:8080/"
        },
        "id": "TRIk9JwZxngr",
        "outputId": "9c707e8f-dea8-4c23-c342-5ee5d301d65a"
      },
      "outputs": [
        {
          "name": "stdout",
          "output_type": "stream",
          "text": [
            "492\n"
          ]
        }
      ],
      "source": [
        "fraud_indices = np.array(data[data.Class == 1].index)\n",
        "number_records_fraud = len(fraud_indices)\n",
        "print(number_records_fraud)"
      ]
    },
    {
      "cell_type": "code",
      "execution_count": 74,
      "metadata": {
        "id": "19pXpHayxngr"
      },
      "outputs": [],
      "source": [
        "normal_indices = data[data.Class == 0].index"
      ]
    },
    {
      "cell_type": "code",
      "execution_count": 75,
      "metadata": {
        "colab": {
          "base_uri": "https://localhost:8080/"
        },
        "id": "jHxwBJmjxngs",
        "outputId": "12f8492f-b2c0-413e-bc71-aab6eeeaa205"
      },
      "outputs": [
        {
          "data": {
            "text/plain": [
              "284315"
            ]
          },
          "execution_count": 75,
          "metadata": {},
          "output_type": "execute_result"
        }
      ],
      "source": [
        "len(normal_indices)"
      ]
    },
    {
      "cell_type": "code",
      "execution_count": 76,
      "metadata": {
        "colab": {
          "base_uri": "https://localhost:8080/"
        },
        "id": "pqKOPonAxngs",
        "outputId": "5684ca48-52d5-4b36-f99a-390903788db4"
      },
      "outputs": [
        {
          "name": "stdout",
          "output_type": "stream",
          "text": [
            "492\n"
          ]
        }
      ],
      "source": [
        "# Random select N indices from non fraudulent samples (N equals to number of fraudulent records)\n",
        "random_normal_indices = np.random.choice(normal_indices, number_records_fraud, replace=False)\n",
        "random_normal_indices = np.array(random_normal_indices)\n",
        "print(len(random_normal_indices))"
      ]
    },
    {
      "cell_type": "code",
      "execution_count": 77,
      "metadata": {
        "colab": {
          "base_uri": "https://localhost:8080/"
        },
        "id": "DHQUVGoSxngt",
        "outputId": "5445a0b8-21d4-4591-dbad-6192f42c1e0a"
      },
      "outputs": [
        {
          "name": "stdout",
          "output_type": "stream",
          "text": [
            "984\n"
          ]
        }
      ],
      "source": [
        "under_sample_indices = np.concatenate([fraud_indices,random_normal_indices])\n",
        "print(len(under_sample_indices))"
      ]
    },
    {
      "cell_type": "code",
      "execution_count": 78,
      "metadata": {
        "id": "Ki5BnOgVxngu"
      },
      "outputs": [],
      "source": [
        "under_sample_data = data.iloc[under_sample_indices,:]"
      ]
    },
    {
      "cell_type": "code",
      "execution_count": 79,
      "metadata": {
        "id": "yD5_fOtyxngu"
      },
      "outputs": [],
      "source": [
        "X_undersample = under_sample_data.iloc[:,under_sample_data.columns != 'Class']\n",
        "y_undersample = under_sample_data.iloc[:,under_sample_data.columns == 'Class']"
      ]
    },
    {
      "cell_type": "code",
      "execution_count": 80,
      "metadata": {
        "id": "h5TVsATvxngw"
      },
      "outputs": [],
      "source": [
        "X_train, X_test, y_train, y_test = train_test_split(X_undersample,y_undersample, test_size=0.3)"
      ]
    },
    {
      "cell_type": "code",
      "execution_count": 81,
      "metadata": {
        "id": "_V3HfEhUxngw"
      },
      "outputs": [],
      "source": [
        "X_train = np.array(X_train)\n",
        "X_test = np.array(X_test)\n",
        "y_train = np.array(y_train)\n",
        "y_test = np.array(y_test)"
      ]
    },
    {
      "cell_type": "code",
      "execution_count": 82,
      "metadata": {
        "colab": {
          "base_uri": "https://localhost:8080/",
          "height": 350
        },
        "id": "yeyzsA9vxngw",
        "outputId": "f311b8df-136f-4608-ebdb-debfcb51be22"
      },
      "outputs": [
        {
          "data": {
            "text/html": [
              "<pre style=\"white-space:pre;overflow-x:auto;line-height:normal;font-family:Menlo,'DejaVu Sans Mono',consolas,'Courier New',monospace\"><span style=\"font-weight: bold\">Model: \"sequential\"</span>\n",
              "</pre>\n"
            ],
            "text/plain": [
              "\u001b[1mModel: \"sequential\"\u001b[0m\n"
            ]
          },
          "metadata": {},
          "output_type": "display_data"
        },
        {
          "data": {
            "text/html": [
              "<pre style=\"white-space:pre;overflow-x:auto;line-height:normal;font-family:Menlo,'DejaVu Sans Mono',consolas,'Courier New',monospace\">┏━━━━━━━━━━━━━━━━━━━━━━━━━━━━━━━━━┳━━━━━━━━━━━━━━━━━━━━━━━━┳━━━━━━━━━━━━━━━┓\n",
              "┃<span style=\"font-weight: bold\"> Layer (type)                    </span>┃<span style=\"font-weight: bold\"> Output Shape           </span>┃<span style=\"font-weight: bold\">       Param # </span>┃\n",
              "┡━━━━━━━━━━━━━━━━━━━━━━━━━━━━━━━━━╇━━━━━━━━━━━━━━━━━━━━━━━━╇━━━━━━━━━━━━━━━┩\n",
              "│ dense (<span style=\"color: #0087ff; text-decoration-color: #0087ff\">Dense</span>)                   │ (<span style=\"color: #00d7ff; text-decoration-color: #00d7ff\">None</span>, <span style=\"color: #00af00; text-decoration-color: #00af00\">16</span>)             │           <span style=\"color: #00af00; text-decoration-color: #00af00\">480</span> │\n",
              "├─────────────────────────────────┼────────────────────────┼───────────────┤\n",
              "│ dense_1 (<span style=\"color: #0087ff; text-decoration-color: #0087ff\">Dense</span>)                 │ (<span style=\"color: #00d7ff; text-decoration-color: #00d7ff\">None</span>, <span style=\"color: #00af00; text-decoration-color: #00af00\">24</span>)             │           <span style=\"color: #00af00; text-decoration-color: #00af00\">408</span> │\n",
              "├─────────────────────────────────┼────────────────────────┼───────────────┤\n",
              "│ dropout (<span style=\"color: #0087ff; text-decoration-color: #0087ff\">Dropout</span>)               │ (<span style=\"color: #00d7ff; text-decoration-color: #00d7ff\">None</span>, <span style=\"color: #00af00; text-decoration-color: #00af00\">24</span>)             │             <span style=\"color: #00af00; text-decoration-color: #00af00\">0</span> │\n",
              "├─────────────────────────────────┼────────────────────────┼───────────────┤\n",
              "│ dense_2 (<span style=\"color: #0087ff; text-decoration-color: #0087ff\">Dense</span>)                 │ (<span style=\"color: #00d7ff; text-decoration-color: #00d7ff\">None</span>, <span style=\"color: #00af00; text-decoration-color: #00af00\">24</span>)             │           <span style=\"color: #00af00; text-decoration-color: #00af00\">600</span> │\n",
              "├─────────────────────────────────┼────────────────────────┼───────────────┤\n",
              "│ dense_3 (<span style=\"color: #0087ff; text-decoration-color: #0087ff\">Dense</span>)                 │ (<span style=\"color: #00d7ff; text-decoration-color: #00d7ff\">None</span>, <span style=\"color: #00af00; text-decoration-color: #00af00\">24</span>)             │           <span style=\"color: #00af00; text-decoration-color: #00af00\">600</span> │\n",
              "├─────────────────────────────────┼────────────────────────┼───────────────┤\n",
              "│ dense_4 (<span style=\"color: #0087ff; text-decoration-color: #0087ff\">Dense</span>)                 │ (<span style=\"color: #00d7ff; text-decoration-color: #00d7ff\">None</span>, <span style=\"color: #00af00; text-decoration-color: #00af00\">1</span>)              │            <span style=\"color: #00af00; text-decoration-color: #00af00\">25</span> │\n",
              "└─────────────────────────────────┴────────────────────────┴───────────────┘\n",
              "</pre>\n"
            ],
            "text/plain": [
              "┏━━━━━━━━━━━━━━━━━━━━━━━━━━━━━━━━━┳━━━━━━━━━━━━━━━━━━━━━━━━┳━━━━━━━━━━━━━━━┓\n",
              "┃\u001b[1m \u001b[0m\u001b[1mLayer (type)                   \u001b[0m\u001b[1m \u001b[0m┃\u001b[1m \u001b[0m\u001b[1mOutput Shape          \u001b[0m\u001b[1m \u001b[0m┃\u001b[1m \u001b[0m\u001b[1m      Param #\u001b[0m\u001b[1m \u001b[0m┃\n",
              "┡━━━━━━━━━━━━━━━━━━━━━━━━━━━━━━━━━╇━━━━━━━━━━━━━━━━━━━━━━━━╇━━━━━━━━━━━━━━━┩\n",
              "│ dense (\u001b[38;5;33mDense\u001b[0m)                   │ (\u001b[38;5;45mNone\u001b[0m, \u001b[38;5;34m16\u001b[0m)             │           \u001b[38;5;34m480\u001b[0m │\n",
              "├─────────────────────────────────┼────────────────────────┼───────────────┤\n",
              "│ dense_1 (\u001b[38;5;33mDense\u001b[0m)                 │ (\u001b[38;5;45mNone\u001b[0m, \u001b[38;5;34m24\u001b[0m)             │           \u001b[38;5;34m408\u001b[0m │\n",
              "├─────────────────────────────────┼────────────────────────┼───────────────┤\n",
              "│ dropout (\u001b[38;5;33mDropout\u001b[0m)               │ (\u001b[38;5;45mNone\u001b[0m, \u001b[38;5;34m24\u001b[0m)             │             \u001b[38;5;34m0\u001b[0m │\n",
              "├─────────────────────────────────┼────────────────────────┼───────────────┤\n",
              "│ dense_2 (\u001b[38;5;33mDense\u001b[0m)                 │ (\u001b[38;5;45mNone\u001b[0m, \u001b[38;5;34m24\u001b[0m)             │           \u001b[38;5;34m600\u001b[0m │\n",
              "├─────────────────────────────────┼────────────────────────┼───────────────┤\n",
              "│ dense_3 (\u001b[38;5;33mDense\u001b[0m)                 │ (\u001b[38;5;45mNone\u001b[0m, \u001b[38;5;34m24\u001b[0m)             │           \u001b[38;5;34m600\u001b[0m │\n",
              "├─────────────────────────────────┼────────────────────────┼───────────────┤\n",
              "│ dense_4 (\u001b[38;5;33mDense\u001b[0m)                 │ (\u001b[38;5;45mNone\u001b[0m, \u001b[38;5;34m1\u001b[0m)              │            \u001b[38;5;34m25\u001b[0m │\n",
              "└─────────────────────────────────┴────────────────────────┴───────────────┘\n"
            ]
          },
          "metadata": {},
          "output_type": "display_data"
        },
        {
          "data": {
            "text/html": [
              "<pre style=\"white-space:pre;overflow-x:auto;line-height:normal;font-family:Menlo,'DejaVu Sans Mono',consolas,'Courier New',monospace\"><span style=\"font-weight: bold\"> Total params: </span><span style=\"color: #00af00; text-decoration-color: #00af00\">6,341</span> (24.77 KB)\n",
              "</pre>\n"
            ],
            "text/plain": [
              "\u001b[1m Total params: \u001b[0m\u001b[38;5;34m6,341\u001b[0m (24.77 KB)\n"
            ]
          },
          "metadata": {},
          "output_type": "display_data"
        },
        {
          "data": {
            "text/html": [
              "<pre style=\"white-space:pre;overflow-x:auto;line-height:normal;font-family:Menlo,'DejaVu Sans Mono',consolas,'Courier New',monospace\"><span style=\"font-weight: bold\"> Trainable params: </span><span style=\"color: #00af00; text-decoration-color: #00af00\">2,113</span> (8.25 KB)\n",
              "</pre>\n"
            ],
            "text/plain": [
              "\u001b[1m Trainable params: \u001b[0m\u001b[38;5;34m2,113\u001b[0m (8.25 KB)\n"
            ]
          },
          "metadata": {},
          "output_type": "display_data"
        },
        {
          "data": {
            "text/html": [
              "<pre style=\"white-space:pre;overflow-x:auto;line-height:normal;font-family:Menlo,'DejaVu Sans Mono',consolas,'Courier New',monospace\"><span style=\"font-weight: bold\"> Non-trainable params: </span><span style=\"color: #00af00; text-decoration-color: #00af00\">0</span> (0.00 B)\n",
              "</pre>\n"
            ],
            "text/plain": [
              "\u001b[1m Non-trainable params: \u001b[0m\u001b[38;5;34m0\u001b[0m (0.00 B)\n"
            ]
          },
          "metadata": {},
          "output_type": "display_data"
        },
        {
          "data": {
            "text/html": [
              "<pre style=\"white-space:pre;overflow-x:auto;line-height:normal;font-family:Menlo,'DejaVu Sans Mono',consolas,'Courier New',monospace\"><span style=\"font-weight: bold\"> Optimizer params: </span><span style=\"color: #00af00; text-decoration-color: #00af00\">4,228</span> (16.52 KB)\n",
              "</pre>\n"
            ],
            "text/plain": [
              "\u001b[1m Optimizer params: \u001b[0m\u001b[38;5;34m4,228\u001b[0m (16.52 KB)\n"
            ]
          },
          "metadata": {},
          "output_type": "display_data"
        }
      ],
      "source": [
        "model.summary()"
      ]
    },
    {
      "cell_type": "code",
      "execution_count": 83,
      "metadata": {
        "colab": {
          "base_uri": "https://localhost:8080/"
        },
        "id": "0DogUZU0xngx",
        "outputId": "df16ddaf-c12b-4e5f-9ef3-fde7c6f7a8c4"
      },
      "outputs": [
        {
          "name": "stdout",
          "output_type": "stream",
          "text": [
            "Epoch 1/5\n"
          ]
        },
        {
          "name": "stdout",
          "output_type": "stream",
          "text": [
            "\u001b[1m46/46\u001b[0m \u001b[32m━━━━━━━━━━━━━━━━━━━━\u001b[0m\u001b[37m\u001b[0m \u001b[1m1s\u001b[0m 2ms/step - accuracy: 0.9498 - loss: 0.2016\n",
            "Epoch 2/5\n",
            "\u001b[1m46/46\u001b[0m \u001b[32m━━━━━━━━━━━━━━━━━━━━\u001b[0m\u001b[37m\u001b[0m \u001b[1m0s\u001b[0m 2ms/step - accuracy: 0.9604 - loss: 0.1824\n",
            "Epoch 3/5\n",
            "\u001b[1m46/46\u001b[0m \u001b[32m━━━━━━━━━━━━━━━━━━━━\u001b[0m\u001b[37m\u001b[0m \u001b[1m0s\u001b[0m 2ms/step - accuracy: 0.9745 - loss: 0.0881\n",
            "Epoch 4/5\n",
            "\u001b[1m46/46\u001b[0m \u001b[32m━━━━━━━━━━━━━━━━━━━━\u001b[0m\u001b[37m\u001b[0m \u001b[1m0s\u001b[0m 2ms/step - accuracy: 0.9655 - loss: 0.1023\n",
            "Epoch 5/5\n",
            "\u001b[1m46/46\u001b[0m \u001b[32m━━━━━━━━━━━━━━━━━━━━\u001b[0m\u001b[37m\u001b[0m \u001b[1m0s\u001b[0m 2ms/step - accuracy: 0.9667 - loss: 0.1408\n"
          ]
        },
        {
          "data": {
            "text/plain": [
              "<keras.src.callbacks.history.History at 0x22fc5066790>"
            ]
          },
          "execution_count": 83,
          "metadata": {},
          "output_type": "execute_result"
        }
      ],
      "source": [
        "model.compile(optimizer='adam',loss='binary_crossentropy',metrics=['accuracy'])\n",
        "model.fit(X_train,y_train,batch_size=15,epochs=5)"
      ]
    },
    {
      "cell_type": "code",
      "execution_count": 84,
      "metadata": {
        "colab": {
          "base_uri": "https://localhost:8080/",
          "height": 561
        },
        "id": "Epliivnnxngy",
        "outputId": "48c71119-6594-4d95-e7df-62ae8ac5cd93"
      },
      "outputs": [
        {
          "name": "stdout",
          "output_type": "stream",
          "text": [
            "\u001b[1m10/10\u001b[0m \u001b[32m━━━━━━━━━━━━━━━━━━━━\u001b[0m\u001b[37m\u001b[0m \u001b[1m0s\u001b[0m 7ms/step \n",
            "Confusion matrix, without normalization\n",
            "[[144   2]\n",
            " [  4 146]]\n"
          ]
        },
        {
          "data": {
            "image/png": "[encoded data removed]",
            "text/plain": [
              "<Figure size 640x480 with 2 Axes>"
            ]
          },
          "metadata": {},
          "output_type": "display_data"
        }
      ],
      "source": [
        "y_pred = model.predict(X_test)\n",
        "y_expected = pd.DataFrame(y_test)\n",
        "cnf_matrix = confusion_matrix(y_expected, y_pred.round())\n",
        "plot_confusion_matrix(cnf_matrix, classes=[0,1])\n",
        "plt.show()"
      ]
    },
    {
      "cell_type": "markdown",
      "metadata": {
        "id": "iy5vunMWxngy"
      },
      "source": [
        "- The metrics look pretty strong on the test set....yayy lets see the scores now\n"
      ]
    },
    {
      "cell_type": "code",
      "execution_count": 85,
      "metadata": {
        "id": "gmykG0gjxngz"
      },
      "outputs": [],
      "source": [
        "acc = accuracy_score(y_test, y_pred.round())\n",
        "prec = precision_score(y_test, y_pred.round())\n",
        "rec = recall_score(y_test, y_pred.round())\n",
        "f1 = f1_score(y_test, y_pred.round())"
      ]
    },
    {
      "cell_type": "code",
      "execution_count": 86,
      "metadata": {
        "colab": {
          "base_uri": "https://localhost:8080/",
          "height": 206
        },
        "id": "ami5l0NDxng1",
        "outputId": "75859616-0b93-480c-9c72-e01c33fcd356"
      },
      "outputs": [
        {
          "data": {
            "text/html": [
              "<div>\n",
              "<style scoped>\n",
              "    .dataframe tbody tr th:only-of-type {\n",
              "        vertical-align: middle;\n",
              "    }\n",
              "\n",
              "    .dataframe tbody tr th {\n",
              "        vertical-align: top;\n",
              "    }\n",
              "\n",
              "    .dataframe thead th {\n",
              "        text-align: right;\n",
              "    }\n",
              "</style>\n",
              "<table border=\"1\" class=\"dataframe\">\n",
              "  <thead>\n",
              "    <tr style=\"text-align: right;\">\n",
              "      <th></th>\n",
              "      <th>Model</th>\n",
              "      <th>Accuracy</th>\n",
              "      <th>FalseNegRate</th>\n",
              "      <th>Recall</th>\n",
              "      <th>Precision</th>\n",
              "      <th>F1 Score</th>\n",
              "    </tr>\n",
              "  </thead>\n",
              "  <tbody>\n",
              "    <tr>\n",
              "      <th>0</th>\n",
              "      <td>RandomForest</td>\n",
              "      <td>0.999087</td>\n",
              "      <td>0.428571</td>\n",
              "      <td>0.571429</td>\n",
              "      <td>0.848485</td>\n",
              "      <td>0.682927</td>\n",
              "    </tr>\n",
              "    <tr>\n",
              "      <th>1</th>\n",
              "      <td>DecisionTree</td>\n",
              "      <td>0.999087</td>\n",
              "      <td>0.224490</td>\n",
              "      <td>0.775510</td>\n",
              "      <td>0.716981</td>\n",
              "      <td>0.745098</td>\n",
              "    </tr>\n",
              "    <tr>\n",
              "      <th>2</th>\n",
              "      <td>PlainNeuralNetwork</td>\n",
              "      <td>0.999315</td>\n",
              "      <td>0.316327</td>\n",
              "      <td>0.683673</td>\n",
              "      <td>0.893333</td>\n",
              "      <td>0.774566</td>\n",
              "    </tr>\n",
              "    <tr>\n",
              "      <th>3</th>\n",
              "      <td>WeightedNeuralNetwork</td>\n",
              "      <td>0.974141</td>\n",
              "      <td>0.102041</td>\n",
              "      <td>0.897959</td>\n",
              "      <td>0.056738</td>\n",
              "      <td>0.106731</td>\n",
              "    </tr>\n",
              "    <tr>\n",
              "      <th>4</th>\n",
              "      <td>UnderSampledNeuralNetwork</td>\n",
              "      <td>0.979730</td>\n",
              "      <td>0.026667</td>\n",
              "      <td>0.973333</td>\n",
              "      <td>0.986486</td>\n",
              "      <td>0.979866</td>\n",
              "    </tr>\n",
              "  </tbody>\n",
              "</table>\n",
              "</div>"
            ],
            "text/plain": [
              "                       Model  Accuracy  FalseNegRate    Recall  Precision  \\\n",
              "0               RandomForest  0.999087      0.428571  0.571429   0.848485   \n",
              "1               DecisionTree  0.999087      0.224490  0.775510   0.716981   \n",
              "2         PlainNeuralNetwork  0.999315      0.316327  0.683673   0.893333   \n",
              "3      WeightedNeuralNetwork  0.974141      0.102041  0.897959   0.056738   \n",
              "4  UnderSampledNeuralNetwork  0.979730      0.026667  0.973333   0.986486   \n",
              "\n",
              "   F1 Score  \n",
              "0  0.682927  \n",
              "1  0.745098  \n",
              "2  0.774566  \n",
              "3  0.106731  \n",
              "4  0.979866  "
            ]
          },
          "execution_count": 86,
          "metadata": {},
          "output_type": "execute_result"
        }
      ],
      "source": [
        "import pandas as pd\n",
        "\n",
        "# Store results in DataFrame for comparing various models\n",
        "model_results = pd.DataFrame([['UnderSampledNeuralNetwork', acc, 1-rec, rec, prec, f1]],\n",
        "               columns=['Model', 'Accuracy', 'FalseNegRate', 'Recall', 'Precision', 'F1 Score'])\n",
        "\n",
        "# Ensure results_testset is already defined; if not, initialize it\n",
        "if 'results_testset' not in locals():\n",
        "    results_testset = pd.DataFrame(columns=['Model', 'Accuracy', 'FalseNegRate', 'Recall', 'Precision', 'F1 Score'])\n",
        "\n",
        "# Fix append issue using pd.concat()\n",
        "results_testset = pd.concat([results_testset, model_results], ignore_index=True)\n",
        "\n",
        "# Display updated DataFrame\n",
        "results_testset\n"
      ]
    },
    {
      "cell_type": "markdown",
      "metadata": {
        "id": "CqrI8fRRxng2"
      },
      "source": [
        "....But the model fails on non fraudulent transactions as shown below."
      ]
    },
    {
      "cell_type": "code",
      "execution_count": 87,
      "metadata": {
        "colab": {
          "base_uri": "https://localhost:8080/",
          "height": 561
        },
        "id": "Ue46LfFrxng2",
        "outputId": "9fcb2ecd-7752-4afd-9735-7b34c38c2c6c"
      },
      "outputs": [
        {
          "name": "stdout",
          "output_type": "stream",
          "text": [
            "\u001b[1m8901/8901\u001b[0m \u001b[32m━━━━━━━━━━━━━━━━━━━━\u001b[0m\u001b[37m\u001b[0m \u001b[1m6s\u001b[0m 643us/step\n",
            "Confusion matrix, without normalization\n",
            "[[273647  10668]\n",
            " [    13    479]]\n"
          ]
        },
        {
          "data": {
            "image/png": "[encoded data removed]",
            "text/plain": [
              "<Figure size 640x480 with 2 Axes>"
            ]
          },
          "metadata": {},
          "output_type": "display_data"
        }
      ],
      "source": [
        "# Confusion matrix on the whole dataset\n",
        "\n",
        "y_pred = model.predict(X)\n",
        "y_expected = pd.DataFrame(y)\n",
        "cnf_matrix = confusion_matrix(y_expected, y_pred.round())\n",
        "plot_confusion_matrix(cnf_matrix, classes=[0,1])\n",
        "plt.show()"
      ]
    },
    {
      "cell_type": "code",
      "execution_count": 88,
      "metadata": {
        "id": "97R7N_hZxng5"
      },
      "outputs": [],
      "source": [
        "acc = accuracy_score(y, y_pred.round())\n",
        "prec = precision_score(y, y_pred.round())\n",
        "rec = recall_score(y, y_pred.round())\n",
        "f1 = f1_score(y, y_pred.round())"
      ]
    },
    {
      "cell_type": "code",
      "execution_count": 89,
      "metadata": {
        "colab": {
          "base_uri": "https://localhost:8080/",
          "height": 206
        },
        "id": "0jf_tgHSxng6",
        "outputId": "256b80a2-3042-45e2-91b2-005d03dd46c6"
      },
      "outputs": [
        {
          "data": {
            "text/html": [
              "<div>\n",
              "<style scoped>\n",
              "    .dataframe tbody tr th:only-of-type {\n",
              "        vertical-align: middle;\n",
              "    }\n",
              "\n",
              "    .dataframe tbody tr th {\n",
              "        vertical-align: top;\n",
              "    }\n",
              "\n",
              "    .dataframe thead th {\n",
              "        text-align: right;\n",
              "    }\n",
              "</style>\n",
              "<table border=\"1\" class=\"dataframe\">\n",
              "  <thead>\n",
              "    <tr style=\"text-align: right;\">\n",
              "      <th></th>\n",
              "      <th>Model</th>\n",
              "      <th>Accuracy</th>\n",
              "      <th>FalseNegRate</th>\n",
              "      <th>Recall</th>\n",
              "      <th>Precision</th>\n",
              "      <th>F1 Score</th>\n",
              "    </tr>\n",
              "  </thead>\n",
              "  <tbody>\n",
              "    <tr>\n",
              "      <th>0</th>\n",
              "      <td>RandomForest</td>\n",
              "      <td>0.999860</td>\n",
              "      <td>0.069106</td>\n",
              "      <td>0.930894</td>\n",
              "      <td>0.987069</td>\n",
              "      <td>0.958159</td>\n",
              "    </tr>\n",
              "    <tr>\n",
              "      <th>1</th>\n",
              "      <td>DecisionTree</td>\n",
              "      <td>0.999817</td>\n",
              "      <td>0.044715</td>\n",
              "      <td>0.955285</td>\n",
              "      <td>0.940000</td>\n",
              "      <td>0.947581</td>\n",
              "    </tr>\n",
              "    <tr>\n",
              "      <th>2</th>\n",
              "      <td>PlainNeuralNetwork</td>\n",
              "      <td>0.999417</td>\n",
              "      <td>0.268293</td>\n",
              "      <td>0.731707</td>\n",
              "      <td>0.913706</td>\n",
              "      <td>0.812641</td>\n",
              "    </tr>\n",
              "    <tr>\n",
              "      <th>3</th>\n",
              "      <td>WeightedNeuralNetwork</td>\n",
              "      <td>0.973389</td>\n",
              "      <td>0.060976</td>\n",
              "      <td>0.939024</td>\n",
              "      <td>0.057671</td>\n",
              "      <td>0.108668</td>\n",
              "    </tr>\n",
              "    <tr>\n",
              "      <th>4</th>\n",
              "      <td>UnderSampledNeuralNetwork</td>\n",
              "      <td>0.962497</td>\n",
              "      <td>0.026423</td>\n",
              "      <td>0.973577</td>\n",
              "      <td>0.042971</td>\n",
              "      <td>0.082309</td>\n",
              "    </tr>\n",
              "  </tbody>\n",
              "</table>\n",
              "</div>"
            ],
            "text/plain": [
              "                       Model  Accuracy  FalseNegRate    Recall  Precision  \\\n",
              "0               RandomForest  0.999860      0.069106  0.930894   0.987069   \n",
              "1               DecisionTree  0.999817      0.044715  0.955285   0.940000   \n",
              "2         PlainNeuralNetwork  0.999417      0.268293  0.731707   0.913706   \n",
              "3      WeightedNeuralNetwork  0.973389      0.060976  0.939024   0.057671   \n",
              "4  UnderSampledNeuralNetwork  0.962497      0.026423  0.973577   0.042971   \n",
              "\n",
              "   F1 Score  \n",
              "0  0.958159  \n",
              "1  0.947581  \n",
              "2  0.812641  \n",
              "3  0.108668  \n",
              "4  0.082309  "
            ]
          },
          "execution_count": 89,
          "metadata": {},
          "output_type": "execute_result"
        }
      ],
      "source": [
        "import pandas as pd\n",
        "\n",
        "# Store results in DataFrame for comparing various models\n",
        "model_results = pd.DataFrame([['UnderSampledNeuralNetwork', acc, 1-rec, rec, prec, f1]],\n",
        "               columns=['Model', 'Accuracy', 'FalseNegRate', 'Recall', 'Precision', 'F1 Score'])\n",
        "\n",
        "# Ensure results_fullset is already defined; if not, initialize it\n",
        "if 'results_fullset' not in locals():\n",
        "    results_fullset = pd.DataFrame(columns=['Model', 'Accuracy', 'FalseNegRate', 'Recall', 'Precision', 'F1 Score'])\n",
        "\n",
        "# Fix append issue using pd.concat()\n",
        "results_fullset = pd.concat([results_fullset, model_results], ignore_index=True)\n",
        "\n",
        "# Display updated DataFrame\n",
        "results_fullset\n"
      ]
    },
    {
      "cell_type": "markdown",
      "metadata": {
        "id": "pZFSCX7exng7"
      },
      "source": [
        "# Technique no. 3\n",
        "## Oversampling technique using SMOTE\n",
        "(Synthetic Minority Oversample TEchnique)\n",
        "- the alternative to down-sampling is the upsampling of the minority class to the same level as the dominant one.\n",
        "- This can be achieved with the SMOTE method where a new vector is generated between 2 existing datapoints. Applying this technique allows to massively increase the number of fraudulent transactions"
      ]
    },
    {
      "cell_type": "code",
      "execution_count": 90,
      "metadata": {
        "id": "0hUAorF0xng8"
      },
      "outputs": [],
      "source": [
        "#%%bash\n",
        "#pip install -U imbalanced-learn"
      ]
    },
    {
      "cell_type": "code",
      "execution_count": 91,
      "metadata": {
        "id": "RfGblQzLxng-"
      },
      "outputs": [],
      "source": [
        "from imblearn.over_sampling import SMOTE"
      ]
    },
    {
      "cell_type": "code",
      "execution_count": 92,
      "metadata": {
        "id": "PmKqdIzVxng_"
      },
      "outputs": [],
      "source": [
        "from imblearn.over_sampling import SMOTE\n",
        "\n",
        "# Apply SMOTE to balance the dataset\n",
        "X_resample, y_resample = SMOTE().fit_resample(X, y.values.ravel())\n"
      ]
    },
    {
      "cell_type": "code",
      "execution_count": 93,
      "metadata": {
        "colab": {
          "base_uri": "https://localhost:8080/"
        },
        "id": "AUo2KhsAxng_",
        "outputId": "d15219c4-9fad-4004-98d1-ce4ab2b9c0d5"
      },
      "outputs": [
        {
          "data": {
            "text/plain": [
              "array([0, 0, 0, ..., 1, 1, 1])"
            ]
          },
          "execution_count": 93,
          "metadata": {},
          "output_type": "execute_result"
        }
      ],
      "source": [
        "y_resample"
      ]
    },
    {
      "cell_type": "code",
      "execution_count": 94,
      "metadata": {
        "colab": {
          "base_uri": "https://localhost:8080/"
        },
        "id": "nr1Y5vnkxnhA",
        "outputId": "ebc5c747-3601-43b0-e293-03858625f93d"
      },
      "outputs": [
        {
          "name": "stdout",
          "output_type": "stream",
          "text": [
            "Number of total transactions before SMOTE upsampling:  284807 ...after SMOTE upsampling:  568630\n",
            "Number of fraudulent transactions before SMOTE upsampling:  492 ...after SMOTE upsampling:  284315\n"
          ]
        }
      ],
      "source": [
        "print('Number of total transactions before SMOTE upsampling: ', len(y), '...after SMOTE upsampling: ', len(y_resample))\n",
        "print('Number of fraudulent transactions before SMOTE upsampling: ', len(y[y.Class==1]),\n",
        "      '...after SMOTE upsampling: ', np.sum(y_resample[y_resample==1]))"
      ]
    },
    {
      "cell_type": "code",
      "execution_count": 95,
      "metadata": {
        "id": "1ygZj4enxnhB"
      },
      "outputs": [],
      "source": [
        "y_resample = pd.DataFrame(y_resample)\n",
        "X_resample = pd.DataFrame(X_resample)"
      ]
    },
    {
      "cell_type": "code",
      "execution_count": 96,
      "metadata": {
        "id": "2zVoDqoXxnhB"
      },
      "outputs": [],
      "source": [
        "X_train, X_test, y_train, y_test = train_test_split(X_resample,y_resample,test_size=0.3)"
      ]
    },
    {
      "cell_type": "code",
      "execution_count": 97,
      "metadata": {
        "id": "Q16CeouJxnhC"
      },
      "outputs": [],
      "source": [
        "X_train = np.array(X_train)\n",
        "X_test = np.array(X_test)\n",
        "y_train = np.array(y_train)\n",
        "y_test = np.array(y_test)"
      ]
    },
    {
      "cell_type": "code",
      "execution_count": 98,
      "metadata": {
        "colab": {
          "base_uri": "https://localhost:8080/"
        },
        "id": "eHfBytzxxnhD",
        "outputId": "0e0e7421-ce40-44ce-f610-531a0388c498"
      },
      "outputs": [
        {
          "name": "stderr",
          "output_type": "stream",
          "text": [
            "c:\\Users\\mohsi\\AppData\\Local\\Programs\\Python\\Python311\\Lib\\site-packages\\keras\\src\\layers\\core\\dense.py:87: UserWarning: Do not pass an `input_shape`/`input_dim` argument to a layer. When using Sequential models, prefer using an `Input(shape)` object as the first layer in the model instead.\n",
            "  super().__init__(activity_regularizer=activity_regularizer, **kwargs)\n"
          ]
        }
      ],
      "source": [
        "model = Sequential([\n",
        "    Dense(units=16, input_dim = 29,activation='relu'),   # input of 29 columns as shown above\n",
        "    Dense(units=24,activation='relu'),\n",
        "    Dropout(0.5),\n",
        "    Dense(24,activation='relu'),\n",
        "    Dense(24,activation='relu'),\n",
        "    Dense(1,activation='sigmoid'),                        # binary classification fraudulent or not\n",
        "])"
      ]
    },
    {
      "cell_type": "code",
      "execution_count": 99,
      "metadata": {
        "colab": {
          "base_uri": "https://localhost:8080/"
        },
        "id": "Feagjz4TxnhE",
        "outputId": "93800e65-c57e-4c0d-a30e-623d294c6a56"
      },
      "outputs": [
        {
          "name": "stdout",
          "output_type": "stream",
          "text": [
            "Epoch 1/5\n"
          ]
        },
        {
          "name": "stdout",
          "output_type": "stream",
          "text": [
            "\u001b[1m26537/26537\u001b[0m \u001b[32m━━━━━━━━━━━━━━━━━━━━\u001b[0m\u001b[37m\u001b[0m \u001b[1m66s\u001b[0m 2ms/step - accuracy: 0.9621 - loss: 0.0932\n",
            "Epoch 2/5\n",
            "\u001b[1m26537/26537\u001b[0m \u001b[32m━━━━━━━━━━━━━━━━━━━━\u001b[0m\u001b[37m\u001b[0m \u001b[1m84s\u001b[0m 3ms/step - accuracy: 0.9941 - loss: 0.0201\n",
            "Epoch 3/5\n",
            "\u001b[1m26537/26537\u001b[0m \u001b[32m━━━━━━━━━━━━━━━━━━━━\u001b[0m\u001b[37m\u001b[0m \u001b[1m81s\u001b[0m 3ms/step - accuracy: 0.9959 - loss: 0.0148\n",
            "Epoch 4/5\n",
            "\u001b[1m26537/26537\u001b[0m \u001b[32m━━━━━━━━━━━━━━━━━━━━\u001b[0m\u001b[37m\u001b[0m \u001b[1m81s\u001b[0m 3ms/step - accuracy: 0.9967 - loss: 0.0124\n",
            "Epoch 5/5\n",
            "\u001b[1m26537/26537\u001b[0m \u001b[32m━━━━━━━━━━━━━━━━━━━━\u001b[0m\u001b[37m\u001b[0m \u001b[1m72s\u001b[0m 3ms/step - accuracy: 0.9972 - loss: 0.0103\n"
          ]
        },
        {
          "data": {
            "text/plain": [
              "<keras.src.callbacks.history.History at 0x22fc5414450>"
            ]
          },
          "execution_count": 99,
          "metadata": {},
          "output_type": "execute_result"
        }
      ],
      "source": [
        "model.compile(optimizer='adam',loss='binary_crossentropy',metrics=['accuracy'])\n",
        "model.fit(X_train,y_train,batch_size=15,epochs=5)"
      ]
    },
    {
      "cell_type": "code",
      "execution_count": 100,
      "metadata": {
        "colab": {
          "base_uri": "https://localhost:8080/",
          "height": 561
        },
        "id": "PnMXlSlJxnhE",
        "outputId": "c46727c1-99bc-4470-9538-b1e8f7359e32"
      },
      "outputs": [
        {
          "name": "stdout",
          "output_type": "stream",
          "text": [
            "\u001b[1m5331/5331\u001b[0m \u001b[32m━━━━━━━━━━━━━━━━━━━━\u001b[0m\u001b[37m\u001b[0m \u001b[1m11s\u001b[0m 2ms/step\n",
            "Confusion matrix, without normalization\n",
            "[[84935   318]\n",
            " [   10 85326]]\n"
          ]
        },
        {
          "data": {
            "image/png": "[encoded data removed]",
            "text/plain": [
              "<Figure size 640x480 with 2 Axes>"
            ]
          },
          "metadata": {},
          "output_type": "display_data"
        }
      ],
      "source": [
        "y_pred = model.predict(X_test)\n",
        "y_expected = pd.DataFrame(y_test)\n",
        "cnf_matrix = confusion_matrix(y_expected, y_pred.round())\n",
        "plot_confusion_matrix(cnf_matrix, classes=[0,1])\n",
        "plt.show()"
      ]
    },
    {
      "cell_type": "markdown",
      "metadata": {
        "id": "etLdIUG1xnhH"
      },
      "source": [
        "- Notice the absence of False Negatives. The model is able to detect all fraudulent transactions on the unseen test set."
      ]
    },
    {
      "cell_type": "code",
      "execution_count": 101,
      "metadata": {
        "id": "7M3CdSBAxnhH"
      },
      "outputs": [],
      "source": [
        "acc = accuracy_score(y_test, y_pred.round())\n",
        "prec = precision_score(y_test, y_pred.round())\n",
        "rec = recall_score(y_test, y_pred.round())\n",
        "f1 = f1_score(y_test, y_pred.round())"
      ]
    },
    {
      "cell_type": "markdown",
      "metadata": {
        "id": "mlgiqfVbxnhK"
      },
      "source": [
        "All metrics are excellent for this last model."
      ]
    },
    {
      "cell_type": "code",
      "execution_count": 102,
      "metadata": {},
      "outputs": [
        {
          "data": {
            "text/html": [
              "<div>\n",
              "<style scoped>\n",
              "    .dataframe tbody tr th:only-of-type {\n",
              "        vertical-align: middle;\n",
              "    }\n",
              "\n",
              "    .dataframe tbody tr th {\n",
              "        vertical-align: top;\n",
              "    }\n",
              "\n",
              "    .dataframe thead th {\n",
              "        text-align: right;\n",
              "    }\n",
              "</style>\n",
              "<table border=\"1\" class=\"dataframe\">\n",
              "  <thead>\n",
              "    <tr style=\"text-align: right;\">\n",
              "      <th></th>\n",
              "      <th>Model</th>\n",
              "      <th>Accuracy</th>\n",
              "      <th>FalseNegRate</th>\n",
              "      <th>Recall</th>\n",
              "      <th>Precision</th>\n",
              "      <th>F1 Score</th>\n",
              "    </tr>\n",
              "  </thead>\n",
              "  <tbody>\n",
              "    <tr>\n",
              "      <th>0</th>\n",
              "      <td>RandomForest</td>\n",
              "      <td>0.999087</td>\n",
              "      <td>0.428571</td>\n",
              "      <td>0.571429</td>\n",
              "      <td>0.848485</td>\n",
              "      <td>0.682927</td>\n",
              "    </tr>\n",
              "    <tr>\n",
              "      <th>1</th>\n",
              "      <td>DecisionTree</td>\n",
              "      <td>0.999087</td>\n",
              "      <td>0.224490</td>\n",
              "      <td>0.775510</td>\n",
              "      <td>0.716981</td>\n",
              "      <td>0.745098</td>\n",
              "    </tr>\n",
              "    <tr>\n",
              "      <th>2</th>\n",
              "      <td>PlainNeuralNetwork</td>\n",
              "      <td>0.999315</td>\n",
              "      <td>0.316327</td>\n",
              "      <td>0.683673</td>\n",
              "      <td>0.893333</td>\n",
              "      <td>0.774566</td>\n",
              "    </tr>\n",
              "    <tr>\n",
              "      <th>3</th>\n",
              "      <td>WeightedNeuralNetwork</td>\n",
              "      <td>0.974141</td>\n",
              "      <td>0.102041</td>\n",
              "      <td>0.897959</td>\n",
              "      <td>0.056738</td>\n",
              "      <td>0.106731</td>\n",
              "    </tr>\n",
              "    <tr>\n",
              "      <th>4</th>\n",
              "      <td>UnderSampledNeuralNetwork</td>\n",
              "      <td>0.979730</td>\n",
              "      <td>0.026667</td>\n",
              "      <td>0.973333</td>\n",
              "      <td>0.986486</td>\n",
              "      <td>0.979866</td>\n",
              "    </tr>\n",
              "    <tr>\n",
              "      <th>5</th>\n",
              "      <td>OverSampledNeuralNetwork</td>\n",
              "      <td>0.998077</td>\n",
              "      <td>0.000117</td>\n",
              "      <td>0.999883</td>\n",
              "      <td>0.996287</td>\n",
              "      <td>0.998082</td>\n",
              "    </tr>\n",
              "  </tbody>\n",
              "</table>\n",
              "</div>"
            ],
            "text/plain": [
              "                       Model  Accuracy  FalseNegRate    Recall  Precision  \\\n",
              "0               RandomForest  0.999087      0.428571  0.571429   0.848485   \n",
              "1               DecisionTree  0.999087      0.224490  0.775510   0.716981   \n",
              "2         PlainNeuralNetwork  0.999315      0.316327  0.683673   0.893333   \n",
              "3      WeightedNeuralNetwork  0.974141      0.102041  0.897959   0.056738   \n",
              "4  UnderSampledNeuralNetwork  0.979730      0.026667  0.973333   0.986486   \n",
              "5   OverSampledNeuralNetwork  0.998077      0.000117  0.999883   0.996287   \n",
              "\n",
              "   F1 Score  \n",
              "0  0.682927  \n",
              "1  0.745098  \n",
              "2  0.774566  \n",
              "3  0.106731  \n",
              "4  0.979866  \n",
              "5  0.998082  "
            ]
          },
          "execution_count": 102,
          "metadata": {},
          "output_type": "execute_result"
        }
      ],
      "source": [
        "import pandas as pd\n",
        "\n",
        "# Store results in DataFrame for comparing various models\n",
        "model_results = pd.DataFrame([['OverSampledNeuralNetwork', acc, 1-rec, rec, prec, f1]],\n",
        "               columns=['Model', 'Accuracy', 'FalseNegRate', 'Recall', 'Precision', 'F1 Score'])\n",
        "\n",
        "# Ensure results_testset is already defined; if not, initialize it\n",
        "if 'results_testset' not in locals():\n",
        "    results_testset = pd.DataFrame(columns=['Model', 'Accuracy', 'FalseNegRate', 'Recall', 'Precision', 'F1 Score'])\n",
        "\n",
        "# Fix append issue using pd.concat()\n",
        "results_testset = pd.concat([results_testset, model_results], ignore_index=True)\n",
        "\n",
        "# Display updated DataFrame\n",
        "results_testset\n"
      ]
    },
    {
      "cell_type": "code",
      "execution_count": 103,
      "metadata": {
        "colab": {
          "base_uri": "https://localhost:8080/",
          "height": 561
        },
        "id": "_rurwJUDxnhK",
        "outputId": "ca49de07-baa3-4d31-8b59-6d53a4de9eb9"
      },
      "outputs": [
        {
          "name": "stdout",
          "output_type": "stream",
          "text": [
            "\u001b[1m8901/8901\u001b[0m \u001b[32m━━━━━━━━━━━━━━━━━━━━\u001b[0m\u001b[37m\u001b[0m \u001b[1m14s\u001b[0m 2ms/step\n",
            "Confusion matrix, without normalization\n",
            "[[283289   1026]\n",
            " [     2    490]]\n"
          ]
        },
        {
          "data": {
            "image/png": "[encoded data removed]",
            "text/plain": [
              "<Figure size 640x480 with 2 Axes>"
            ]
          },
          "metadata": {},
          "output_type": "display_data"
        }
      ],
      "source": [
        "# Confusion matrix on the whole dataset\n",
        "y_pred = model.predict(X)\n",
        "y_expected = pd.DataFrame(y)\n",
        "cnf_matrix = confusion_matrix(y_expected, y_pred.round())\n",
        "plot_confusion_matrix(cnf_matrix, classes=[0,1])\n",
        "plt.show()"
      ]
    },
    {
      "cell_type": "markdown",
      "metadata": {
        "id": "Z7ovr5cixnhL"
      },
      "source": [
        "- Notice the absence of False Negatives. The model is able to detect all fraudulent transactions on the full dataset.\n",
        "- Notice the limited number of False Positives which means a lot less verification work (on legitimate transactions) for the fraud departement"
      ]
    },
    {
      "cell_type": "code",
      "execution_count": 104,
      "metadata": {
        "id": "HHx72f-UxnhL"
      },
      "outputs": [],
      "source": [
        "acc = accuracy_score(y, y_pred.round())\n",
        "prec = precision_score(y, y_pred.round())\n",
        "rec = recall_score(y, y_pred.round())\n",
        "f1 = f1_score(y, y_pred.round())"
      ]
    },
    {
      "cell_type": "code",
      "execution_count": 105,
      "metadata": {
        "colab": {
          "base_uri": "https://localhost:8080/",
          "height": 237
        },
        "id": "mkHUaF_lxnhN",
        "outputId": "f1198f84-f230-4b53-ac0f-1e0d7002a67c"
      },
      "outputs": [
        {
          "data": {
            "text/html": [
              "<div>\n",
              "<style scoped>\n",
              "    .dataframe tbody tr th:only-of-type {\n",
              "        vertical-align: middle;\n",
              "    }\n",
              "\n",
              "    .dataframe tbody tr th {\n",
              "        vertical-align: top;\n",
              "    }\n",
              "\n",
              "    .dataframe thead th {\n",
              "        text-align: right;\n",
              "    }\n",
              "</style>\n",
              "<table border=\"1\" class=\"dataframe\">\n",
              "  <thead>\n",
              "    <tr style=\"text-align: right;\">\n",
              "      <th></th>\n",
              "      <th>Model</th>\n",
              "      <th>Accuracy</th>\n",
              "      <th>FalseNegRate</th>\n",
              "      <th>Recall</th>\n",
              "      <th>Precision</th>\n",
              "      <th>F1 Score</th>\n",
              "    </tr>\n",
              "  </thead>\n",
              "  <tbody>\n",
              "    <tr>\n",
              "      <th>0</th>\n",
              "      <td>RandomForest</td>\n",
              "      <td>0.999860</td>\n",
              "      <td>0.069106</td>\n",
              "      <td>0.930894</td>\n",
              "      <td>0.987069</td>\n",
              "      <td>0.958159</td>\n",
              "    </tr>\n",
              "    <tr>\n",
              "      <th>1</th>\n",
              "      <td>DecisionTree</td>\n",
              "      <td>0.999817</td>\n",
              "      <td>0.044715</td>\n",
              "      <td>0.955285</td>\n",
              "      <td>0.940000</td>\n",
              "      <td>0.947581</td>\n",
              "    </tr>\n",
              "    <tr>\n",
              "      <th>2</th>\n",
              "      <td>PlainNeuralNetwork</td>\n",
              "      <td>0.999417</td>\n",
              "      <td>0.268293</td>\n",
              "      <td>0.731707</td>\n",
              "      <td>0.913706</td>\n",
              "      <td>0.812641</td>\n",
              "    </tr>\n",
              "    <tr>\n",
              "      <th>3</th>\n",
              "      <td>WeightedNeuralNetwork</td>\n",
              "      <td>0.973389</td>\n",
              "      <td>0.060976</td>\n",
              "      <td>0.939024</td>\n",
              "      <td>0.057671</td>\n",
              "      <td>0.108668</td>\n",
              "    </tr>\n",
              "    <tr>\n",
              "      <th>4</th>\n",
              "      <td>UnderSampledNeuralNetwork</td>\n",
              "      <td>0.962497</td>\n",
              "      <td>0.026423</td>\n",
              "      <td>0.973577</td>\n",
              "      <td>0.042971</td>\n",
              "      <td>0.082309</td>\n",
              "    </tr>\n",
              "    <tr>\n",
              "      <th>5</th>\n",
              "      <td>OverSampledNeuralNetwork</td>\n",
              "      <td>0.996391</td>\n",
              "      <td>0.004065</td>\n",
              "      <td>0.995935</td>\n",
              "      <td>0.323219</td>\n",
              "      <td>0.488048</td>\n",
              "    </tr>\n",
              "  </tbody>\n",
              "</table>\n",
              "</div>"
            ],
            "text/plain": [
              "                       Model  Accuracy  FalseNegRate    Recall  Precision  \\\n",
              "0               RandomForest  0.999860      0.069106  0.930894   0.987069   \n",
              "1               DecisionTree  0.999817      0.044715  0.955285   0.940000   \n",
              "2         PlainNeuralNetwork  0.999417      0.268293  0.731707   0.913706   \n",
              "3      WeightedNeuralNetwork  0.973389      0.060976  0.939024   0.057671   \n",
              "4  UnderSampledNeuralNetwork  0.962497      0.026423  0.973577   0.042971   \n",
              "5   OverSampledNeuralNetwork  0.996391      0.004065  0.995935   0.323219   \n",
              "\n",
              "   F1 Score  \n",
              "0  0.958159  \n",
              "1  0.947581  \n",
              "2  0.812641  \n",
              "3  0.108668  \n",
              "4  0.082309  \n",
              "5  0.488048  "
            ]
          },
          "execution_count": 105,
          "metadata": {},
          "output_type": "execute_result"
        }
      ],
      "source": [
        "import pandas as pd\n",
        "\n",
        "# Store results in DataFrame for comparing various models\n",
        "model_results = pd.DataFrame([['OverSampledNeuralNetwork', acc, 1-rec, rec, prec, f1]],\n",
        "               columns=['Model', 'Accuracy', 'FalseNegRate', 'Recall', 'Precision', 'F1 Score'])\n",
        "\n",
        "# Ensure results_fullset is already defined; if not, initialize it\n",
        "if 'results_fullset' not in locals():\n",
        "    results_fullset = pd.DataFrame(columns=['Model', 'Accuracy', 'FalseNegRate', 'Recall', 'Precision', 'F1 Score'])\n",
        "\n",
        "# Fix append issue using pd.concat()\n",
        "results_fullset = pd.concat([results_fullset, model_results], ignore_index=True)\n",
        "\n",
        "# Display updated DataFrame\n",
        "results_fullset\n"
      ]
    },
    {
      "cell_type": "markdown",
      "metadata": {},
      "source": []
    },
    {
      "cell_type": "code",
      "execution_count": 106,
      "metadata": {
        "colab": {
          "base_uri": "https://localhost:8080/"
        },
        "id": "MUW2BboAxnhO",
        "outputId": "6294800c-27b1-4e44-93ad-1654e344122c"
      },
      "outputs": [
        {
          "name": "stdout",
          "output_type": "stream",
          "text": [
            "\u001b[1m1/1\u001b[0m \u001b[32m━━━━━━━━━━━━━━━━━━━━\u001b[0m\u001b[37m\u001b[0m \u001b[1m0s\u001b[0m 106ms/step\n",
            "Prediction: Fraud\n"
          ]
        }
      ],
      "source": [
        "#randomly selecting samples from featurs\n",
        "import numpy as np\n",
        "import random\n",
        "\n",
        "def predict_fraud(model, sample):\n",
        "    sample = np.array(sample).reshape(1, -1)  # Ensure input is in the correct shape\n",
        "    prediction = model.predict(sample)\n",
        "\n",
        "    if prediction >= 0.5:\n",
        "        return \"Fraud\"\n",
        "    else:\n",
        "        return \"Not Fraud\"\n",
        "\n",
        "# Ensure X_test is a DataFrame or NumPy array\n",
        "index = random.randint(0, X_test.shape[0] - 1)  # Get a valid random index\n",
        "test_sample = X_test[index]  # Select a random test sample\n",
        "\n",
        "# If X_test is a DataFrame, convert it to a NumPy array\n",
        "if hasattr(test_sample, \"values\"):\n",
        "    test_sample = test_sample.values\n",
        "\n",
        "# Run prediction\n",
        "result = predict_fraud(model, test_sample)\n",
        "print(\"Prediction:\", result)\n"
      ]
    },
    {
      "cell_type": "code",
      "execution_count": 107,
      "metadata": {
        "colab": {
          "base_uri": "https://localhost:8080/"
        },
        "id": "G2R7V-jTpPP9",
        "outputId": "326cfb61-fe70-4bbb-b788-c56275e2fb32"
      },
      "outputs": [
        {
          "name": "stdout",
          "output_type": "stream",
          "text": [
            "(None, 29)\n"
          ]
        }
      ],
      "source": [
        "print(model.input_shape)\n"
      ]
    },
    {
      "cell_type": "code",
      "execution_count": 108,
      "metadata": {
        "colab": {
          "base_uri": "https://localhost:8080/"
        },
        "id": "pU4Au_ODpzNx",
        "outputId": "86a14a6e-058b-47d3-b962-1b9495e703a3"
      },
      "outputs": [
        {
          "name": "stdout",
          "output_type": "stream",
          "text": [
            "Fixed Sample Shape: (1, 29)\n"
          ]
        }
      ],
      "source": [
        "import numpy as np\n",
        "\n",
        "# Extract only features (V1 to V28 + Amount), removing index and class\n",
        "fraud_sample = np.array([\n",
        "    -2.312226542, 1.951992011, -1.609850732, 3.997905588, -0.522187865,\n",
        "    -1.426545319, -2.537387306, 1.391657248, -2.770089277, -2.772272145,\n",
        "    3.202033207, -2.899907388, -0.595221881, -4.289253782, 0.38972412,\n",
        "    -1.14074718, -2.830055675, -0.016822468, 0.416955705, 0.126910559,\n",
        "    0.517232371, -0.035049369, -0.465211076, 0.320198199, 0.044519167,\n",
        "    0.177839798, 0.261145003, -0.143275875, 0.0  # Amount (set to 0.0, change if needed)\n",
        "]).reshape(1, -1).astype(np.float32)  # Ensure correct shape\n",
        "\n",
        "print(\"Fixed Sample Shape:\", fraud_sample.shape)  # Should be (1, 29)\n"
      ]
    },
    {
      "cell_type": "code",
      "execution_count": 109,
      "metadata": {
        "colab": {
          "base_uri": "https://localhost:8080/"
        },
        "id": "aT3-ui5Xp1qJ",
        "outputId": "e40b184f-b0ef-438c-dfb8-63dc75ff12c3"
      },
      "outputs": [
        {
          "name": "stdout",
          "output_type": "stream",
          "text": [
            "\u001b[1m1/1\u001b[0m \u001b[32m━━━━━━━━━━━━━━━━━━━━\u001b[0m\u001b[37m\u001b[0m \u001b[1m0s\u001b[0m 61ms/step\n",
            "Fraudulent Transaction\n"
          ]
        }
      ],
      "source": [
        "#FRAUD SAMPLE\n",
        "\n",
        "pred = model.predict(fraud_sample)  # Make prediction\n",
        "\n",
        "# Convert to binary class (0 or 1)\n",
        "pred_class = (pred[0] > 0.5).astype(int)  # Ensure correct format\n",
        "\n",
        "if pred_class == 0:\n",
        "    print(\"Normal Transaction\")\n",
        "else:\n",
        "    print(\"Fraudulent Transaction\")\n"
      ]
    },
    {
      "cell_type": "code",
      "execution_count": 110,
      "metadata": {},
      "outputs": [
        {
          "ename": "FileNotFoundError",
          "evalue": "[Errno 2] Unable to synchronously open file (unable to open file: name = 'fraud_detection_model.h5', errno = 2, error message = 'No such file or directory', flags = 0, o_flags = 0)",
          "output_type": "error",
          "traceback": [
            "\u001b[31m---------------------------------------------------------------------------\u001b[39m",
            "\u001b[31mFileNotFoundError\u001b[39m                         Traceback (most recent call last)",
            "\u001b[36mCell\u001b[39m\u001b[36m \u001b[39m\u001b[32mIn[110]\u001b[39m\u001b[32m, line 8\u001b[39m\n\u001b[32m      5\u001b[39m \u001b[38;5;28;01mfrom\u001b[39;00m\u001b[38;5;250m \u001b[39m\u001b[34;01mtensorflow\u001b[39;00m\u001b[34;01m.\u001b[39;00m\u001b[34;01mkeras\u001b[39;00m\u001b[34;01m.\u001b[39;00m\u001b[34;01mmodels\u001b[39;00m\u001b[38;5;250m \u001b[39m\u001b[38;5;28;01mimport\u001b[39;00m load_model\n\u001b[32m      7\u001b[39m \u001b[38;5;66;03m# Load the trained model\u001b[39;00m\n\u001b[32m----> \u001b[39m\u001b[32m8\u001b[39m model = \u001b[43mload_model\u001b[49m\u001b[43m(\u001b[49m\u001b[33;43m\"\u001b[39;49m\u001b[33;43mfraud_detection_model.h5\u001b[39;49m\u001b[33;43m\"\u001b[39;49m\u001b[43m)\u001b[49m\n\u001b[32m     10\u001b[39m \u001b[38;5;66;03m# Transaction features (remove Time and Class column)\u001b[39;00m\n\u001b[32m     12\u001b[39m sample_transaction = np.array([[\n\u001b[32m     13\u001b[39m     -\u001b[32m2.303349568\u001b[39m, \u001b[32m1.75924746\u001b[39m, -\u001b[32m0.359744743\u001b[39m, \u001b[32m2.330243051\u001b[39m, -\u001b[32m0.821628328\u001b[39m, -\u001b[32m0.075787571\u001b[39m,\n\u001b[32m     14\u001b[39m     \u001b[32m0.562319782\u001b[39m, -\u001b[32m0.399146578\u001b[39m, -\u001b[32m0.238253368\u001b[39m, -\u001b[32m1.525411627\u001b[39m, \u001b[32m2.032912158\u001b[39m, -\u001b[32m6.560124295\u001b[39m,\n\u001b[32m   (...)\u001b[39m\u001b[32m     17\u001b[39m     -\u001b[32m0.156114265\u001b[39m, -\u001b[32m0.542627889\u001b[39m, \u001b[32m0.039565989\u001b[39m, -\u001b[32m0.153028797\u001b[39m, \u001b[32m239.93\u001b[39m\n\u001b[32m     18\u001b[39m ]])\n",
            "\u001b[36mFile \u001b[39m\u001b[32mc:\\Users\\mohsi\\AppData\\Local\\Programs\\Python\\Python311\\Lib\\site-packages\\keras\\src\\saving\\saving_api.py:196\u001b[39m, in \u001b[36mload_model\u001b[39m\u001b[34m(filepath, custom_objects, compile, safe_mode)\u001b[39m\n\u001b[32m    189\u001b[39m     \u001b[38;5;28;01mreturn\u001b[39;00m saving_lib.load_model(\n\u001b[32m    190\u001b[39m         filepath,\n\u001b[32m    191\u001b[39m         custom_objects=custom_objects,\n\u001b[32m    192\u001b[39m         \u001b[38;5;28mcompile\u001b[39m=\u001b[38;5;28mcompile\u001b[39m,\n\u001b[32m    193\u001b[39m         safe_mode=safe_mode,\n\u001b[32m    194\u001b[39m     )\n\u001b[32m    195\u001b[39m \u001b[38;5;28;01mif\u001b[39;00m \u001b[38;5;28mstr\u001b[39m(filepath).endswith((\u001b[33m\"\u001b[39m\u001b[33m.h5\u001b[39m\u001b[33m\"\u001b[39m, \u001b[33m\"\u001b[39m\u001b[33m.hdf5\u001b[39m\u001b[33m\"\u001b[39m)):\n\u001b[32m--> \u001b[39m\u001b[32m196\u001b[39m     \u001b[38;5;28;01mreturn\u001b[39;00m \u001b[43mlegacy_h5_format\u001b[49m\u001b[43m.\u001b[49m\u001b[43mload_model_from_hdf5\u001b[49m\u001b[43m(\u001b[49m\n\u001b[32m    197\u001b[39m \u001b[43m        \u001b[49m\u001b[43mfilepath\u001b[49m\u001b[43m,\u001b[49m\u001b[43m \u001b[49m\u001b[43mcustom_objects\u001b[49m\u001b[43m=\u001b[49m\u001b[43mcustom_objects\u001b[49m\u001b[43m,\u001b[49m\u001b[43m \u001b[49m\u001b[38;5;28;43mcompile\u001b[39;49m\u001b[43m=\u001b[49m\u001b[38;5;28;43mcompile\u001b[39;49m\n\u001b[32m    198\u001b[39m \u001b[43m    \u001b[49m\u001b[43m)\u001b[49m\n\u001b[32m    199\u001b[39m \u001b[38;5;28;01melif\u001b[39;00m \u001b[38;5;28mstr\u001b[39m(filepath).endswith(\u001b[33m\"\u001b[39m\u001b[33m.keras\u001b[39m\u001b[33m\"\u001b[39m):\n\u001b[32m    200\u001b[39m     \u001b[38;5;28;01mraise\u001b[39;00m \u001b[38;5;167;01mValueError\u001b[39;00m(\n\u001b[32m    201\u001b[39m         \u001b[33mf\u001b[39m\u001b[33m\"\u001b[39m\u001b[33mFile not found: filepath=\u001b[39m\u001b[38;5;132;01m{\u001b[39;00mfilepath\u001b[38;5;132;01m}\u001b[39;00m\u001b[33m. \u001b[39m\u001b[33m\"\u001b[39m\n\u001b[32m    202\u001b[39m         \u001b[33m\"\u001b[39m\u001b[33mPlease ensure the file is an accessible `.keras` \u001b[39m\u001b[33m\"\u001b[39m\n\u001b[32m    203\u001b[39m         \u001b[33m\"\u001b[39m\u001b[33mzip file.\u001b[39m\u001b[33m\"\u001b[39m\n\u001b[32m    204\u001b[39m     )\n",
            "\u001b[36mFile \u001b[39m\u001b[32mc:\\Users\\mohsi\\AppData\\Local\\Programs\\Python\\Python311\\Lib\\site-packages\\keras\\src\\legacy\\saving\\legacy_h5_format.py:116\u001b[39m, in \u001b[36mload_model_from_hdf5\u001b[39m\u001b[34m(filepath, custom_objects, compile)\u001b[39m\n\u001b[32m    114\u001b[39m opened_new_file = \u001b[38;5;129;01mnot\u001b[39;00m \u001b[38;5;28misinstance\u001b[39m(filepath, h5py.File)\n\u001b[32m    115\u001b[39m \u001b[38;5;28;01mif\u001b[39;00m opened_new_file:\n\u001b[32m--> \u001b[39m\u001b[32m116\u001b[39m     f = \u001b[43mh5py\u001b[49m\u001b[43m.\u001b[49m\u001b[43mFile\u001b[49m\u001b[43m(\u001b[49m\u001b[43mfilepath\u001b[49m\u001b[43m,\u001b[49m\u001b[43m \u001b[49m\u001b[43mmode\u001b[49m\u001b[43m=\u001b[49m\u001b[33;43m\"\u001b[39;49m\u001b[33;43mr\u001b[39;49m\u001b[33;43m\"\u001b[39;49m\u001b[43m)\u001b[49m\n\u001b[32m    117\u001b[39m \u001b[38;5;28;01melse\u001b[39;00m:\n\u001b[32m    118\u001b[39m     f = filepath\n",
            "\u001b[36mFile \u001b[39m\u001b[32mc:\\Users\\mohsi\\AppData\\Local\\Programs\\Python\\Python311\\Lib\\site-packages\\h5py\\_hl\\files.py:564\u001b[39m, in \u001b[36mFile.__init__\u001b[39m\u001b[34m(self, name, mode, driver, libver, userblock_size, swmr, rdcc_nslots, rdcc_nbytes, rdcc_w0, track_order, fs_strategy, fs_persist, fs_threshold, fs_page_size, page_buf_size, min_meta_keep, min_raw_keep, locking, alignment_threshold, alignment_interval, meta_block_size, **kwds)\u001b[39m\n\u001b[32m    555\u001b[39m     fapl = make_fapl(driver, libver, rdcc_nslots, rdcc_nbytes, rdcc_w0,\n\u001b[32m    556\u001b[39m                      locking, page_buf_size, min_meta_keep, min_raw_keep,\n\u001b[32m    557\u001b[39m                      alignment_threshold=alignment_threshold,\n\u001b[32m    558\u001b[39m                      alignment_interval=alignment_interval,\n\u001b[32m    559\u001b[39m                      meta_block_size=meta_block_size,\n\u001b[32m    560\u001b[39m                      **kwds)\n\u001b[32m    561\u001b[39m     fcpl = make_fcpl(track_order=track_order, fs_strategy=fs_strategy,\n\u001b[32m    562\u001b[39m                      fs_persist=fs_persist, fs_threshold=fs_threshold,\n\u001b[32m    563\u001b[39m                      fs_page_size=fs_page_size)\n\u001b[32m--> \u001b[39m\u001b[32m564\u001b[39m     fid = \u001b[43mmake_fid\u001b[49m\u001b[43m(\u001b[49m\u001b[43mname\u001b[49m\u001b[43m,\u001b[49m\u001b[43m \u001b[49m\u001b[43mmode\u001b[49m\u001b[43m,\u001b[49m\u001b[43m \u001b[49m\u001b[43muserblock_size\u001b[49m\u001b[43m,\u001b[49m\u001b[43m \u001b[49m\u001b[43mfapl\u001b[49m\u001b[43m,\u001b[49m\u001b[43m \u001b[49m\u001b[43mfcpl\u001b[49m\u001b[43m,\u001b[49m\u001b[43m \u001b[49m\u001b[43mswmr\u001b[49m\u001b[43m=\u001b[49m\u001b[43mswmr\u001b[49m\u001b[43m)\u001b[49m\n\u001b[32m    566\u001b[39m \u001b[38;5;28;01mif\u001b[39;00m \u001b[38;5;28misinstance\u001b[39m(libver, \u001b[38;5;28mtuple\u001b[39m):\n\u001b[32m    567\u001b[39m     \u001b[38;5;28mself\u001b[39m._libver = libver\n",
            "\u001b[36mFile \u001b[39m\u001b[32mc:\\Users\\mohsi\\AppData\\Local\\Programs\\Python\\Python311\\Lib\\site-packages\\h5py\\_hl\\files.py:238\u001b[39m, in \u001b[36mmake_fid\u001b[39m\u001b[34m(name, mode, userblock_size, fapl, fcpl, swmr)\u001b[39m\n\u001b[32m    236\u001b[39m     \u001b[38;5;28;01mif\u001b[39;00m swmr \u001b[38;5;129;01mand\u001b[39;00m swmr_support:\n\u001b[32m    237\u001b[39m         flags |= h5f.ACC_SWMR_READ\n\u001b[32m--> \u001b[39m\u001b[32m238\u001b[39m     fid = \u001b[43mh5f\u001b[49m\u001b[43m.\u001b[49m\u001b[43mopen\u001b[49m\u001b[43m(\u001b[49m\u001b[43mname\u001b[49m\u001b[43m,\u001b[49m\u001b[43m \u001b[49m\u001b[43mflags\u001b[49m\u001b[43m,\u001b[49m\u001b[43m \u001b[49m\u001b[43mfapl\u001b[49m\u001b[43m=\u001b[49m\u001b[43mfapl\u001b[49m\u001b[43m)\u001b[49m\n\u001b[32m    239\u001b[39m \u001b[38;5;28;01melif\u001b[39;00m mode == \u001b[33m'\u001b[39m\u001b[33mr+\u001b[39m\u001b[33m'\u001b[39m:\n\u001b[32m    240\u001b[39m     fid = h5f.open(name, h5f.ACC_RDWR, fapl=fapl)\n",
            "\u001b[36mFile \u001b[39m\u001b[32mh5py\\\\_objects.pyx:54\u001b[39m, in \u001b[36mh5py._objects.with_phil.wrapper\u001b[39m\u001b[34m()\u001b[39m\n",
            "\u001b[36mFile \u001b[39m\u001b[32mh5py\\\\_objects.pyx:55\u001b[39m, in \u001b[36mh5py._objects.with_phil.wrapper\u001b[39m\u001b[34m()\u001b[39m\n",
            "\u001b[36mFile \u001b[39m\u001b[32mh5py\\\\h5f.pyx:102\u001b[39m, in \u001b[36mh5py.h5f.open\u001b[39m\u001b[34m()\u001b[39m\n",
            "\u001b[31mFileNotFoundError\u001b[39m: [Errno 2] Unable to synchronously open file (unable to open file: name = 'fraud_detection_model.h5', errno = 2, error message = 'No such file or directory', flags = 0, o_flags = 0)"
          ]
        }
      ],
      "source": [
        "#okay now lets check how well is model working in detecting fradulent trasactions\n",
        "#Sample (remove Time and Class column)\n",
        "\n",
        "import numpy as np\n",
        "from tensorflow.keras.models import load_model\n",
        "\n",
        "# Load the trained model\n",
        "model = load_model(\"fraud_detection_model.h5\")\n",
        "\n",
        "# Transaction features (remove Time and Class column)\n",
        "\n",
        "sample_transaction = np.array([[\n",
        "    -2.303349568, 1.75924746, -0.359744743, 2.330243051, -0.821628328, -0.075787571,\n",
        "    0.562319782, -0.399146578, -0.238253368, -1.525411627, 2.032912158, -6.560124295,\n",
        "    0.022937323, -1.470101536, -0.698826069, -2.282193829, -4.781830856, -2.615664945,\n",
        "    -1.334441067, -0.430021867, -0.294166318, -0.932391057, 0.172726296, -0.087329538,\n",
        "    -0.156114265, -0.542627889, 0.039565989, -0.153028797, 239.93\n",
        "]])\n",
        "\n",
        "\n",
        "# Reshape input if necessary\n",
        "sample_transaction = sample_transaction.reshape(1, -1)\n",
        "\n",
        "# Make prediction\n",
        "pred = model.predict(sample_transaction)\n",
        "\n",
        "# Convert to binary class (0 = Normal, 1 = Fraud)\n",
        "pred_class = (pred[0] > 0.5).astype(int)\n",
        "\n",
        "# Print the result\n",
        "if pred_class == 0:\n",
        "    print(\"✅ Normal Transaction\")\n",
        "else:\n",
        "    print(\"🚨 Fraudulent Transaction\")\n"
      ]
    },
    {
      "cell_type": "code",
      "execution_count": 114,
      "metadata": {},
      "outputs": [
        {
          "name": "stderr",
          "output_type": "stream",
          "text": [
            "WARNING:absl:Compiled the loaded model, but the compiled metrics have yet to be built. `model.compile_metrics` will be empty until you train or evaluate the model.\n"
          ]
        },
        {
          "name": "stdout",
          "output_type": "stream",
          "text": [
            "\u001b[1m1/1\u001b[0m \u001b[32m━━━━━━━━━━━━━━━━━━━━\u001b[0m\u001b[37m\u001b[0m \u001b[1m0s\u001b[0m 72ms/step\n",
            "✅ Normal Transaction\n"
          ]
        }
      ],
      "source": [
        "#okay now lets check how well is model working in detecting fradulent trasactions\n",
        "#Sample (remove Time and Class column)\n",
        "\n",
        "import numpy as np\n",
        "from tensorflow.keras.models import load_model\n",
        "\n",
        "# Load the trained model\n",
        "model = load_model(\"fraud_detection_model.h5\")\n",
        "\n",
        "# Transaction features (remove Time and Class column)\n",
        "\n",
        "sample_transaction = np.array([[1.951992011, -1.609850732, 3.997905588, -0.522187865, -1.426545319, -2.537387306, \n",
        "     1.391657248, -2.770089277, -2.772272145, 3.202033207, -2.899907388, -0.595221881, \n",
        "     -4.289253782, 0.38972412, -1.14074718, -2.830055675, -0.016822468, 0.416955705, \n",
        "     0.126910559, 0.517232371, -0.035049369, -0.465211076, 0.320198199, 0.044519167, \n",
        "     0.177839798, 0.261145003, -0.143275875, 0, 1]])\n",
        "\n",
        "\n",
        "# Reshape input if necessary\n",
        "sample_transaction = sample_transaction.reshape(1, -1)\n",
        "\n",
        "# Make prediction\n",
        "pred = model.predict(sample_transaction)\n",
        "\n",
        "# Convert to binary class (0 = Normal, 1 = Fraud)\n",
        "pred_class = (pred[0] > 0.5).astype(int)\n",
        "\n",
        "# Print the result\n",
        "if pred_class == 0:\n",
        "    print(\"✅ Normal Transaction\")\n",
        "else:\n",
        "    print(\"🚨 Fraudulent Transaction\")\n"
      ]
    },
    {
      "cell_type": "code",
      "execution_count": 112,
      "metadata": {},
      "outputs": [
        {
          "name": "stderr",
          "output_type": "stream",
          "text": [
            "WARNING:absl:You are saving your model as an HDF5 file via `model.save()` or `keras.saving.save_model(model)`. This file format is considered legacy. We recommend using instead the native Keras format, e.g. `model.save('my_model.keras')` or `keras.saving.save_model(model, 'my_model.keras')`. \n"
          ]
        }
      ],
      "source": [
        "model.save(\"fraud_detection_model.h5\")  # Saves in HDF5 format\n"
      ]
    },
    {
      "cell_type": "code",
      "execution_count": 113,
      "metadata": {},
      "outputs": [
        {
          "name": "stderr",
          "output_type": "stream",
          "text": [
            "WARNING:absl:Compiled the loaded model, but the compiled metrics have yet to be built. `model.compile_metrics` will be empty until you train or evaluate the model.\n"
          ]
        }
      ],
      "source": [
        "from tensorflow.keras.models import load_model\n",
        "\n",
        "model = load_model(\"fraud_detection_model.h5\")\n"
      ]
    },
    {
      "cell_type": "code",
      "execution_count": 115,
      "metadata": {},
      "outputs": [
        {
          "name": "stderr",
          "output_type": "stream",
          "text": [
            "WARNING:absl:Compiled the loaded model, but the compiled metrics have yet to be built. `model.compile_metrics` will be empty until you train or evaluate the model.\n",
            "WARNING:absl:You are saving your model as an HDF5 file via `model.save()` or `keras.saving.save_model(model)`. This file format is considered legacy. We recommend using instead the native Keras format, e.g. `model.save('my_model.keras')` or `keras.saving.save_model(model, 'my_model.keras')`. \n"
          ]
        },
        {
          "name": "stdout",
          "output_type": "stream",
          "text": [
            "Model saved successfully as fraud_detection_model.h5\n"
          ]
        }
      ],
      "source": [
        "from tensorflow.keras.models import load_model\n",
        "\n",
        "# Load your trained model\n",
        "model = load_model(\"fraud_detection_model.h5\")\n",
        "\n",
        "# Save the model again (just to confirm)\n",
        "model.save(\"fraud_detection_model.h5\")\n",
        "\n",
        "print(\"Model saved successfully as fraud_detection_model.h5\")\n"
      ]
    },
    {
      "cell_type": "code",
      "execution_count": null,
      "metadata": {},
      "outputs": [
        {
          "name": "stdout",
          "output_type": "stream",
          "text": [
            "Requirement already satisfied: ipywidgets in c:\\users\\mohsi\\appdata\\local\\programs\\python\\python311\\lib\\site-packages (8.1.5)\n",
            "Requirement already satisfied: tensorflow in c:\\users\\mohsi\\appdata\\local\\programs\\python\\python311\\lib\\site-packages (2.19.0)\n",
            "Requirement already satisfied: numpy in c:\\users\\mohsi\\appdata\\local\\programs\\python\\python311\\lib\\site-packages (2.1.3)\n",
            "Requirement already satisfied: comm>=0.1.3 in c:\\users\\mohsi\\appdata\\roaming\\python\\python311\\site-packages (from ipywidgets) (0.2.2)\n",
            "Requirement already satisfied: ipython>=6.1.0 in c:\\users\\mohsi\\appdata\\roaming\\python\\python311\\site-packages (from ipywidgets) (9.0.2)\n",
            "Requirement already satisfied: traitlets>=4.3.1 in c:\\users\\mohsi\\appdata\\roaming\\python\\python311\\site-packages (from ipywidgets) (5.14.3)\n",
            "Requirement already satisfied: widgetsnbextension~=4.0.12 in c:\\users\\mohsi\\appdata\\local\\programs\\python\\python311\\lib\\site-packages (from ipywidgets) (4.0.13)\n",
            "Requirement already satisfied: jupyterlab-widgets~=3.0.12 in c:\\users\\mohsi\\appdata\\local\\programs\\python\\python311\\lib\\site-packages (from ipywidgets) (3.0.13)\n",
            "Requirement already satisfied: absl-py>=1.0.0 in c:\\users\\mohsi\\appdata\\local\\programs\\python\\python311\\lib\\site-packages (from tensorflow) (2.2.0)\n",
            "Requirement already satisfied: astunparse>=1.6.0 in c:\\users\\mohsi\\appdata\\local\\programs\\python\\python311\\lib\\site-packages (from tensorflow) (1.6.3)\n",
            "Requirement already satisfied: flatbuffers>=24.3.25 in c:\\users\\mohsi\\appdata\\local\\programs\\python\\python311\\lib\\site-packages (from tensorflow) (25.2.10)\n",
            "Requirement already satisfied: gast!=0.5.0,!=0.5.1,!=0.5.2,>=0.2.1 in c:\\users\\mohsi\\appdata\\local\\programs\\python\\python311\\lib\\site-packages (from tensorflow) (0.6.0)\n",
            "Requirement already satisfied: google-pasta>=0.1.1 in c:\\users\\mohsi\\appdata\\local\\programs\\python\\python311\\lib\\site-packages (from tensorflow) (0.2.0)\n",
            "Requirement already satisfied: libclang>=13.0.0 in c:\\users\\mohsi\\appdata\\local\\programs\\python\\python311\\lib\\site-packages (from tensorflow) (18.1.1)\n",
            "Requirement already satisfied: opt-einsum>=2.3.2 in c:\\users\\mohsi\\appdata\\local\\programs\\python\\python311\\lib\\site-packages (from tensorflow) (3.4.0)\n",
            "Requirement already satisfied: packaging in c:\\users\\mohsi\\appdata\\local\\programs\\python\\python311\\lib\\site-packages (from tensorflow) (24.2)\n",
            "Requirement already satisfied: protobuf!=4.21.0,!=4.21.1,!=4.21.2,!=4.21.3,!=4.21.4,!=4.21.5,<6.0.0dev,>=3.20.3 in c:\\users\\mohsi\\appdata\\local\\programs\\python\\python311\\lib\\site-packages (from tensorflow) (5.29.4)\n",
            "Requirement already satisfied: requests<3,>=2.21.0 in c:\\users\\mohsi\\appdata\\local\\programs\\python\\python311\\lib\\site-packages (from tensorflow) (2.32.3)\n",
            "Requirement already satisfied: setuptools in c:\\users\\mohsi\\appdata\\local\\programs\\python\\python311\\lib\\site-packages (from tensorflow) (65.5.0)\n",
            "Requirement already satisfied: six>=1.12.0 in c:\\users\\mohsi\\appdata\\local\\programs\\python\\python311\\lib\\site-packages (from tensorflow) (1.17.0)\n",
            "Requirement already satisfied: termcolor>=1.1.0 in c:\\users\\mohsi\\appdata\\local\\programs\\python\\python311\\lib\\site-packages (from tensorflow) (2.5.0)\n",
            "Requirement already satisfied: typing-extensions>=3.6.6 in c:\\users\\mohsi\\appdata\\local\\programs\\python\\python311\\lib\\site-packages (from tensorflow) (4.12.2)\n",
            "Requirement already satisfied: wrapt>=1.11.0 in c:\\users\\mohsi\\appdata\\local\\programs\\python\\python311\\lib\\site-packages (from tensorflow) (1.17.2)\n",
            "Requirement already satisfied: grpcio<2.0,>=1.24.3 in c:\\users\\mohsi\\appdata\\local\\programs\\python\\python311\\lib\\site-packages (from tensorflow) (1.71.0)\n",
            "Requirement already satisfied: tensorboard~=2.19.0 in c:\\users\\mohsi\\appdata\\local\\programs\\python\\python311\\lib\\site-packages (from tensorflow) (2.19.0)\n",
            "Requirement already satisfied: keras>=3.5.0 in c:\\users\\mohsi\\appdata\\local\\programs\\python\\python311\\lib\\site-packages (from tensorflow) (3.9.0)\n",
            "Requirement already satisfied: h5py>=3.11.0 in c:\\users\\mohsi\\appdata\\local\\programs\\python\\python311\\lib\\site-packages (from tensorflow) (3.13.0)\n",
            "Requirement already satisfied: ml-dtypes<1.0.0,>=0.5.1 in c:\\users\\mohsi\\appdata\\local\\programs\\python\\python311\\lib\\site-packages (from tensorflow) (0.5.1)\n",
            "Requirement already satisfied: tensorflow-io-gcs-filesystem>=0.23.1 in c:\\users\\mohsi\\appdata\\local\\programs\\python\\python311\\lib\\site-packages (from tensorflow) (0.31.0)\n",
            "Requirement already satisfied: wheel<1.0,>=0.23.0 in c:\\users\\mohsi\\appdata\\local\\programs\\python\\python311\\lib\\site-packages (from astunparse>=1.6.0->tensorflow) (0.45.1)\n",
            "Requirement already satisfied: colorama in c:\\users\\mohsi\\appdata\\roaming\\python\\python311\\site-packages (from ipython>=6.1.0->ipywidgets) (0.4.6)\n",
            "Requirement already satisfied: decorator in c:\\users\\mohsi\\appdata\\roaming\\python\\python311\\site-packages (from ipython>=6.1.0->ipywidgets) (5.2.1)\n",
            "Requirement already satisfied: ipython-pygments-lexers in c:\\users\\mohsi\\appdata\\roaming\\python\\python311\\site-packages (from ipython>=6.1.0->ipywidgets) (1.1.1)\n",
            "Requirement already satisfied: jedi>=0.16 in c:\\users\\mohsi\\appdata\\roaming\\python\\python311\\site-packages (from ipython>=6.1.0->ipywidgets) (0.19.2)\n",
            "Requirement already satisfied: matplotlib-inline in c:\\users\\mohsi\\appdata\\roaming\\python\\python311\\site-packages (from ipython>=6.1.0->ipywidgets) (0.1.7)\n",
            "Requirement already satisfied: prompt_toolkit<3.1.0,>=3.0.41 in c:\\users\\mohsi\\appdata\\roaming\\python\\python311\\site-packages (from ipython>=6.1.0->ipywidgets) (3.0.50)\n",
            "Requirement already satisfied: pygments>=2.4.0 in c:\\users\\mohsi\\appdata\\local\\programs\\python\\python311\\lib\\site-packages (from ipython>=6.1.0->ipywidgets) (2.19.1)\n",
            "Requirement already satisfied: stack_data in c:\\users\\mohsi\\appdata\\roaming\\python\\python311\\site-packages (from ipython>=6.1.0->ipywidgets) (0.6.3)\n",
            "Requirement already satisfied: rich in c:\\users\\mohsi\\appdata\\local\\programs\\python\\python311\\lib\\site-packages (from keras>=3.5.0->tensorflow) (13.9.4)\n",
            "Requirement already satisfied: namex in c:\\users\\mohsi\\appdata\\local\\programs\\python\\python311\\lib\\site-packages (from keras>=3.5.0->tensorflow) (0.0.8)\n",
            "Requirement already satisfied: optree in c:\\users\\mohsi\\appdata\\local\\programs\\python\\python311\\lib\\site-packages (from keras>=3.5.0->tensorflow) (0.14.1)\n",
            "Requirement already satisfied: charset-normalizer<4,>=2 in c:\\users\\mohsi\\appdata\\local\\programs\\python\\python311\\lib\\site-packages (from requests<3,>=2.21.0->tensorflow) (3.4.1)\n",
            "Requirement already satisfied: idna<4,>=2.5 in c:\\users\\mohsi\\appdata\\local\\programs\\python\\python311\\lib\\site-packages (from requests<3,>=2.21.0->tensorflow) (3.10)\n",
            "Requirement already satisfied: urllib3<3,>=1.21.1 in c:\\users\\mohsi\\appdata\\local\\programs\\python\\python311\\lib\\site-packages (from requests<3,>=2.21.0->tensorflow) (1.26.20)\n",
            "Requirement already satisfied: certifi>=2017.4.17 in c:\\users\\mohsi\\appdata\\local\\programs\\python\\python311\\lib\\site-packages (from requests<3,>=2.21.0->tensorflow) (2025.1.31)\n",
            "Requirement already satisfied: markdown>=2.6.8 in c:\\users\\mohsi\\appdata\\local\\programs\\python\\python311\\lib\\site-packages (from tensorboard~=2.19.0->tensorflow) (3.7)\n",
            "Requirement already satisfied: tensorboard-data-server<0.8.0,>=0.7.0 in c:\\users\\mohsi\\appdata\\local\\programs\\python\\python311\\lib\\site-packages (from tensorboard~=2.19.0->tensorflow) (0.7.2)\n",
            "Requirement already satisfied: werkzeug>=1.0.1 in c:\\users\\mohsi\\appdata\\local\\programs\\python\\python311\\lib\\site-packages (from tensorboard~=2.19.0->tensorflow) (3.1.3)\n",
            "Requirement already satisfied: parso<0.9.0,>=0.8.4 in c:\\users\\mohsi\\appdata\\roaming\\python\\python311\\site-packages (from jedi>=0.16->ipython>=6.1.0->ipywidgets) (0.8.4)\n",
            "Requirement already satisfied: wcwidth in c:\\users\\mohsi\\appdata\\roaming\\python\\python311\\site-packages (from prompt_toolkit<3.1.0,>=3.0.41->ipython>=6.1.0->ipywidgets) (0.2.13)\n",
            "Requirement already satisfied: MarkupSafe>=2.1.1 in c:\\users\\mohsi\\appdata\\local\\programs\\python\\python311\\lib\\site-packages (from werkzeug>=1.0.1->tensorboard~=2.19.0->tensorflow) (3.0.2)\n",
            "Requirement already satisfied: markdown-it-py>=2.2.0 in c:\\users\\mohsi\\appdata\\local\\programs\\python\\python311\\lib\\site-packages (from rich->keras>=3.5.0->tensorflow) (3.0.0)\n",
            "Requirement already satisfied: executing>=1.2.0 in c:\\users\\mohsi\\appdata\\roaming\\python\\python311\\site-packages (from stack_data->ipython>=6.1.0->ipywidgets) (2.2.0)\n",
            "Requirement already satisfied: asttokens>=2.1.0 in c:\\users\\mohsi\\appdata\\roaming\\python\\python311\\site-packages (from stack_data->ipython>=6.1.0->ipywidgets) (3.0.0)\n",
            "Requirement already satisfied: pure-eval in c:\\users\\mohsi\\appdata\\roaming\\python\\python311\\site-packages (from stack_data->ipython>=6.1.0->ipywidgets) (0.2.3)\n",
            "Requirement already satisfied: mdurl~=0.1 in c:\\users\\mohsi\\appdata\\local\\programs\\python\\python311\\lib\\site-packages (from markdown-it-py>=2.2.0->rich->keras>=3.5.0->tensorflow) (0.1.2)\n",
            "Note: you may need to restart the kernel to use updated packages.\n"
          ]
        },
        {
          "name": "stderr",
          "output_type": "stream",
          "text": [
            "\n",
            "[notice] A new release of pip is available: 23.2.1 -> 25.1\n",
            "[notice] To update, run: python.exe -m pip install --upgrade pip\n"
          ]
        }
      ],
      "source": [
        "pip install ipywidgets tensorflow numpy\n"
      ]
    },
    {
      "cell_type": "code",
      "execution_count": null,
      "metadata": {},
      "outputs": [
        {
          "name": "stdout",
          "output_type": "stream",
          "text": [
            "Requirement already satisfied: gradio in c:\\users\\mohsi\\appdata\\local\\programs\\python\\python311\\lib\\site-packages (5.22.0)\n",
            "Requirement already satisfied: tensorflow in c:\\users\\mohsi\\appdata\\local\\programs\\python\\python311\\lib\\site-packages (2.19.0)\n",
            "Requirement already satisfied: numpy in c:\\users\\mohsi\\appdata\\local\\programs\\python\\python311\\lib\\site-packages (2.1.3)\n",
            "Requirement already satisfied: aiofiles<24.0,>=22.0 in c:\\users\\mohsi\\appdata\\local\\programs\\python\\python311\\lib\\site-packages (from gradio) (23.2.1)\n",
            "Requirement already satisfied: anyio<5.0,>=3.0 in c:\\users\\mohsi\\appdata\\local\\programs\\python\\python311\\lib\\site-packages (from gradio) (4.9.0)\n",
            "Requirement already satisfied: fastapi<1.0,>=0.115.2 in c:\\users\\mohsi\\appdata\\local\\programs\\python\\python311\\lib\\site-packages (from gradio) (0.115.11)\n",
            "Requirement already satisfied: ffmpy in c:\\users\\mohsi\\appdata\\local\\programs\\python\\python311\\lib\\site-packages (from gradio) (0.5.0)\n",
            "Requirement already satisfied: gradio-client==1.8.0 in c:\\users\\mohsi\\appdata\\local\\programs\\python\\python311\\lib\\site-packages (from gradio) (1.8.0)\n",
            "Requirement already satisfied: groovy~=0.1 in c:\\users\\mohsi\\appdata\\local\\programs\\python\\python311\\lib\\site-packages (from gradio) (0.1.2)\n",
            "Requirement already satisfied: httpx>=0.24.1 in c:\\users\\mohsi\\appdata\\local\\programs\\python\\python311\\lib\\site-packages (from gradio) (0.28.1)\n",
            "Requirement already satisfied: huggingface-hub>=0.28.1 in c:\\users\\mohsi\\appdata\\local\\programs\\python\\python311\\lib\\site-packages (from gradio) (0.29.3)\n",
            "Requirement already satisfied: jinja2<4.0 in c:\\users\\mohsi\\appdata\\local\\programs\\python\\python311\\lib\\site-packages (from gradio) (3.1.6)\n",
            "Requirement already satisfied: markupsafe<4.0,>=2.0 in c:\\users\\mohsi\\appdata\\local\\programs\\python\\python311\\lib\\site-packages (from gradio) (3.0.2)\n",
            "Requirement already satisfied: orjson~=3.0 in c:\\users\\mohsi\\appdata\\local\\programs\\python\\python311\\lib\\site-packages (from gradio) (3.10.15)\n",
            "Requirement already satisfied: packaging in c:\\users\\mohsi\\appdata\\local\\programs\\python\\python311\\lib\\site-packages (from gradio) (24.2)\n",
            "Requirement already satisfied: pandas<3.0,>=1.0 in c:\\users\\mohsi\\appdata\\local\\programs\\python\\python311\\lib\\site-packages (from gradio) (2.2.3)\n",
            "Requirement already satisfied: pillow<12.0,>=8.0 in c:\\users\\mohsi\\appdata\\local\\programs\\python\\python311\\lib\\site-packages (from gradio) (11.1.0)\n",
            "Requirement already satisfied: pydantic>=2.0 in c:\\users\\mohsi\\appdata\\local\\programs\\python\\python311\\lib\\site-packages (from gradio) (2.10.6)\n",
            "Requirement already satisfied: pydub in c:\\users\\mohsi\\appdata\\local\\programs\\python\\python311\\lib\\site-packages (from gradio) (0.25.1)\n",
            "Requirement already satisfied: python-multipart>=0.0.18 in c:\\users\\mohsi\\appdata\\local\\programs\\python\\python311\\lib\\site-packages (from gradio) (0.0.20)\n",
            "Requirement already satisfied: pyyaml<7.0,>=5.0 in c:\\users\\mohsi\\appdata\\local\\programs\\python\\python311\\lib\\site-packages (from gradio) (6.0.2)\n",
            "Requirement already satisfied: ruff>=0.9.3 in c:\\users\\mohsi\\appdata\\local\\programs\\python\\python311\\lib\\site-packages (from gradio) (0.11.2)\n",
            "Requirement already satisfied: safehttpx<0.2.0,>=0.1.6 in c:\\users\\mohsi\\appdata\\local\\programs\\python\\python311\\lib\\site-packages (from gradio) (0.1.6)\n",
            "Requirement already satisfied: semantic-version~=2.0 in c:\\users\\mohsi\\appdata\\local\\programs\\python\\python311\\lib\\site-packages (from gradio) (2.10.0)\n",
            "Requirement already satisfied: starlette<1.0,>=0.40.0 in c:\\users\\mohsi\\appdata\\local\\programs\\python\\python311\\lib\\site-packages (from gradio) (0.46.1)\n",
            "Requirement already satisfied: tomlkit<0.14.0,>=0.12.0 in c:\\users\\mohsi\\appdata\\local\\programs\\python\\python311\\lib\\site-packages (from gradio) (0.13.2)\n",
            "Requirement already satisfied: typer<1.0,>=0.12 in c:\\users\\mohsi\\appdata\\local\\programs\\python\\python311\\lib\\site-packages (from gradio) (0.15.2)\n",
            "Requirement already satisfied: typing-extensions~=4.0 in c:\\users\\mohsi\\appdata\\local\\programs\\python\\python311\\lib\\site-packages (from gradio) (4.12.2)\n",
            "Requirement already satisfied: uvicorn>=0.14.0 in c:\\users\\mohsi\\appdata\\local\\programs\\python\\python311\\lib\\site-packages (from gradio) (0.34.0)\n",
            "Requirement already satisfied: fsspec in c:\\users\\mohsi\\appdata\\local\\programs\\python\\python311\\lib\\site-packages (from gradio-client==1.8.0->gradio) (2025.3.0)\n",
            "Requirement already satisfied: websockets<16.0,>=10.0 in c:\\users\\mohsi\\appdata\\local\\programs\\python\\python311\\lib\\site-packages (from gradio-client==1.8.0->gradio) (10.4)\n",
            "Requirement already satisfied: absl-py>=1.0.0 in c:\\users\\mohsi\\appdata\\local\\programs\\python\\python311\\lib\\site-packages (from tensorflow) (2.2.0)\n",
            "Requirement already satisfied: astunparse>=1.6.0 in c:\\users\\mohsi\\appdata\\local\\programs\\python\\python311\\lib\\site-packages (from tensorflow) (1.6.3)\n",
            "Requirement already satisfied: flatbuffers>=24.3.25 in c:\\users\\mohsi\\appdata\\local\\programs\\python\\python311\\lib\\site-packages (from tensorflow) (25.2.10)\n",
            "Requirement already satisfied: gast!=0.5.0,!=0.5.1,!=0.5.2,>=0.2.1 in c:\\users\\mohsi\\appdata\\local\\programs\\python\\python311\\lib\\site-packages (from tensorflow) (0.6.0)\n",
            "Requirement already satisfied: google-pasta>=0.1.1 in c:\\users\\mohsi\\appdata\\local\\programs\\python\\python311\\lib\\site-packages (from tensorflow) (0.2.0)\n",
            "Requirement already satisfied: libclang>=13.0.0 in c:\\users\\mohsi\\appdata\\local\\programs\\python\\python311\\lib\\site-packages (from tensorflow) (18.1.1)\n",
            "Requirement already satisfied: opt-einsum>=2.3.2 in c:\\users\\mohsi\\appdata\\local\\programs\\python\\python311\\lib\\site-packages (from tensorflow) (3.4.0)\n",
            "Requirement already satisfied: protobuf!=4.21.0,!=4.21.1,!=4.21.2,!=4.21.3,!=4.21.4,!=4.21.5,<6.0.0dev,>=3.20.3 in c:\\users\\mohsi\\appdata\\local\\programs\\python\\python311\\lib\\site-packages (from tensorflow) (5.29.4)\n",
            "Requirement already satisfied: requests<3,>=2.21.0 in c:\\users\\mohsi\\appdata\\local\\programs\\python\\python311\\lib\\site-packages (from tensorflow) (2.32.3)\n",
            "Requirement already satisfied: setuptools in c:\\users\\mohsi\\appdata\\local\\programs\\python\\python311\\lib\\site-packages (from tensorflow) (65.5.0)\n",
            "Requirement already satisfied: six>=1.12.0 in c:\\users\\mohsi\\appdata\\local\\programs\\python\\python311\\lib\\site-packages (from tensorflow) (1.17.0)\n",
            "Requirement already satisfied: termcolor>=1.1.0 in c:\\users\\mohsi\\appdata\\local\\programs\\python\\python311\\lib\\site-packages (from tensorflow) (2.5.0)\n",
            "Requirement already satisfied: wrapt>=1.11.0 in c:\\users\\mohsi\\appdata\\local\\programs\\python\\python311\\lib\\site-packages (from tensorflow) (1.17.2)\n",
            "Requirement already satisfied: grpcio<2.0,>=1.24.3 in c:\\users\\mohsi\\appdata\\local\\programs\\python\\python311\\lib\\site-packages (from tensorflow) (1.71.0)\n",
            "Requirement already satisfied: tensorboard~=2.19.0 in c:\\users\\mohsi\\appdata\\local\\programs\\python\\python311\\lib\\site-packages (from tensorflow) (2.19.0)\n",
            "Requirement already satisfied: keras>=3.5.0 in c:\\users\\mohsi\\appdata\\local\\programs\\python\\python311\\lib\\site-packages (from tensorflow) (3.9.0)\n",
            "Requirement already satisfied: h5py>=3.11.0 in c:\\users\\mohsi\\appdata\\local\\programs\\python\\python311\\lib\\site-packages (from tensorflow) (3.13.0)\n",
            "Requirement already satisfied: ml-dtypes<1.0.0,>=0.5.1 in c:\\users\\mohsi\\appdata\\local\\programs\\python\\python311\\lib\\site-packages (from tensorflow) (0.5.1)\n",
            "Requirement already satisfied: tensorflow-io-gcs-filesystem>=0.23.1 in c:\\users\\mohsi\\appdata\\local\\programs\\python\\python311\\lib\\site-packages (from tensorflow) (0.31.0)\n",
            "Requirement already satisfied: idna>=2.8 in c:\\users\\mohsi\\appdata\\local\\programs\\python\\python311\\lib\\site-packages (from anyio<5.0,>=3.0->gradio) (3.10)\n",
            "Requirement already satisfied: sniffio>=1.1 in c:\\users\\mohsi\\appdata\\local\\programs\\python\\python311\\lib\\site-packages (from anyio<5.0,>=3.0->gradio) (1.3.1)\n",
            "Requirement already satisfied: wheel<1.0,>=0.23.0 in c:\\users\\mohsi\\appdata\\local\\programs\\python\\python311\\lib\\site-packages (from astunparse>=1.6.0->tensorflow) (0.45.1)\n",
            "Requirement already satisfied: certifi in c:\\users\\mohsi\\appdata\\local\\programs\\python\\python311\\lib\\site-packages (from httpx>=0.24.1->gradio) (2025.1.31)\n",
            "Requirement already satisfied: httpcore==1.* in c:\\users\\mohsi\\appdata\\local\\programs\\python\\python311\\lib\\site-packages (from httpx>=0.24.1->gradio) (1.0.7)\n",
            "Requirement already satisfied: h11<0.15,>=0.13 in c:\\users\\mohsi\\appdata\\local\\programs\\python\\python311\\lib\\site-packages (from httpcore==1.*->httpx>=0.24.1->gradio) (0.14.0)\n",
            "Requirement already satisfied: filelock in c:\\users\\mohsi\\appdata\\local\\programs\\python\\python311\\lib\\site-packages (from huggingface-hub>=0.28.1->gradio) (3.18.0)\n",
            "Requirement already satisfied: tqdm>=4.42.1 in c:\\users\\mohsi\\appdata\\local\\programs\\python\\python311\\lib\\site-packages (from huggingface-hub>=0.28.1->gradio) (4.67.1)\n",
            "Requirement already satisfied: rich in c:\\users\\mohsi\\appdata\\local\\programs\\python\\python311\\lib\\site-packages (from keras>=3.5.0->tensorflow) (13.9.4)\n",
            "Requirement already satisfied: namex in c:\\users\\mohsi\\appdata\\local\\programs\\python\\python311\\lib\\site-packages (from keras>=3.5.0->tensorflow) (0.0.8)\n",
            "Requirement already satisfied: optree in c:\\users\\mohsi\\appdata\\local\\programs\\python\\python311\\lib\\site-packages (from keras>=3.5.0->tensorflow) (0.14.1)\n",
            "Requirement already satisfied: python-dateutil>=2.8.2 in c:\\users\\mohsi\\appdata\\roaming\\python\\python311\\site-packages (from pandas<3.0,>=1.0->gradio) (2.9.0.post0)\n",
            "Requirement already satisfied: pytz>=2020.1 in c:\\users\\mohsi\\appdata\\local\\programs\\python\\python311\\lib\\site-packages (from pandas<3.0,>=1.0->gradio) (2025.1)\n",
            "Requirement already satisfied: tzdata>=2022.7 in c:\\users\\mohsi\\appdata\\local\\programs\\python\\python311\\lib\\site-packages (from pandas<3.0,>=1.0->gradio) (2025.1)\n",
            "Requirement already satisfied: annotated-types>=0.6.0 in c:\\users\\mohsi\\appdata\\local\\programs\\python\\python311\\lib\\site-packages (from pydantic>=2.0->gradio) (0.7.0)\n",
            "Requirement already satisfied: pydantic-core==2.27.2 in c:\\users\\mohsi\\appdata\\local\\programs\\python\\python311\\lib\\site-packages (from pydantic>=2.0->gradio) (2.27.2)\n",
            "Requirement already satisfied: charset-normalizer<4,>=2 in c:\\users\\mohsi\\appdata\\local\\programs\\python\\python311\\lib\\site-packages (from requests<3,>=2.21.0->tensorflow) (3.4.1)\n",
            "Requirement already satisfied: urllib3<3,>=1.21.1 in c:\\users\\mohsi\\appdata\\local\\programs\\python\\python311\\lib\\site-packages (from requests<3,>=2.21.0->tensorflow) (1.26.20)\n",
            "Requirement already satisfied: markdown>=2.6.8 in c:\\users\\mohsi\\appdata\\local\\programs\\python\\python311\\lib\\site-packages (from tensorboard~=2.19.0->tensorflow) (3.7)\n",
            "Requirement already satisfied: tensorboard-data-server<0.8.0,>=0.7.0 in c:\\users\\mohsi\\appdata\\local\\programs\\python\\python311\\lib\\site-packages (from tensorboard~=2.19.0->tensorflow) (0.7.2)\n",
            "Requirement already satisfied: werkzeug>=1.0.1 in c:\\users\\mohsi\\appdata\\local\\programs\\python\\python311\\lib\\site-packages (from tensorboard~=2.19.0->tensorflow) (3.1.3)\n",
            "Requirement already satisfied: click>=8.0.0 in c:\\users\\mohsi\\appdata\\local\\programs\\python\\python311\\lib\\site-packages (from typer<1.0,>=0.12->gradio) (8.1.8)\n",
            "Requirement already satisfied: shellingham>=1.3.0 in c:\\users\\mohsi\\appdata\\local\\programs\\python\\python311\\lib\\site-packages (from typer<1.0,>=0.12->gradio) (1.5.4)\n",
            "Requirement already satisfied: colorama in c:\\users\\mohsi\\appdata\\roaming\\python\\python311\\site-packages (from click>=8.0.0->typer<1.0,>=0.12->gradio) (0.4.6)\n",
            "Requirement already satisfied: markdown-it-py>=2.2.0 in c:\\users\\mohsi\\appdata\\local\\programs\\python\\python311\\lib\\site-packages (from rich->keras>=3.5.0->tensorflow) (3.0.0)\n",
            "Requirement already satisfied: pygments<3.0.0,>=2.13.0 in c:\\users\\mohsi\\appdata\\local\\programs\\python\\python311\\lib\\site-packages (from rich->keras>=3.5.0->tensorflow) (2.19.1)\n",
            "Requirement already satisfied: mdurl~=0.1 in c:\\users\\mohsi\\appdata\\local\\programs\\python\\python311\\lib\\site-packages (from markdown-it-py>=2.2.0->rich->keras>=3.5.0->tensorflow) (0.1.2)\n",
            "Note: you may need to restart the kernel to use updated packages.\n"
          ]
        },
        {
          "name": "stderr",
          "output_type": "stream",
          "text": [
            "\n",
            "[notice] A new release of pip is available: 23.2.1 -> 25.1\n",
            "[notice] To update, run: python.exe -m pip install --upgrade pip\n"
          ]
        }
      ],
      "source": [
        "pip install gradio tensorflow numpy\n"
      ]
    },
    {
      "cell_type": "code",
      "execution_count": 116,
      "metadata": {},
      "outputs": [
        {
          "name": "stderr",
          "output_type": "stream",
          "text": [
            "WARNING:absl:Compiled the loaded model, but the compiled metrics have yet to be built. `model.compile_metrics` will be empty until you train or evaluate the model.\n"
          ]
        },
        {
          "name": "stdout",
          "output_type": "stream",
          "text": [
            "\u001b[1m1/1\u001b[0m \u001b[32m━━━━━━━━━━━━━━━━━━━━\u001b[0m\u001b[37m\u001b[0m \u001b[1m0s\u001b[0m 63ms/step\n",
            "Prediction probabilities: [[0.97167856]]\n",
            "🚨 Fraudulent Transaction\n"
          ]
        }
      ],
      "source": [
        "import numpy as np\n",
        "from tensorflow.keras.models import load_model\n",
        "from sklearn.preprocessing import StandardScaler\n",
        "\n",
        "# Load your trained model\n",
        "model = load_model(\"fraud_detection_model.h5\")\n",
        "\n",
        "# Sample input (29 features)\n",
        "sample_input = [\n",
        "    1.951992011, -1.609850732, 3.997905588, -0.522187865, -1.426545319, -2.537387306,\n",
        "    1.391657248, -2.770089277, -2.772272145, 3.202033207, -2.899907388, -0.595221881,\n",
        "    -4.289253782, 0.38972412, -1.14074718, -2.830055675, -0.016822468, 0.416955705,\n",
        "    0.126910559, 0.517232371, -0.035049369, -0.465211076, 0.320198199, 0.044519167,\n",
        "    0.177839798, 0.261145003, -0.143275875, 0, 1\n",
        "]\n",
        "\n",
        "# Apply feature scaling if the model was trained on scaled features\n",
        "scaler = StandardScaler()\n",
        "sample_input_scaled = scaler.fit_transform([sample_input])  # Scaling the input\n",
        "\n",
        "# Prediction function\n",
        "def predict_fraud(*features):\n",
        "    input_data = np.array([features])  # Convert input to NumPy array\n",
        "\n",
        "    # Print the raw prediction probabilities for debugging\n",
        "    pred = model.predict(input_data)\n",
        "    print(f\"Prediction probabilities: {pred}\")  # Debugging output\n",
        "    \n",
        "    # Check if the model is outputting a single probability (sigmoid)\n",
        "    if pred.shape[1] == 1:\n",
        "        pred_fraud = pred[0][0]  # Probability of fraud (class 1)\n",
        "        pred_normal = 1 - pred_fraud  # Probability of normal (class 0)\n",
        "\n",
        "        # Adjust threshold and make a prediction\n",
        "        fraud_threshold = 0.6   # Lowered threshold for fraud prediction\n",
        "        if pred_normal > 0.7:\n",
        "            return \"✅ Normal Transaction\"\n",
        "        elif pred_fraud > fraud_threshold:\n",
        "            return \"🚨 Fraudulent Transaction\"\n",
        "        else:\n",
        "            return \"⚠️ Uncertain Prediction\"  # Return uncertain if both probabilities are close\n",
        "    else:\n",
        "        # If the model has two output probabilities (softmax), then:\n",
        "        pred_normal = pred[0][0]  # Probability of normal (class 0)\n",
        "        pred_fraud = pred[0][1]   # Probability of fraud (class 1)\n",
        "\n",
        "        if pred_normal > 0.7:\n",
        "            return \"✅ Normal Transaction\"\n",
        "        elif pred_fraud > 0.6:\n",
        "            return \"🚨 Fraudulent Transaction\"\n",
        "        else:\n",
        "            return \"⚠️ Uncertain Prediction\"\n",
        "\n",
        "# Example usage\n",
        "print(predict_fraud(*sample_input_scaled[0]))  # Using scaled input data\n"
      ]
    },
    {
      "cell_type": "code",
      "execution_count": 126,
      "metadata": {},
      "outputs": [
        {
          "name": "stderr",
          "output_type": "stream",
          "text": [
            "WARNING:absl:Compiled the loaded model, but the compiled metrics have yet to be built. `model.compile_metrics` will be empty until you train or evaluate the model.\n"
          ]
        },
        {
          "name": "stdout",
          "output_type": "stream",
          "text": [
            "* Running on local URL:  http://127.0.0.1:7869\n",
            "\n",
            "Could not create share link. Please check your internet connection or our status page: https://status.gradio.app.\n"
          ]
        },
        {
          "data": {
            "text/html": [
              "<div><iframe src=\"http://127.0.0.1:7869/\" width=\"100%\" height=\"500\" allow=\"autoplay; camera; microphone; clipboard-read; clipboard-write;\" frameborder=\"0\" allowfullscreen></iframe></div>"
            ],
            "text/plain": [
              "<IPython.core.display.HTML object>"
            ]
          },
          "metadata": {},
          "output_type": "display_data"
        },
        {
          "data": {
            "text/plain": []
          },
          "execution_count": 126,
          "metadata": {},
          "output_type": "execute_result"
        },
        {
          "name": "stdout",
          "output_type": "stream",
          "text": [
            "\u001b[1m1/1\u001b[0m \u001b[32m━━━━━━━━━━━━━━━━━━━━\u001b[0m\u001b[37m\u001b[0m \u001b[1m0s\u001b[0m 310ms/step\n",
            "Prediction probabilities: [[0.9998681]]\n"
          ]
        }
      ],
      "source": [
        "#FOR FRAUD SAMPLE TESTING\n",
        "\n",
        "import gradio as gr\n",
        "import numpy as np\n",
        "from tensorflow.keras.models import load_model\n",
        "from sklearn.preprocessing import StandardScaler\n",
        "\n",
        "# Load your trained model\n",
        "model = load_model(\"fraud_detection_model.h5\")\n",
        "\n",
        "# Sample input (29 features)\n",
        "sample_input = [\n",
        "    -2.312226542, 1.951992011, -1.609850732, 3.997905588, -0.522187865, -1.426545319, -2.537387306,\n",
        "    1.391657248, -2.770089277, -2.772272145, 3.202033207, -2.899907388, -0.595221881,\n",
        "    -4.289253782, 0.38972412, -1.14074718, -2.830055675, -0.016822468, 0.416955705,\n",
        "    0.126910559, 0.517232371, -0.035049369, -0.465211076, 0.320198199, 0.044519167,\n",
        "    0.177839798, 0.261145003, -0.143275875, 0, \n",
        "]\n",
        "\n",
        "# Apply feature scaling if the model was trained on scaled features\n",
        "scaler = StandardScaler()\n",
        "sample_input_scaled = scaler.fit_transform([sample_input])  # Scaling the input\n",
        "\n",
        "# Prediction function\n",
        "def predict_fraud(*features):\n",
        "    input_data = np.array([features])  # Convert input to NumPy array\n",
        "\n",
        "    # Print the raw prediction probabilities for debugging\n",
        "    pred = model.predict(input_data)\n",
        "    print(f\"Prediction probabilities: {pred}\")  # Debugging output\n",
        "    \n",
        "    # Check if the model is outputting a single probability (sigmoid)\n",
        "    if pred.shape[1] == 1:\n",
        "        pred_fraud = pred[0][0]  # Probability of fraud (class 1)\n",
        "        pred_normal = 1 - pred_fraud  # Probability of normal (class 0)\n",
        "\n",
        "        # Adjust threshold and make a prediction\n",
        "        fraud_threshold = 0.6   # Lowered threshold for fraud prediction\n",
        "        if pred_normal > 0.7:\n",
        "            return \"✅ Normal Transaction\"\n",
        "        elif pred_fraud > fraud_threshold:\n",
        "            return \"🚨 Fraudulent Transaction\"\n",
        "        else:\n",
        "            return \"⚠️ Uncertain Prediction\"  # Return uncertain if both probabilities are close\n",
        "    else:\n",
        "        # If the model has two output probabilities (softmax), then:\n",
        "        pred_normal = pred[0][0]  # Probability of normal (class 0)\n",
        "        pred_fraud = pred[0][1]   # Probability of fraud (class 1)\n",
        "\n",
        "        if pred_normal > 0.7:\n",
        "            return \"✅ Normal Transaction\"\n",
        "        elif pred_fraud > 0.6:\n",
        "            return \"🚨 Fraudulent Transaction\"\n",
        "        else:\n",
        "            return \"⚠️ Uncertain Prediction\"\n",
        "\n",
        "# Gradio Interface Function\n",
        "def gradio_interface(*features):\n",
        "    return predict_fraud(*features)\n",
        "\n",
        "# Define the input fields for Gradio\n",
        "inputs = [\n",
        "    gr.Number(label=f\"Feature {i+1}\", value=sample_input[i], interactive=True) \n",
        "    for i in range(29)\n",
        "]\n",
        "\n",
        "# Define the output as a textbox\n",
        "output = gr.Textbox(label=\"Prediction Result\")\n",
        "\n",
        "# Create the Gradio interface with a button\n",
        "with gr.Blocks() as iface:\n",
        "    gr.Markdown(\n",
        "        \"\"\"\n",
        "        # 🛡️ **Fraud Detection System**\n",
        "        **Enter transaction features below and click 'Predict' to check if it's fraudulent or not.**\n",
        "        \"\"\"\n",
        "    )\n",
        "\n",
        "    with gr.Row():\n",
        "        with gr.Column():\n",
        "            for field in inputs:\n",
        "                field.render()\n",
        "\n",
        "    predict_button = gr.Button(\"🔍 Detect Fraud\")\n",
        "    output_text = gr.Textbox(label=\"Prediction Result\", interactive=False)\n",
        "\n",
        "    predict_button.click(fn=gradio_interface, inputs=inputs, outputs=output_text)\n",
        "\n",
        "# Launch the Gradio interface\n",
        "iface.launch(inbrowser=True, share=True)\n"
      ]
    },
    {
      "cell_type": "code",
      "execution_count": 125,
      "metadata": {},
      "outputs": [
        {
          "name": "stderr",
          "output_type": "stream",
          "text": [
            "WARNING:absl:Compiled the loaded model, but the compiled metrics have yet to be built. `model.compile_metrics` will be empty until you train or evaluate the model.\n"
          ]
        },
        {
          "name": "stdout",
          "output_type": "stream",
          "text": [
            "* Running on local URL:  http://127.0.0.1:7868\n",
            "\n",
            "Could not create share link. Please check your internet connection or our status page: https://status.gradio.app.\n"
          ]
        },
        {
          "data": {
            "text/html": [
              "<div><iframe src=\"http://127.0.0.1:7868/\" width=\"100%\" height=\"500\" allow=\"autoplay; camera; microphone; clipboard-read; clipboard-write;\" frameborder=\"0\" allowfullscreen></iframe></div>"
            ],
            "text/plain": [
              "<IPython.core.display.HTML object>"
            ]
          },
          "metadata": {},
          "output_type": "display_data"
        },
        {
          "data": {
            "text/plain": []
          },
          "execution_count": 125,
          "metadata": {},
          "output_type": "execute_result"
        },
        {
          "name": "stdout",
          "output_type": "stream",
          "text": [
            "\u001b[1m1/1\u001b[0m \u001b[32m━━━━━━━━━━━━━━━━━━━━\u001b[0m\u001b[37m\u001b[0m \u001b[1m0s\u001b[0m 343ms/step\n",
            "Prediction probabilities: [[0.]]\n"
          ]
        }
      ],
      "source": [
        "\n",
        "#FOR NORMAL SAMPLE TESTING\n",
        "\n",
        "import gradio as gr\n",
        "import numpy as np\n",
        "from tensorflow.keras.models import load_model\n",
        "from sklearn.preprocessing import StandardScaler\n",
        "\n",
        "# Load your trained model\n",
        "model = load_model(\"fraud_detection_model.h5\")\n",
        "\n",
        "# Sample input (29 features)\n",
        "sample_input =  [-0.918109392, 0.798542201, 1.753494095, -0.576985397, -0.554779916, 0.119541872,\n",
        "                1.096152572, -0.114590681, -0.213291346, -0.742606972, -0.138749708, 0.59989904,\n",
        "                1.20891998, -0.381499679, 0.716385076, 0.472986514, -0.684815917, -0.649251557,\n",
        "                -1.378950893, -0.205694727, 0.050748124, 0.201314131, 0.023567543, 0.107428413,\n",
        "                -0.464465515, 0.004938474, -0.068013275, 0.093834319, 146.25 ]\n",
        "\n",
        "# Apply feature scaling if the model was trained on scaled features\n",
        "scaler = StandardScaler()\n",
        "sample_input_scaled = scaler.fit_transform([sample_input])  # Scaling the input\n",
        "\n",
        "# Prediction function\n",
        "def predict_fraud(*features):\n",
        "    input_data = np.array([features])  # Convert input to NumPy array\n",
        "\n",
        "    # Print the raw prediction probabilities for debugging\n",
        "    pred = model.predict(input_data)\n",
        "    print(f\"Prediction probabilities: {pred}\")  # Debugging output\n",
        "    \n",
        "    # Check if the model is outputting a single probability (sigmoid)\n",
        "    if pred.shape[1] == 1:\n",
        "        pred_fraud = pred[0][0]  # Probability of fraud (class 1)\n",
        "        pred_normal = 1 - pred_fraud  # Probability of normal (class 0)\n",
        "\n",
        "        # Adjust threshold and make a prediction\n",
        "        fraud_threshold = 0.6   # Lowered threshold for fraud prediction\n",
        "        if pred_normal > 0.7:\n",
        "            return \"✅ Normal Transaction\"\n",
        "        elif pred_fraud > fraud_threshold:\n",
        "            return \"🚨 Fraudulent Transaction\"\n",
        "        else:\n",
        "            return \"⚠️ Uncertain Prediction\"  # Return uncertain if both probabilities are close\n",
        "    else:\n",
        "        # If the model has two output probabilities (softmax), then:\n",
        "        pred_normal = pred[0][0]  # Probability of normal (class 0)\n",
        "        pred_fraud = pred[0][1]   # Probability of fraud (class 1)\n",
        "\n",
        "        if pred_normal > 0.7:\n",
        "            return \"✅ Normal Transaction\"\n",
        "        elif pred_fraud > 0.6:\n",
        "            return \"🚨 Fraudulent Transaction\"\n",
        "        else:\n",
        "            return \"⚠️ Uncertain Prediction\"\n",
        "\n",
        "# Gradio Interface Function\n",
        "def gradio_interface(*features):\n",
        "    return predict_fraud(*features)\n",
        "\n",
        "# Define the input fields for Gradio\n",
        "inputs = [\n",
        "    gr.Number(label=f\"Feature {i+1}\", value=sample_input[i], interactive=True) \n",
        "    for i in range(29)\n",
        "]\n",
        "\n",
        "# Define the output as a textbox\n",
        "output = gr.Textbox(label=\"Prediction Result\")\n",
        "\n",
        "# Create the Gradio interface with a button\n",
        "with gr.Blocks() as iface:\n",
        "    gr.Markdown(\n",
        "        \"\"\"\n",
        "        # 🛡️ **Fraud Detection System**\n",
        "        **Enter transaction features below and click 'Predict' to check if it's fraudulent or not.**\n",
        "        \"\"\"\n",
        "    )\n",
        "\n",
        "    with gr.Row():\n",
        "        with gr.Column():\n",
        "            for field in inputs:\n",
        "                field.render()\n",
        "\n",
        "    predict_button = gr.Button(\"🔍 Detect Fraud\")\n",
        "    output_text = gr.Textbox(label=\"Prediction Result\", interactive=False)\n",
        "\n",
        "    predict_button.click(fn=gradio_interface, inputs=inputs, outputs=output_text)\n",
        "\n",
        "# Launch the Gradio interface\n",
        "iface.launch(inbrowser=True, share=True)\n"
      ]
    },
    {
      "cell_type": "code",
      "execution_count": null,
      "metadata": {},
      "outputs": [],
      "source": []
    }
  ],
  "metadata": {
    "colab": {
      "provenance": [],
      "toc_visible": true
    },
    "kernelspec": {
      "display_name": "Python 3",
      "language": "python",
      "name": "python3"
    },
    "language_info": {
      "codemirror_mode": {
        "name": "ipython",
        "version": 3
      },
      "file_extension": ".py",
      "mimetype": "text/x-python",
      "name": "python",
      "nbconvert_exporter": "python",
      "pygments_lexer": "ipython3",
      "version": "3.11.7"
    }
  },
  "nbformat": 4,
  "nbformat_minor": 0
}
